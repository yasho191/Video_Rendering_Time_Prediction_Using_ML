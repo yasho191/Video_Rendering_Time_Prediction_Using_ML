{
 "cells": [
  {
   "cell_type": "code",
   "execution_count": 41,
   "metadata": {},
   "outputs": [],
   "source": [
    "import pandas as pd\n",
    "import numpy as np\n",
    "import matplotlib.pyplot as plt\n",
    "import seaborn as sns"
   ]
  },
  {
   "cell_type": "code",
   "execution_count": 42,
   "metadata": {},
   "outputs": [
    {
     "name": "stderr",
     "output_type": "stream",
     "text": [
      "c:\\users\\hp\\appdata\\local\\programs\\python\\python37\\lib\\site-packages\\IPython\\core\\interactiveshell.py:3146: DtypeWarning: Columns (3,4,6,7,10,11,12,13,14,17,18,21) have mixed types.Specify dtype option on import or set low_memory=False.\n",
      "  interactivity=interactivity, compiler=compiler, result=result)\n"
     ]
    },
    {
     "data": {
      "text/html": [
       "<div>\n",
       "<style scoped>\n",
       "    .dataframe tbody tr th:only-of-type {\n",
       "        vertical-align: middle;\n",
       "    }\n",
       "\n",
       "    .dataframe tbody tr th {\n",
       "        vertical-align: top;\n",
       "    }\n",
       "\n",
       "    .dataframe thead th {\n",
       "        text-align: right;\n",
       "    }\n",
       "</style>\n",
       "<table border=\"1\" class=\"dataframe\">\n",
       "  <thead>\n",
       "    <tr style=\"text-align: right;\">\n",
       "      <th></th>\n",
       "      <th>id</th>\n",
       "      <th>video_duration</th>\n",
       "      <th>coding_standard</th>\n",
       "      <th>width</th>\n",
       "      <th>height</th>\n",
       "      <th>bitrate</th>\n",
       "      <th>framerate</th>\n",
       "      <th>i_frames</th>\n",
       "      <th>p_frames</th>\n",
       "      <th>b_frames</th>\n",
       "      <th>...</th>\n",
       "      <th>p_size</th>\n",
       "      <th>b_size</th>\n",
       "      <th>size</th>\n",
       "      <th>coding_standard_output</th>\n",
       "      <th>bitrate_output</th>\n",
       "      <th>framerate_output</th>\n",
       "      <th>output_width</th>\n",
       "      <th>output_height</th>\n",
       "      <th>allocated _memory</th>\n",
       "      <th>total_processing_time</th>\n",
       "    </tr>\n",
       "  </thead>\n",
       "  <tbody>\n",
       "    <tr>\n",
       "      <th>0</th>\n",
       "      <td>1</td>\n",
       "      <td>131.760000</td>\n",
       "      <td>vp8</td>\n",
       "      <td>640</td>\n",
       "      <td>480</td>\n",
       "      <td>104723.0</td>\n",
       "      <td>25.145</td>\n",
       "      <td>37</td>\n",
       "      <td>3257.0</td>\n",
       "      <td>0.0</td>\n",
       "      <td>...</td>\n",
       "      <td>778937</td>\n",
       "      <td>0</td>\n",
       "      <td>1.7248e+06</td>\n",
       "      <td>flv</td>\n",
       "      <td>539000.0</td>\n",
       "      <td>24</td>\n",
       "      <td>640</td>\n",
       "      <td>480.0</td>\n",
       "      <td>221152.0</td>\n",
       "      <td>1.048</td>\n",
       "    </tr>\n",
       "    <tr>\n",
       "      <th>1</th>\n",
       "      <td>2</td>\n",
       "      <td>189.956000</td>\n",
       "      <td>flv</td>\n",
       "      <td>320</td>\n",
       "      <td>240</td>\n",
       "      <td>231296.0</td>\n",
       "      <td>29</td>\n",
       "      <td>97</td>\n",
       "      <td>5597.0</td>\n",
       "      <td>0.0</td>\n",
       "      <td>...</td>\n",
       "      <td>4.91173e+06</td>\n",
       "      <td>0</td>\n",
       "      <td>5.49203e+06</td>\n",
       "      <td>flv</td>\n",
       "      <td>109000.0</td>\n",
       "      <td>29.97</td>\n",
       "      <td>320</td>\n",
       "      <td>240.0</td>\n",
       "      <td>218664.0</td>\n",
       "      <td>-0.468</td>\n",
       "    </tr>\n",
       "    <tr>\n",
       "      <th>2</th>\n",
       "      <td>3</td>\n",
       "      <td>110.966995</td>\n",
       "      <td>h264</td>\n",
       "      <td>480</td>\n",
       "      <td>360</td>\n",
       "      <td>NaN</td>\n",
       "      <td>30</td>\n",
       "      <td>59</td>\n",
       "      <td>3271.0</td>\n",
       "      <td>0.0</td>\n",
       "      <td>...</td>\n",
       "      <td>4.97866e+06</td>\n",
       "      <td>0</td>\n",
       "      <td>5.50829e+06</td>\n",
       "      <td>h264</td>\n",
       "      <td>56000.0</td>\n",
       "      <td>15</td>\n",
       "      <td>320</td>\n",
       "      <td>240.0</td>\n",
       "      <td>216820.0</td>\n",
       "      <td>3.696</td>\n",
       "    </tr>\n",
       "    <tr>\n",
       "      <th>3</th>\n",
       "      <td>4</td>\n",
       "      <td>95.462000</td>\n",
       "      <td>h264</td>\n",
       "      <td>640</td>\n",
       "      <td>480</td>\n",
       "      <td>809256.0</td>\n",
       "      <td>29</td>\n",
       "      <td>51</td>\n",
       "      <td>2811.0</td>\n",
       "      <td>0.0</td>\n",
       "      <td>...</td>\n",
       "      <td>8.77016e+06</td>\n",
       "      <td>0</td>\n",
       "      <td>9.65666e+06</td>\n",
       "      <td>vp8</td>\n",
       "      <td>109000.0</td>\n",
       "      <td>12</td>\n",
       "      <td>320</td>\n",
       "      <td>240.0</td>\n",
       "      <td>221160.0</td>\n",
       "      <td>3.452</td>\n",
       "    </tr>\n",
       "    <tr>\n",
       "      <th>4</th>\n",
       "      <td>5</td>\n",
       "      <td>63.667000</td>\n",
       "      <td>h264</td>\n",
       "      <td>640</td>\n",
       "      <td>480</td>\n",
       "      <td>972572.0</td>\n",
       "      <td>15</td>\n",
       "      <td>33</td>\n",
       "      <td>923.0</td>\n",
       "      <td>0.0</td>\n",
       "      <td>...</td>\n",
       "      <td>6.48044e+06</td>\n",
       "      <td>0</td>\n",
       "      <td>7.7401e+06</td>\n",
       "      <td>flv</td>\n",
       "      <td>56000.0</td>\n",
       "      <td>24</td>\n",
       "      <td>1280</td>\n",
       "      <td>720.0</td>\n",
       "      <td>219656.0</td>\n",
       "      <td>2.692</td>\n",
       "    </tr>\n",
       "  </tbody>\n",
       "</table>\n",
       "<p>5 rows × 22 columns</p>\n",
       "</div>"
      ],
      "text/plain": [
       "   id  video_duration coding_standard width height   bitrate framerate  \\\n",
       "0   1      131.760000             vp8   640    480  104723.0    25.145   \n",
       "1   2      189.956000             flv   320    240  231296.0        29   \n",
       "2   3      110.966995            h264   480    360       NaN        30   \n",
       "3   4       95.462000            h264   640    480  809256.0        29   \n",
       "4   5       63.667000            h264   640    480  972572.0        15   \n",
       "\n",
       "  i_frames  p_frames  b_frames  ...       p_size b_size         size  \\\n",
       "0       37    3257.0       0.0  ...       778937      0   1.7248e+06   \n",
       "1       97    5597.0       0.0  ...  4.91173e+06      0  5.49203e+06   \n",
       "2       59    3271.0       0.0  ...  4.97866e+06      0  5.50829e+06   \n",
       "3       51    2811.0       0.0  ...  8.77016e+06      0  9.65666e+06   \n",
       "4       33     923.0       0.0  ...  6.48044e+06      0   7.7401e+06   \n",
       "\n",
       "  coding_standard_output bitrate_output framerate_output  output_width  \\\n",
       "0                    flv       539000.0               24           640   \n",
       "1                    flv       109000.0            29.97           320   \n",
       "2                   h264        56000.0               15           320   \n",
       "3                    vp8       109000.0               12           320   \n",
       "4                    flv        56000.0               24          1280   \n",
       "\n",
       "  output_height allocated _memory  total_processing_time  \n",
       "0         480.0          221152.0                  1.048  \n",
       "1         240.0          218664.0                 -0.468  \n",
       "2         240.0          216820.0                  3.696  \n",
       "3         240.0          221160.0                  3.452  \n",
       "4         720.0          219656.0                  2.692  \n",
       "\n",
       "[5 rows x 22 columns]"
      ]
     },
     "execution_count": 42,
     "metadata": {},
     "output_type": "execute_result"
    }
   ],
   "source": [
    "df = pd.read_csv(\"train.csv\")\n",
    "df.head()"
   ]
  },
  {
   "cell_type": "code",
   "execution_count": 43,
   "metadata": {},
   "outputs": [
    {
     "data": {
      "text/html": [
       "<div>\n",
       "<style scoped>\n",
       "    .dataframe tbody tr th:only-of-type {\n",
       "        vertical-align: middle;\n",
       "    }\n",
       "\n",
       "    .dataframe tbody tr th {\n",
       "        vertical-align: top;\n",
       "    }\n",
       "\n",
       "    .dataframe thead th {\n",
       "        text-align: right;\n",
       "    }\n",
       "</style>\n",
       "<table border=\"1\" class=\"dataframe\">\n",
       "  <thead>\n",
       "    <tr style=\"text-align: right;\">\n",
       "      <th></th>\n",
       "      <th>id</th>\n",
       "      <th>video_duration</th>\n",
       "      <th>bitrate</th>\n",
       "      <th>p_frames</th>\n",
       "      <th>b_frames</th>\n",
       "      <th>bitrate_output</th>\n",
       "      <th>output_height</th>\n",
       "      <th>allocated _memory</th>\n",
       "    </tr>\n",
       "  </thead>\n",
       "  <tbody>\n",
       "    <tr>\n",
       "      <th>count</th>\n",
       "      <td>48150.000000</td>\n",
       "      <td>48137.000000</td>\n",
       "      <td>4.813800e+04</td>\n",
       "      <td>48125.000000</td>\n",
       "      <td>48145.000000</td>\n",
       "      <td>4.812800e+04</td>\n",
       "      <td>48135.00000</td>\n",
       "      <td>4.813000e+04</td>\n",
       "    </tr>\n",
       "    <tr>\n",
       "      <th>mean</th>\n",
       "      <td>24075.500000</td>\n",
       "      <td>286.398789</td>\n",
       "      <td>6.926718e+05</td>\n",
       "      <td>6530.854483</td>\n",
       "      <td>8.703666</td>\n",
       "      <td>1.428838e+07</td>\n",
       "      <td>519.39919</td>\n",
       "      <td>8.221118e+05</td>\n",
       "    </tr>\n",
       "    <tr>\n",
       "      <th>std</th>\n",
       "      <td>13899.852068</td>\n",
       "      <td>294.088513</td>\n",
       "      <td>1.094609e+06</td>\n",
       "      <td>6111.190606</td>\n",
       "      <td>90.733736</td>\n",
       "      <td>2.562983e+09</td>\n",
       "      <td>2098.55597</td>\n",
       "      <td>8.263332e+07</td>\n",
       "    </tr>\n",
       "    <tr>\n",
       "      <th>min</th>\n",
       "      <td>1.000000</td>\n",
       "      <td>31.080000</td>\n",
       "      <td>-3.971120e+05</td>\n",
       "      <td>-5974.000000</td>\n",
       "      <td>-44.000000</td>\n",
       "      <td>0.000000e+00</td>\n",
       "      <td>-720.00000</td>\n",
       "      <td>-8.643220e+05</td>\n",
       "    </tr>\n",
       "    <tr>\n",
       "      <th>25%</th>\n",
       "      <td>12038.250000</td>\n",
       "      <td>106.765000</td>\n",
       "      <td>1.343340e+05</td>\n",
       "      <td>2329.000000</td>\n",
       "      <td>0.000000</td>\n",
       "      <td>1.090000e+05</td>\n",
       "      <td>240.00000</td>\n",
       "      <td>2.168200e+05</td>\n",
       "    </tr>\n",
       "    <tr>\n",
       "      <th>50%</th>\n",
       "      <td>24075.500000</td>\n",
       "      <td>239.141660</td>\n",
       "      <td>2.911500e+05</td>\n",
       "      <td>5515.000000</td>\n",
       "      <td>0.000000</td>\n",
       "      <td>5.390000e+05</td>\n",
       "      <td>360.00000</td>\n",
       "      <td>2.194800e+05</td>\n",
       "    </tr>\n",
       "    <tr>\n",
       "      <th>75%</th>\n",
       "      <td>36112.750000</td>\n",
       "      <td>379.320000</td>\n",
       "      <td>6.529670e+05</td>\n",
       "      <td>9155.000000</td>\n",
       "      <td>0.000000</td>\n",
       "      <td>3.000000e+06</td>\n",
       "      <td>720.00000</td>\n",
       "      <td>2.196560e+05</td>\n",
       "    </tr>\n",
       "    <tr>\n",
       "      <th>max</th>\n",
       "      <td>48150.000000</td>\n",
       "      <td>25844.086000</td>\n",
       "      <td>6.010942e+06</td>\n",
       "      <td>304959.000000</td>\n",
       "      <td>9407.000000</td>\n",
       "      <td>5.600000e+11</td>\n",
       "      <td>360000.00000</td>\n",
       "      <td>1.656680e+10</td>\n",
       "    </tr>\n",
       "  </tbody>\n",
       "</table>\n",
       "</div>"
      ],
      "text/plain": [
       "                 id  video_duration       bitrate       p_frames  \\\n",
       "count  48150.000000    48137.000000  4.813800e+04   48125.000000   \n",
       "mean   24075.500000      286.398789  6.926718e+05    6530.854483   \n",
       "std    13899.852068      294.088513  1.094609e+06    6111.190606   \n",
       "min        1.000000       31.080000 -3.971120e+05   -5974.000000   \n",
       "25%    12038.250000      106.765000  1.343340e+05    2329.000000   \n",
       "50%    24075.500000      239.141660  2.911500e+05    5515.000000   \n",
       "75%    36112.750000      379.320000  6.529670e+05    9155.000000   \n",
       "max    48150.000000    25844.086000  6.010942e+06  304959.000000   \n",
       "\n",
       "           b_frames  bitrate_output  output_height  allocated _memory  \n",
       "count  48145.000000    4.812800e+04    48135.00000       4.813000e+04  \n",
       "mean       8.703666    1.428838e+07      519.39919       8.221118e+05  \n",
       "std       90.733736    2.562983e+09     2098.55597       8.263332e+07  \n",
       "min      -44.000000    0.000000e+00     -720.00000      -8.643220e+05  \n",
       "25%        0.000000    1.090000e+05      240.00000       2.168200e+05  \n",
       "50%        0.000000    5.390000e+05      360.00000       2.194800e+05  \n",
       "75%        0.000000    3.000000e+06      720.00000       2.196560e+05  \n",
       "max     9407.000000    5.600000e+11   360000.00000       1.656680e+10  "
      ]
     },
     "execution_count": 43,
     "metadata": {},
     "output_type": "execute_result"
    }
   ],
   "source": [
    "df.describe()"
   ]
  },
  {
   "cell_type": "code",
   "execution_count": 44,
   "metadata": {},
   "outputs": [
    {
     "data": {
      "text/plain": [
       "id                         0\n",
       "video_duration            13\n",
       "coding_standard            8\n",
       "width                     20\n",
       "height                     6\n",
       "bitrate                   12\n",
       "framerate                 17\n",
       "i_frames                   9\n",
       "p_frames                  25\n",
       "b_frames                   5\n",
       "frames                    21\n",
       "i_size                    30\n",
       "p_size                    35\n",
       "b_size                     0\n",
       "size                      32\n",
       "coding_standard_output    37\n",
       "bitrate_output            22\n",
       "framerate_output           8\n",
       "output_width               7\n",
       "output_height             15\n",
       "allocated _memory         20\n",
       "total_processing_time      3\n",
       "dtype: int64"
      ]
     },
     "execution_count": 44,
     "metadata": {},
     "output_type": "execute_result"
    }
   ],
   "source": [
    "df.isnull().sum()"
   ]
  },
  {
   "cell_type": "code",
   "execution_count": 45,
   "metadata": {},
   "outputs": [],
   "source": [
    "def replace_nan():\n",
    "    for i in range(1, 22):\n",
    "        try:\n",
    "            mean = df.iloc[:, i].mean(skipna=True)\n",
    "            df.iloc[:, i].fillna(mean, inplace = True)\n",
    "        except TypeError:\n",
    "            pass\n",
    "        \n",
    "replace_nan()\n",
    "df.dropna(inplace=True)"
   ]
  },
  {
   "cell_type": "code",
   "execution_count": 46,
   "metadata": {},
   "outputs": [
    {
     "data": {
      "text/plain": [
       "id                        0\n",
       "video_duration            0\n",
       "coding_standard           0\n",
       "width                     0\n",
       "height                    0\n",
       "bitrate                   0\n",
       "framerate                 0\n",
       "i_frames                  0\n",
       "p_frames                  0\n",
       "b_frames                  0\n",
       "frames                    0\n",
       "i_size                    0\n",
       "p_size                    0\n",
       "b_size                    0\n",
       "size                      0\n",
       "coding_standard_output    0\n",
       "bitrate_output            0\n",
       "framerate_output          0\n",
       "output_width              0\n",
       "output_height             0\n",
       "allocated _memory         0\n",
       "total_processing_time     0\n",
       "dtype: int64"
      ]
     },
     "execution_count": 46,
     "metadata": {},
     "output_type": "execute_result"
    }
   ],
   "source": [
    "df.isnull().sum()"
   ]
  },
  {
   "cell_type": "code",
   "execution_count": 47,
   "metadata": {},
   "outputs": [
    {
     "data": {
      "text/plain": [
       "id                          int64\n",
       "video_duration            float64\n",
       "coding_standard            object\n",
       "width                      object\n",
       "height                     object\n",
       "bitrate                   float64\n",
       "framerate                  object\n",
       "i_frames                   object\n",
       "p_frames                  float64\n",
       "b_frames                  float64\n",
       "frames                     object\n",
       "i_size                     object\n",
       "p_size                     object\n",
       "b_size                     object\n",
       "size                       object\n",
       "coding_standard_output     object\n",
       "bitrate_output            float64\n",
       "framerate_output           object\n",
       "output_width               object\n",
       "output_height             float64\n",
       "allocated _memory         float64\n",
       "total_processing_time      object\n",
       "dtype: object"
      ]
     },
     "execution_count": 47,
     "metadata": {},
     "output_type": "execute_result"
    }
   ],
   "source": [
    "df.dtypes"
   ]
  },
  {
   "cell_type": "code",
   "execution_count": 48,
   "metadata": {},
   "outputs": [],
   "source": [
    "df = df[df['total_processing_time'] != '#NAME?']\n",
    "df = df[(df['coding_standard_output'] != '0')]"
   ]
  },
  {
   "cell_type": "code",
   "execution_count": 49,
   "metadata": {},
   "outputs": [],
   "source": [
    "names = ['video_duration', 'coding_standard', 'width', 'height', 'bitrate',\n",
    "       'framerate', 'i_frames', 'p_frames', 'b_frames', 'frames', 'i_size',\n",
    "       'p_size', 'b_size', 'size', 'coding_standard_output', 'bitrate_output',\n",
    "       'framerate_output', 'output_width', 'output_height',\n",
    "       'allocated _memory', 'total_processing_time']"
   ]
  },
  {
   "cell_type": "code",
   "execution_count": 50,
   "metadata": {},
   "outputs": [
    {
     "name": "stderr",
     "output_type": "stream",
     "text": [
      "c:\\users\\hp\\appdata\\local\\programs\\python\\python37\\lib\\site-packages\\pandas\\core\\computation\\expressions.py:68: FutureWarning: elementwise comparison failed; returning scalar instead, but in the future will perform elementwise comparison\n",
      "  return op(a, b)\n",
      "c:\\users\\hp\\appdata\\local\\programs\\python\\python37\\lib\\site-packages\\pandas\\core\\computation\\expressions.py:68: FutureWarning: elementwise comparison failed; returning scalar instead, but in the future will perform elementwise comparison\n",
      "  return op(a, b)\n",
      "c:\\users\\hp\\appdata\\local\\programs\\python\\python37\\lib\\site-packages\\pandas\\core\\computation\\expressions.py:68: FutureWarning: elementwise comparison failed; returning scalar instead, but in the future will perform elementwise comparison\n",
      "  return op(a, b)\n",
      "c:\\users\\hp\\appdata\\local\\programs\\python\\python37\\lib\\site-packages\\pandas\\core\\computation\\expressions.py:68: FutureWarning: elementwise comparison failed; returning scalar instead, but in the future will perform elementwise comparison\n",
      "  return op(a, b)\n",
      "c:\\users\\hp\\appdata\\local\\programs\\python\\python37\\lib\\site-packages\\pandas\\core\\computation\\expressions.py:68: FutureWarning: elementwise comparison failed; returning scalar instead, but in the future will perform elementwise comparison\n",
      "  return op(a, b)\n",
      "c:\\users\\hp\\appdata\\local\\programs\\python\\python37\\lib\\site-packages\\pandas\\core\\computation\\expressions.py:68: FutureWarning: elementwise comparison failed; returning scalar instead, but in the future will perform elementwise comparison\n",
      "  return op(a, b)\n",
      "c:\\users\\hp\\appdata\\local\\programs\\python\\python37\\lib\\site-packages\\pandas\\core\\computation\\expressions.py:68: FutureWarning: elementwise comparison failed; returning scalar instead, but in the future will perform elementwise comparison\n",
      "  return op(a, b)\n",
      "c:\\users\\hp\\appdata\\local\\programs\\python\\python37\\lib\\site-packages\\pandas\\core\\computation\\expressions.py:68: FutureWarning: elementwise comparison failed; returning scalar instead, but in the future will perform elementwise comparison\n",
      "  return op(a, b)\n",
      "c:\\users\\hp\\appdata\\local\\programs\\python\\python37\\lib\\site-packages\\pandas\\core\\computation\\expressions.py:68: FutureWarning: elementwise comparison failed; returning scalar instead, but in the future will perform elementwise comparison\n",
      "  return op(a, b)\n",
      "c:\\users\\hp\\appdata\\local\\programs\\python\\python37\\lib\\site-packages\\pandas\\core\\computation\\expressions.py:68: FutureWarning: elementwise comparison failed; returning scalar instead, but in the future will perform elementwise comparison\n",
      "  return op(a, b)\n",
      "c:\\users\\hp\\appdata\\local\\programs\\python\\python37\\lib\\site-packages\\pandas\\core\\computation\\expressions.py:68: FutureWarning: elementwise comparison failed; returning scalar instead, but in the future will perform elementwise comparison\n",
      "  return op(a, b)\n",
      "c:\\users\\hp\\appdata\\local\\programs\\python\\python37\\lib\\site-packages\\pandas\\core\\computation\\expressions.py:68: FutureWarning: elementwise comparison failed; returning scalar instead, but in the future will perform elementwise comparison\n",
      "  return op(a, b)\n",
      "c:\\users\\hp\\appdata\\local\\programs\\python\\python37\\lib\\site-packages\\pandas\\core\\computation\\expressions.py:68: FutureWarning: elementwise comparison failed; returning scalar instead, but in the future will perform elementwise comparison\n",
      "  return op(a, b)\n",
      "c:\\users\\hp\\appdata\\local\\programs\\python\\python37\\lib\\site-packages\\pandas\\core\\computation\\expressions.py:68: FutureWarning: elementwise comparison failed; returning scalar instead, but in the future will perform elementwise comparison\n",
      "  return op(a, b)\n"
     ]
    }
   ],
   "source": [
    "for i in names:\n",
    "    df = df[df[i] != '#NAME?']\n",
    "    df = df[df[i] != '-']"
   ]
  },
  {
   "cell_type": "code",
   "execution_count": 51,
   "metadata": {},
   "outputs": [],
   "source": [
    "for i in names:\n",
    "    try:\n",
    "        df[i] = pd.to_numeric(df[i], downcast = \"float\")\n",
    "    except:\n",
    "        continue"
   ]
  },
  {
   "cell_type": "code",
   "execution_count": 52,
   "metadata": {},
   "outputs": [
    {
     "data": {
      "text/plain": [
       "id                          int64\n",
       "video_duration            float32\n",
       "coding_standard            object\n",
       "width                     float32\n",
       "height                    float32\n",
       "bitrate                   float32\n",
       "framerate                 float32\n",
       "i_frames                  float32\n",
       "p_frames                  float32\n",
       "b_frames                  float32\n",
       "frames                    float32\n",
       "i_size                    float32\n",
       "p_size                    float32\n",
       "b_size                    float32\n",
       "size                      float32\n",
       "coding_standard_output     object\n",
       "bitrate_output            float32\n",
       "framerate_output          float32\n",
       "output_width              float32\n",
       "output_height             float32\n",
       "allocated _memory         float32\n",
       "total_processing_time     float32\n",
       "dtype: object"
      ]
     },
     "execution_count": 52,
     "metadata": {},
     "output_type": "execute_result"
    }
   ],
   "source": [
    "df.dtypes"
   ]
  },
  {
   "cell_type": "code",
   "execution_count": 53,
   "metadata": {},
   "outputs": [
    {
     "data": {
      "text/plain": [
       "<AxesSubplot:>"
      ]
     },
     "execution_count": 53,
     "metadata": {},
     "output_type": "execute_result"
    },
    {
     "data": {
      "image/png": "[encoded data removed]",
      "text/plain": [
       "<Figure size 1440x720 with 2 Axes>"
      ]
     },
     "metadata": {
      "needs_background": "light"
     },
     "output_type": "display_data"
    }
   ],
   "source": [
    "fig = plt.figure(figsize = (20, 10))\n",
    "sns.heatmap(df.corr(), annot = True)"
   ]
  },
  {
   "cell_type": "code",
   "execution_count": 14,
   "metadata": {},
   "outputs": [
    {
     "name": "stdout",
     "output_type": "stream",
     "text": [
      "video_duration\n"
     ]
    },
    {
     "data": {
      "image/png": "[encoded data removed]",
      "text/plain": [
       "<Figure size 1440x360 with 1 Axes>"
      ]
     },
     "metadata": {
      "needs_background": "light"
     },
     "output_type": "display_data"
    },
    {
     "name": "stdout",
     "output_type": "stream",
     "text": [
      "coding_standard\n",
      "Categorical Data\n",
      "width\n"
     ]
    },
    {
     "data": {
      "image/png": "[encoded data removed]",
      "text/plain": [
       "<Figure size 432x288 with 1 Axes>"
      ]
     },
     "metadata": {
      "needs_background": "light"
     },
     "output_type": "display_data"
    },
    {
     "name": "stdout",
     "output_type": "stream",
     "text": [
      "height\n"
     ]
    },
    {
     "data": {
      "image/png": "[encoded data removed]",
      "text/plain": [
       "<Figure size 432x288 with 1 Axes>"
      ]
     },
     "metadata": {
      "needs_background": "light"
     },
     "output_type": "display_data"
    },
    {
     "name": "stdout",
     "output_type": "stream",
     "text": [
      "bitrate\n"
     ]
    },
    {
     "data": {
      "image/png": "[encoded data removed]",
      "text/plain": [
       "<Figure size 432x288 with 1 Axes>"
      ]
     },
     "metadata": {
      "needs_background": "light"
     },
     "output_type": "display_data"
    },
    {
     "name": "stdout",
     "output_type": "stream",
     "text": [
      "framerate\n"
     ]
    },
    {
     "data": {
      "image/png": "[encoded data removed]",
      "text/plain": [
       "<Figure size 432x288 with 1 Axes>"
      ]
     },
     "metadata": {
      "needs_background": "light"
     },
     "output_type": "display_data"
    },
    {
     "name": "stdout",
     "output_type": "stream",
     "text": [
      "i_frames\n"
     ]
    },
    {
     "data": {
      "image/png": "[encoded data removed]",
      "text/plain": [
       "<Figure size 432x288 with 1 Axes>"
      ]
     },
     "metadata": {
      "needs_background": "light"
     },
     "output_type": "display_data"
    },
    {
     "name": "stdout",
     "output_type": "stream",
     "text": [
      "p_frames\n"
     ]
    },
    {
     "data": {
      "image/png": "[encoded data removed]",
      "text/plain": [
       "<Figure size 432x288 with 1 Axes>"
      ]
     },
     "metadata": {
      "needs_background": "light"
     },
     "output_type": "display_data"
    },
    {
     "name": "stdout",
     "output_type": "stream",
     "text": [
      "b_frames\n"
     ]
    },
    {
     "data": {
      "image/png": "[encoded data removed]",
      "text/plain": [
       "<Figure size 432x288 with 1 Axes>"
      ]
     },
     "metadata": {
      "needs_background": "light"
     },
     "output_type": "display_data"
    },
    {
     "name": "stdout",
     "output_type": "stream",
     "text": [
      "frames\n"
     ]
    },
    {
     "data": {
      "image/png": "[encoded data removed]",
      "text/plain": [
       "<Figure size 432x288 with 1 Axes>"
      ]
     },
     "metadata": {
      "needs_background": "light"
     },
     "output_type": "display_data"
    },
    {
     "name": "stdout",
     "output_type": "stream",
     "text": [
      "i_size\n"
     ]
    },
    {
     "data": {
      "image/png": "[encoded data removed]",
      "text/plain": [
       "<Figure size 432x288 with 1 Axes>"
      ]
     },
     "metadata": {
      "needs_background": "light"
     },
     "output_type": "display_data"
    },
    {
     "name": "stdout",
     "output_type": "stream",
     "text": [
      "p_size\n"
     ]
    },
    {
     "data": {
      "image/png": "[encoded data removed]",
      "text/plain": [
       "<Figure size 432x288 with 1 Axes>"
      ]
     },
     "metadata": {
      "needs_background": "light"
     },
     "output_type": "display_data"
    },
    {
     "name": "stdout",
     "output_type": "stream",
     "text": [
      "b_size\n"
     ]
    },
    {
     "data": {
      "image/png": "[encoded data removed]",
      "text/plain": [
       "<Figure size 432x288 with 1 Axes>"
      ]
     },
     "metadata": {
      "needs_background": "light"
     },
     "output_type": "display_data"
    },
    {
     "name": "stdout",
     "output_type": "stream",
     "text": [
      "size\n"
     ]
    },
    {
     "data": {
      "image/png": "[encoded data removed]",
      "text/plain": [
       "<Figure size 432x288 with 1 Axes>"
      ]
     },
     "metadata": {
      "needs_background": "light"
     },
     "output_type": "display_data"
    },
    {
     "name": "stdout",
     "output_type": "stream",
     "text": [
      "coding_standard_output\n",
      "Categorical Data\n",
      "bitrate_output\n"
     ]
    },
    {
     "data": {
      "image/png": "[encoded data removed]",
      "text/plain": [
       "<Figure size 432x288 with 1 Axes>"
      ]
     },
     "metadata": {
      "needs_background": "light"
     },
     "output_type": "display_data"
    },
    {
     "name": "stdout",
     "output_type": "stream",
     "text": [
      "framerate_output\n"
     ]
    },
    {
     "data": {
      "image/png": "[encoded data removed]",
      "text/plain": [
       "<Figure size 432x288 with 1 Axes>"
      ]
     },
     "metadata": {
      "needs_background": "light"
     },
     "output_type": "display_data"
    },
    {
     "name": "stdout",
     "output_type": "stream",
     "text": [
      "output_width\n"
     ]
    },
    {
     "data": {
      "image/png": "[encoded data removed]",
      "text/plain": [
       "<Figure size 432x288 with 1 Axes>"
      ]
     },
     "metadata": {
      "needs_background": "light"
     },
     "output_type": "display_data"
    },
    {
     "name": "stdout",
     "output_type": "stream",
     "text": [
      "output_height\n"
     ]
    },
    {
     "data": {
      "image/png": "[encoded data removed]",
      "text/plain": [
       "<Figure size 432x288 with 1 Axes>"
      ]
     },
     "metadata": {
      "needs_background": "light"
     },
     "output_type": "display_data"
    },
    {
     "name": "stdout",
     "output_type": "stream",
     "text": [
      "allocated _memory\n"
     ]
    },
    {
     "data": {
      "image/png": "[encoded data removed]",
      "text/plain": [
       "<Figure size 432x288 with 1 Axes>"
      ]
     },
     "metadata": {
      "needs_background": "light"
     },
     "output_type": "display_data"
    },
    {
     "name": "stdout",
     "output_type": "stream",
     "text": [
      "total_processing_time\n"
     ]
    },
    {
     "data": {
      "image/png": "[encoded data removed]",
      "text/plain": [
       "<Figure size 432x288 with 1 Axes>"
      ]
     },
     "metadata": {
      "needs_background": "light"
     },
     "output_type": "display_data"
    }
   ],
   "source": [
    "col_name = list(df.columns)\n",
    "fig = plt.figure(figsize = (20, 5))\n",
    "for i in range(1, 22):\n",
    "    try:\n",
    "        print(col_name[i])\n",
    "        sns.boxplot(data=df.iloc[:, i], orient=\"h\")\n",
    "        plt.show()\n",
    "    except:\n",
    "        print(\"Categorical Data\")\n",
    "       "
   ]
  },
  {
   "cell_type": "code",
   "execution_count": 98,
   "metadata": {},
   "outputs": [],
   "source": [
    "df = df[(df['video_duration']<1000)&(df['width']<100000)\n",
    "       &(df['b_size']>-1)&(df['frames']<25000)&(df['p_frames']<30000)&(df['i_frames']<5000)&(df['b_frames']<50)\n",
    "       &(df['framerate']<50000)&(df['framerate']>0)&(df['bitrate']<1.5*10**6)&(df['b_frames']<500)\n",
    "       &(df['framerate_output']<40000)&(df['bitrate_output']<10**7)\n",
    "       &(df['output_height']< 50000)&(df['p_size']<2*10**7)&(df['i_size']<5*10**6)]"
   ]
  },
  {
   "cell_type": "code",
   "execution_count": 99,
   "metadata": {},
   "outputs": [
    {
     "name": "stdout",
     "output_type": "stream",
     "text": [
      "width\n"
     ]
    },
    {
     "data": {
      "image/png": "[encoded data removed]",
      "text/plain": [
       "<Figure size 1440x360 with 1 Axes>"
      ]
     },
     "metadata": {
      "needs_background": "light"
     },
     "output_type": "display_data"
    },
    {
     "name": "stdout",
     "output_type": "stream",
     "text": [
      "height\n"
     ]
    },
    {
     "data": {
      "image/png": "[encoded data removed]",
      "text/plain": [
       "<Figure size 432x288 with 1 Axes>"
      ]
     },
     "metadata": {
      "needs_background": "light"
     },
     "output_type": "display_data"
    },
    {
     "name": "stdout",
     "output_type": "stream",
     "text": [
      "bitrate\n"
     ]
    },
    {
     "data": {
      "image/png": "[encoded data removed]",
      "text/plain": [
       "<Figure size 432x288 with 1 Axes>"
      ]
     },
     "metadata": {
      "needs_background": "light"
     },
     "output_type": "display_data"
    },
    {
     "name": "stdout",
     "output_type": "stream",
     "text": [
      "framerate\n"
     ]
    },
    {
     "data": {
      "image/png": "[encoded data removed]",
      "text/plain": [
       "<Figure size 432x288 with 1 Axes>"
      ]
     },
     "metadata": {
      "needs_background": "light"
     },
     "output_type": "display_data"
    },
    {
     "name": "stdout",
     "output_type": "stream",
     "text": [
      "i_frames\n"
     ]
    },
    {
     "data": {
      "image/png": "[encoded data removed]",
      "text/plain": [
       "<Figure size 432x288 with 1 Axes>"
      ]
     },
     "metadata": {
      "needs_background": "light"
     },
     "output_type": "display_data"
    },
    {
     "name": "stdout",
     "output_type": "stream",
     "text": [
      "p_frames\n"
     ]
    },
    {
     "data": {
      "image/png": "[encoded data removed]",
      "text/plain": [
       "<Figure size 432x288 with 1 Axes>"
      ]
     },
     "metadata": {
      "needs_background": "light"
     },
     "output_type": "display_data"
    },
    {
     "name": "stdout",
     "output_type": "stream",
     "text": [
      "b_frames\n"
     ]
    },
    {
     "data": {
      "image/png": "[encoded data removed]",
      "text/plain": [
       "<Figure size 432x288 with 1 Axes>"
      ]
     },
     "metadata": {
      "needs_background": "light"
     },
     "output_type": "display_data"
    },
    {
     "name": "stdout",
     "output_type": "stream",
     "text": [
      "frames\n"
     ]
    },
    {
     "data": {
      "image/png": "[encoded data removed]",
      "text/plain": [
       "<Figure size 432x288 with 1 Axes>"
      ]
     },
     "metadata": {
      "needs_background": "light"
     },
     "output_type": "display_data"
    },
    {
     "name": "stdout",
     "output_type": "stream",
     "text": [
      "i_size\n"
     ]
    },
    {
     "data": {
      "image/png": "[encoded data removed]",
      "text/plain": [
       "<Figure size 432x288 with 1 Axes>"
      ]
     },
     "metadata": {
      "needs_background": "light"
     },
     "output_type": "display_data"
    },
    {
     "name": "stdout",
     "output_type": "stream",
     "text": [
      "p_size\n"
     ]
    },
    {
     "data": {
      "image/png": "[encoded data removed]",
      "text/plain": [
       "<Figure size 432x288 with 1 Axes>"
      ]
     },
     "metadata": {
      "needs_background": "light"
     },
     "output_type": "display_data"
    },
    {
     "name": "stdout",
     "output_type": "stream",
     "text": [
      "b_size\n"
     ]
    },
    {
     "data": {
      "image/png": "[encoded data removed]",
      "text/plain": [
       "<Figure size 432x288 with 1 Axes>"
      ]
     },
     "metadata": {
      "needs_background": "light"
     },
     "output_type": "display_data"
    },
    {
     "name": "stdout",
     "output_type": "stream",
     "text": [
      "size\n"
     ]
    },
    {
     "data": {
      "image/png": "[encoded data removed]",
      "text/plain": [
       "<Figure size 432x288 with 1 Axes>"
      ]
     },
     "metadata": {
      "needs_background": "light"
     },
     "output_type": "display_data"
    },
    {
     "name": "stdout",
     "output_type": "stream",
     "text": [
      "bitrate_output\n"
     ]
    },
    {
     "data": {
      "image/png": "[encoded data removed]",
      "text/plain": [
       "<Figure size 432x288 with 1 Axes>"
      ]
     },
     "metadata": {
      "needs_background": "light"
     },
     "output_type": "display_data"
    },
    {
     "name": "stdout",
     "output_type": "stream",
     "text": [
      "framerate_output\n"
     ]
    },
    {
     "data": {
      "image/png": "[encoded data removed]",
      "text/plain": [
       "<Figure size 432x288 with 1 Axes>"
      ]
     },
     "metadata": {
      "needs_background": "light"
     },
     "output_type": "display_data"
    },
    {
     "name": "stdout",
     "output_type": "stream",
     "text": [
      "output_width\n"
     ]
    },
    {
     "data": {
      "image/png": "[encoded data removed]",
      "text/plain": [
       "<Figure size 432x288 with 1 Axes>"
      ]
     },
     "metadata": {
      "needs_background": "light"
     },
     "output_type": "display_data"
    },
    {
     "name": "stdout",
     "output_type": "stream",
     "text": [
      "output_height\n"
     ]
    },
    {
     "data": {
      "image/png": "[encoded data removed]",
      "text/plain": [
       "<Figure size 432x288 with 1 Axes>"
      ]
     },
     "metadata": {
      "needs_background": "light"
     },
     "output_type": "display_data"
    },
    {
     "name": "stdout",
     "output_type": "stream",
     "text": [
      "allocated _memory\n"
     ]
    },
    {
     "data": {
      "image/png": "[encoded data removed]",
      "text/plain": [
       "<Figure size 432x288 with 1 Axes>"
      ]
     },
     "metadata": {
      "needs_background": "light"
     },
     "output_type": "display_data"
    },
    {
     "name": "stdout",
     "output_type": "stream",
     "text": [
      "total_processing_time\n"
     ]
    },
    {
     "data": {
      "image/png": "[encoded data removed]",
      "text/plain": [
       "<Figure size 432x288 with 1 Axes>"
      ]
     },
     "metadata": {
      "needs_background": "light"
     },
     "output_type": "display_data"
    },
    {
     "name": "stdout",
     "output_type": "stream",
     "text": [
      "Categorical Data\n",
      "Categorical Data\n",
      "Categorical Data\n"
     ]
    }
   ],
   "source": [
    "col_name = list(df.columns)\n",
    "fig = plt.figure(figsize = (20, 5))\n",
    "for i in range(1, 22):\n",
    "    try:\n",
    "        print(col_name[i])\n",
    "        sns.boxplot(data=df.iloc[:, i], orient=\"h\")\n",
    "        plt.show()\n",
    "    except:\n",
    "        print(\"Categorical Data\")\n",
    "       "
   ]
  },
  {
   "cell_type": "code",
   "execution_count": 15,
   "metadata": {},
   "outputs": [
    {
     "data": {
      "text/html": [
       "<div>\n",
       "<style scoped>\n",
       "    .dataframe tbody tr th:only-of-type {\n",
       "        vertical-align: middle;\n",
       "    }\n",
       "\n",
       "    .dataframe tbody tr th {\n",
       "        vertical-align: top;\n",
       "    }\n",
       "\n",
       "    .dataframe thead th {\n",
       "        text-align: right;\n",
       "    }\n",
       "</style>\n",
       "<table border=\"1\" class=\"dataframe\">\n",
       "  <thead>\n",
       "    <tr style=\"text-align: right;\">\n",
       "      <th></th>\n",
       "      <th>id</th>\n",
       "      <th>video_duration</th>\n",
       "      <th>coding_standard</th>\n",
       "      <th>width</th>\n",
       "      <th>height</th>\n",
       "      <th>bitrate</th>\n",
       "      <th>framerate</th>\n",
       "      <th>i_frames</th>\n",
       "      <th>p_frames</th>\n",
       "      <th>b_frames</th>\n",
       "      <th>...</th>\n",
       "      <th>p_size</th>\n",
       "      <th>b_size</th>\n",
       "      <th>size</th>\n",
       "      <th>coding_standard_output</th>\n",
       "      <th>bitrate_output</th>\n",
       "      <th>framerate_output</th>\n",
       "      <th>output_width</th>\n",
       "      <th>output_height</th>\n",
       "      <th>allocated _memory</th>\n",
       "      <th>total_processing_time</th>\n",
       "    </tr>\n",
       "  </thead>\n",
       "  <tbody>\n",
       "    <tr>\n",
       "      <th>0</th>\n",
       "      <td>1</td>\n",
       "      <td>131.759995</td>\n",
       "      <td>vp8</td>\n",
       "      <td>640.0</td>\n",
       "      <td>480.0</td>\n",
       "      <td>1.047230e+05</td>\n",
       "      <td>25.145039</td>\n",
       "      <td>37.0</td>\n",
       "      <td>3257.0</td>\n",
       "      <td>0.0</td>\n",
       "      <td>...</td>\n",
       "      <td>778937.0</td>\n",
       "      <td>0.0</td>\n",
       "      <td>1724802.0</td>\n",
       "      <td>flv</td>\n",
       "      <td>539000.0</td>\n",
       "      <td>24.000000</td>\n",
       "      <td>640.0</td>\n",
       "      <td>480.0</td>\n",
       "      <td>221152.0</td>\n",
       "      <td>1.048</td>\n",
       "    </tr>\n",
       "    <tr>\n",
       "      <th>1</th>\n",
       "      <td>2</td>\n",
       "      <td>189.955994</td>\n",
       "      <td>flv</td>\n",
       "      <td>320.0</td>\n",
       "      <td>240.0</td>\n",
       "      <td>2.312960e+05</td>\n",
       "      <td>29.000000</td>\n",
       "      <td>97.0</td>\n",
       "      <td>5597.0</td>\n",
       "      <td>0.0</td>\n",
       "      <td>...</td>\n",
       "      <td>4911734.0</td>\n",
       "      <td>0.0</td>\n",
       "      <td>5492026.0</td>\n",
       "      <td>flv</td>\n",
       "      <td>109000.0</td>\n",
       "      <td>29.969999</td>\n",
       "      <td>320.0</td>\n",
       "      <td>240.0</td>\n",
       "      <td>218664.0</td>\n",
       "      <td>-0.468</td>\n",
       "    </tr>\n",
       "    <tr>\n",
       "      <th>2</th>\n",
       "      <td>3</td>\n",
       "      <td>110.966995</td>\n",
       "      <td>h264</td>\n",
       "      <td>480.0</td>\n",
       "      <td>360.0</td>\n",
       "      <td>6.926718e+05</td>\n",
       "      <td>30.000000</td>\n",
       "      <td>59.0</td>\n",
       "      <td>3271.0</td>\n",
       "      <td>0.0</td>\n",
       "      <td>...</td>\n",
       "      <td>4978664.0</td>\n",
       "      <td>0.0</td>\n",
       "      <td>5508291.0</td>\n",
       "      <td>h264</td>\n",
       "      <td>56000.0</td>\n",
       "      <td>15.000000</td>\n",
       "      <td>320.0</td>\n",
       "      <td>240.0</td>\n",
       "      <td>216820.0</td>\n",
       "      <td>3.696</td>\n",
       "    </tr>\n",
       "    <tr>\n",
       "      <th>3</th>\n",
       "      <td>4</td>\n",
       "      <td>95.461998</td>\n",
       "      <td>h264</td>\n",
       "      <td>640.0</td>\n",
       "      <td>480.0</td>\n",
       "      <td>8.092560e+05</td>\n",
       "      <td>29.000000</td>\n",
       "      <td>51.0</td>\n",
       "      <td>2811.0</td>\n",
       "      <td>0.0</td>\n",
       "      <td>...</td>\n",
       "      <td>8770159.0</td>\n",
       "      <td>0.0</td>\n",
       "      <td>9656655.0</td>\n",
       "      <td>vp8</td>\n",
       "      <td>109000.0</td>\n",
       "      <td>12.000000</td>\n",
       "      <td>320.0</td>\n",
       "      <td>240.0</td>\n",
       "      <td>221160.0</td>\n",
       "      <td>3.452</td>\n",
       "    </tr>\n",
       "    <tr>\n",
       "      <th>4</th>\n",
       "      <td>5</td>\n",
       "      <td>63.667000</td>\n",
       "      <td>h264</td>\n",
       "      <td>640.0</td>\n",
       "      <td>480.0</td>\n",
       "      <td>9.725720e+05</td>\n",
       "      <td>15.000000</td>\n",
       "      <td>33.0</td>\n",
       "      <td>923.0</td>\n",
       "      <td>0.0</td>\n",
       "      <td>...</td>\n",
       "      <td>6480438.0</td>\n",
       "      <td>0.0</td>\n",
       "      <td>7740095.0</td>\n",
       "      <td>flv</td>\n",
       "      <td>56000.0</td>\n",
       "      <td>24.000000</td>\n",
       "      <td>1280.0</td>\n",
       "      <td>720.0</td>\n",
       "      <td>219656.0</td>\n",
       "      <td>2.692</td>\n",
       "    </tr>\n",
       "    <tr>\n",
       "      <th>...</th>\n",
       "      <td>...</td>\n",
       "      <td>...</td>\n",
       "      <td>...</td>\n",
       "      <td>...</td>\n",
       "      <td>...</td>\n",
       "      <td>...</td>\n",
       "      <td>...</td>\n",
       "      <td>...</td>\n",
       "      <td>...</td>\n",
       "      <td>...</td>\n",
       "      <td>...</td>\n",
       "      <td>...</td>\n",
       "      <td>...</td>\n",
       "      <td>...</td>\n",
       "      <td>...</td>\n",
       "      <td>...</td>\n",
       "      <td>...</td>\n",
       "      <td>...</td>\n",
       "      <td>...</td>\n",
       "      <td>...</td>\n",
       "      <td>...</td>\n",
       "    </tr>\n",
       "    <tr>\n",
       "      <th>48142</th>\n",
       "      <td>48143</td>\n",
       "      <td>167.391663</td>\n",
       "      <td>h264</td>\n",
       "      <td>1280.0</td>\n",
       "      <td>720.0</td>\n",
       "      <td>2.207484e+06</td>\n",
       "      <td>24.000000</td>\n",
       "      <td>86.0</td>\n",
       "      <td>3931.0</td>\n",
       "      <td>0.0</td>\n",
       "      <td>...</td>\n",
       "      <td>41819888.0</td>\n",
       "      <td>0.0</td>\n",
       "      <td>46189308.0</td>\n",
       "      <td>mpeg4</td>\n",
       "      <td>820000.0</td>\n",
       "      <td>15.000000</td>\n",
       "      <td>1920.0</td>\n",
       "      <td>1080.0</td>\n",
       "      <td>219656.0</td>\n",
       "      <td>9.777</td>\n",
       "    </tr>\n",
       "    <tr>\n",
       "      <th>48146</th>\n",
       "      <td>48147</td>\n",
       "      <td>67.583336</td>\n",
       "      <td>mpeg4</td>\n",
       "      <td>176.0</td>\n",
       "      <td>144.0</td>\n",
       "      <td>5.122500e+04</td>\n",
       "      <td>12.000000</td>\n",
       "      <td>15.0</td>\n",
       "      <td>777.0</td>\n",
       "      <td>0.0</td>\n",
       "      <td>...</td>\n",
       "      <td>385164.0</td>\n",
       "      <td>0.0</td>\n",
       "      <td>432749.0</td>\n",
       "      <td>vp8</td>\n",
       "      <td>5000000.0</td>\n",
       "      <td>12.000000</td>\n",
       "      <td>1920.0</td>\n",
       "      <td>1080.0</td>\n",
       "      <td>219480.0</td>\n",
       "      <td>22.417</td>\n",
       "    </tr>\n",
       "    <tr>\n",
       "      <th>48147</th>\n",
       "      <td>48148</td>\n",
       "      <td>581.232971</td>\n",
       "      <td>h264</td>\n",
       "      <td>480.0</td>\n",
       "      <td>360.0</td>\n",
       "      <td>2.959790e+05</td>\n",
       "      <td>30.000000</td>\n",
       "      <td>310.0</td>\n",
       "      <td>17128.0</td>\n",
       "      <td>0.0</td>\n",
       "      <td>...</td>\n",
       "      <td>11352574.0</td>\n",
       "      <td>0.0</td>\n",
       "      <td>21504146.0</td>\n",
       "      <td>vp8</td>\n",
       "      <td>5000000.0</td>\n",
       "      <td>15.000000</td>\n",
       "      <td>640.0</td>\n",
       "      <td>480.0</td>\n",
       "      <td>218932.0</td>\n",
       "      <td>6.460</td>\n",
       "    </tr>\n",
       "    <tr>\n",
       "      <th>48148</th>\n",
       "      <td>48149</td>\n",
       "      <td>645.840027</td>\n",
       "      <td>vp8</td>\n",
       "      <td>320.0</td>\n",
       "      <td>240.0</td>\n",
       "      <td>9.590300e+04</td>\n",
       "      <td>25.032558</td>\n",
       "      <td>138.0</td>\n",
       "      <td>16008.0</td>\n",
       "      <td>0.0</td>\n",
       "      <td>...</td>\n",
       "      <td>6660941.0</td>\n",
       "      <td>0.0</td>\n",
       "      <td>7742262.0</td>\n",
       "      <td>vp8</td>\n",
       "      <td>539000.0</td>\n",
       "      <td>29.969999</td>\n",
       "      <td>176.0</td>\n",
       "      <td>144.0</td>\n",
       "      <td>219196.0</td>\n",
       "      <td>1.976</td>\n",
       "    </tr>\n",
       "    <tr>\n",
       "      <th>48149</th>\n",
       "      <td>48150</td>\n",
       "      <td>167.391663</td>\n",
       "      <td>h264</td>\n",
       "      <td>1280.0</td>\n",
       "      <td>720.0</td>\n",
       "      <td>2.207484e+06</td>\n",
       "      <td>24.000000</td>\n",
       "      <td>86.0</td>\n",
       "      <td>3931.0</td>\n",
       "      <td>0.0</td>\n",
       "      <td>...</td>\n",
       "      <td>41819888.0</td>\n",
       "      <td>0.0</td>\n",
       "      <td>46189308.0</td>\n",
       "      <td>vp8</td>\n",
       "      <td>820000.0</td>\n",
       "      <td>29.969999</td>\n",
       "      <td>640.0</td>\n",
       "      <td>480.0</td>\n",
       "      <td>219656.0</td>\n",
       "      <td>13.849</td>\n",
       "    </tr>\n",
       "  </tbody>\n",
       "</table>\n",
       "<p>47918 rows × 22 columns</p>\n",
       "</div>"
      ],
      "text/plain": [
       "          id  video_duration coding_standard   width  height       bitrate  \\\n",
       "0          1      131.759995             vp8   640.0   480.0  1.047230e+05   \n",
       "1          2      189.955994             flv   320.0   240.0  2.312960e+05   \n",
       "2          3      110.966995            h264   480.0   360.0  6.926718e+05   \n",
       "3          4       95.461998            h264   640.0   480.0  8.092560e+05   \n",
       "4          5       63.667000            h264   640.0   480.0  9.725720e+05   \n",
       "...      ...             ...             ...     ...     ...           ...   \n",
       "48142  48143      167.391663            h264  1280.0   720.0  2.207484e+06   \n",
       "48146  48147       67.583336           mpeg4   176.0   144.0  5.122500e+04   \n",
       "48147  48148      581.232971            h264   480.0   360.0  2.959790e+05   \n",
       "48148  48149      645.840027             vp8   320.0   240.0  9.590300e+04   \n",
       "48149  48150      167.391663            h264  1280.0   720.0  2.207484e+06   \n",
       "\n",
       "       framerate  i_frames  p_frames  b_frames  ...      p_size  b_size  \\\n",
       "0      25.145039      37.0    3257.0       0.0  ...    778937.0     0.0   \n",
       "1      29.000000      97.0    5597.0       0.0  ...   4911734.0     0.0   \n",
       "2      30.000000      59.0    3271.0       0.0  ...   4978664.0     0.0   \n",
       "3      29.000000      51.0    2811.0       0.0  ...   8770159.0     0.0   \n",
       "4      15.000000      33.0     923.0       0.0  ...   6480438.0     0.0   \n",
       "...          ...       ...       ...       ...  ...         ...     ...   \n",
       "48142  24.000000      86.0    3931.0       0.0  ...  41819888.0     0.0   \n",
       "48146  12.000000      15.0     777.0       0.0  ...    385164.0     0.0   \n",
       "48147  30.000000     310.0   17128.0       0.0  ...  11352574.0     0.0   \n",
       "48148  25.032558     138.0   16008.0       0.0  ...   6660941.0     0.0   \n",
       "48149  24.000000      86.0    3931.0       0.0  ...  41819888.0     0.0   \n",
       "\n",
       "             size  coding_standard_output  bitrate_output framerate_output  \\\n",
       "0       1724802.0                     flv        539000.0        24.000000   \n",
       "1       5492026.0                     flv        109000.0        29.969999   \n",
       "2       5508291.0                    h264         56000.0        15.000000   \n",
       "3       9656655.0                     vp8        109000.0        12.000000   \n",
       "4       7740095.0                     flv         56000.0        24.000000   \n",
       "...           ...                     ...             ...              ...   \n",
       "48142  46189308.0                   mpeg4        820000.0        15.000000   \n",
       "48146    432749.0                     vp8       5000000.0        12.000000   \n",
       "48147  21504146.0                     vp8       5000000.0        15.000000   \n",
       "48148   7742262.0                     vp8        539000.0        29.969999   \n",
       "48149  46189308.0                     vp8        820000.0        29.969999   \n",
       "\n",
       "       output_width  output_height  allocated _memory  total_processing_time  \n",
       "0             640.0          480.0           221152.0                  1.048  \n",
       "1             320.0          240.0           218664.0                 -0.468  \n",
       "2             320.0          240.0           216820.0                  3.696  \n",
       "3             320.0          240.0           221160.0                  3.452  \n",
       "4            1280.0          720.0           219656.0                  2.692  \n",
       "...             ...            ...                ...                    ...  \n",
       "48142        1920.0         1080.0           219656.0                  9.777  \n",
       "48146        1920.0         1080.0           219480.0                 22.417  \n",
       "48147         640.0          480.0           218932.0                  6.460  \n",
       "48148         176.0          144.0           219196.0                  1.976  \n",
       "48149         640.0          480.0           219656.0                 13.849  \n",
       "\n",
       "[47918 rows x 22 columns]"
      ]
     },
     "execution_count": 15,
     "metadata": {},
     "output_type": "execute_result"
    }
   ],
   "source": [
    "df"
   ]
  },
  {
   "cell_type": "code",
   "execution_count": 54,
   "metadata": {},
   "outputs": [
    {
     "data": {
      "text/html": [
       "<div>\n",
       "<style scoped>\n",
       "    .dataframe tbody tr th:only-of-type {\n",
       "        vertical-align: middle;\n",
       "    }\n",
       "\n",
       "    .dataframe tbody tr th {\n",
       "        vertical-align: top;\n",
       "    }\n",
       "\n",
       "    .dataframe thead th {\n",
       "        text-align: right;\n",
       "    }\n",
       "</style>\n",
       "<table border=\"1\" class=\"dataframe\">\n",
       "  <thead>\n",
       "    <tr style=\"text-align: right;\">\n",
       "      <th></th>\n",
       "      <th>flv</th>\n",
       "      <th>h264</th>\n",
       "      <th>mpeg4</th>\n",
       "      <th>vp8</th>\n",
       "    </tr>\n",
       "  </thead>\n",
       "  <tbody>\n",
       "    <tr>\n",
       "      <th>0</th>\n",
       "      <td>0</td>\n",
       "      <td>0</td>\n",
       "      <td>0</td>\n",
       "      <td>1</td>\n",
       "    </tr>\n",
       "    <tr>\n",
       "      <th>1</th>\n",
       "      <td>1</td>\n",
       "      <td>0</td>\n",
       "      <td>0</td>\n",
       "      <td>0</td>\n",
       "    </tr>\n",
       "    <tr>\n",
       "      <th>2</th>\n",
       "      <td>0</td>\n",
       "      <td>1</td>\n",
       "      <td>0</td>\n",
       "      <td>0</td>\n",
       "    </tr>\n",
       "    <tr>\n",
       "      <th>3</th>\n",
       "      <td>0</td>\n",
       "      <td>1</td>\n",
       "      <td>0</td>\n",
       "      <td>0</td>\n",
       "    </tr>\n",
       "    <tr>\n",
       "      <th>4</th>\n",
       "      <td>0</td>\n",
       "      <td>1</td>\n",
       "      <td>0</td>\n",
       "      <td>0</td>\n",
       "    </tr>\n",
       "    <tr>\n",
       "      <th>...</th>\n",
       "      <td>...</td>\n",
       "      <td>...</td>\n",
       "      <td>...</td>\n",
       "      <td>...</td>\n",
       "    </tr>\n",
       "    <tr>\n",
       "      <th>48142</th>\n",
       "      <td>0</td>\n",
       "      <td>1</td>\n",
       "      <td>0</td>\n",
       "      <td>0</td>\n",
       "    </tr>\n",
       "    <tr>\n",
       "      <th>48146</th>\n",
       "      <td>0</td>\n",
       "      <td>0</td>\n",
       "      <td>1</td>\n",
       "      <td>0</td>\n",
       "    </tr>\n",
       "    <tr>\n",
       "      <th>48147</th>\n",
       "      <td>0</td>\n",
       "      <td>1</td>\n",
       "      <td>0</td>\n",
       "      <td>0</td>\n",
       "    </tr>\n",
       "    <tr>\n",
       "      <th>48148</th>\n",
       "      <td>0</td>\n",
       "      <td>0</td>\n",
       "      <td>0</td>\n",
       "      <td>1</td>\n",
       "    </tr>\n",
       "    <tr>\n",
       "      <th>48149</th>\n",
       "      <td>0</td>\n",
       "      <td>1</td>\n",
       "      <td>0</td>\n",
       "      <td>0</td>\n",
       "    </tr>\n",
       "  </tbody>\n",
       "</table>\n",
       "<p>47918 rows × 4 columns</p>\n",
       "</div>"
      ],
      "text/plain": [
       "       flv  h264  mpeg4  vp8\n",
       "0        0     0      0    1\n",
       "1        1     0      0    0\n",
       "2        0     1      0    0\n",
       "3        0     1      0    0\n",
       "4        0     1      0    0\n",
       "...    ...   ...    ...  ...\n",
       "48142    0     1      0    0\n",
       "48146    0     0      1    0\n",
       "48147    0     1      0    0\n",
       "48148    0     0      0    1\n",
       "48149    0     1      0    0\n",
       "\n",
       "[47918 rows x 4 columns]"
      ]
     },
     "execution_count": 54,
     "metadata": {},
     "output_type": "execute_result"
    }
   ],
   "source": [
    "df_1 = pd.get_dummies(df[\"coding_standard\"])\n",
    "df_1"
   ]
  },
  {
   "cell_type": "code",
   "execution_count": 55,
   "metadata": {},
   "outputs": [
    {
     "data": {
      "text/html": [
       "<div>\n",
       "<style scoped>\n",
       "    .dataframe tbody tr th:only-of-type {\n",
       "        vertical-align: middle;\n",
       "    }\n",
       "\n",
       "    .dataframe tbody tr th {\n",
       "        vertical-align: top;\n",
       "    }\n",
       "\n",
       "    .dataframe thead th {\n",
       "        text-align: right;\n",
       "    }\n",
       "</style>\n",
       "<table border=\"1\" class=\"dataframe\">\n",
       "  <thead>\n",
       "    <tr style=\"text-align: right;\">\n",
       "      <th></th>\n",
       "      <th>flv_o</th>\n",
       "      <th>h264_o</th>\n",
       "      <th>mpeg4_o</th>\n",
       "      <th>vp8_o</th>\n",
       "    </tr>\n",
       "  </thead>\n",
       "  <tbody>\n",
       "    <tr>\n",
       "      <th>0</th>\n",
       "      <td>1</td>\n",
       "      <td>0</td>\n",
       "      <td>0</td>\n",
       "      <td>0</td>\n",
       "    </tr>\n",
       "    <tr>\n",
       "      <th>1</th>\n",
       "      <td>1</td>\n",
       "      <td>0</td>\n",
       "      <td>0</td>\n",
       "      <td>0</td>\n",
       "    </tr>\n",
       "    <tr>\n",
       "      <th>2</th>\n",
       "      <td>0</td>\n",
       "      <td>1</td>\n",
       "      <td>0</td>\n",
       "      <td>0</td>\n",
       "    </tr>\n",
       "    <tr>\n",
       "      <th>3</th>\n",
       "      <td>0</td>\n",
       "      <td>0</td>\n",
       "      <td>0</td>\n",
       "      <td>1</td>\n",
       "    </tr>\n",
       "    <tr>\n",
       "      <th>4</th>\n",
       "      <td>1</td>\n",
       "      <td>0</td>\n",
       "      <td>0</td>\n",
       "      <td>0</td>\n",
       "    </tr>\n",
       "    <tr>\n",
       "      <th>...</th>\n",
       "      <td>...</td>\n",
       "      <td>...</td>\n",
       "      <td>...</td>\n",
       "      <td>...</td>\n",
       "    </tr>\n",
       "    <tr>\n",
       "      <th>48142</th>\n",
       "      <td>0</td>\n",
       "      <td>0</td>\n",
       "      <td>1</td>\n",
       "      <td>0</td>\n",
       "    </tr>\n",
       "    <tr>\n",
       "      <th>48146</th>\n",
       "      <td>0</td>\n",
       "      <td>0</td>\n",
       "      <td>0</td>\n",
       "      <td>1</td>\n",
       "    </tr>\n",
       "    <tr>\n",
       "      <th>48147</th>\n",
       "      <td>0</td>\n",
       "      <td>0</td>\n",
       "      <td>0</td>\n",
       "      <td>1</td>\n",
       "    </tr>\n",
       "    <tr>\n",
       "      <th>48148</th>\n",
       "      <td>0</td>\n",
       "      <td>0</td>\n",
       "      <td>0</td>\n",
       "      <td>1</td>\n",
       "    </tr>\n",
       "    <tr>\n",
       "      <th>48149</th>\n",
       "      <td>0</td>\n",
       "      <td>0</td>\n",
       "      <td>0</td>\n",
       "      <td>1</td>\n",
       "    </tr>\n",
       "  </tbody>\n",
       "</table>\n",
       "<p>47918 rows × 4 columns</p>\n",
       "</div>"
      ],
      "text/plain": [
       "       flv_o  h264_o  mpeg4_o  vp8_o\n",
       "0          1       0        0      0\n",
       "1          1       0        0      0\n",
       "2          0       1        0      0\n",
       "3          0       0        0      1\n",
       "4          1       0        0      0\n",
       "...      ...     ...      ...    ...\n",
       "48142      0       0        1      0\n",
       "48146      0       0        0      1\n",
       "48147      0       0        0      1\n",
       "48148      0       0        0      1\n",
       "48149      0       0        0      1\n",
       "\n",
       "[47918 rows x 4 columns]"
      ]
     },
     "execution_count": 55,
     "metadata": {},
     "output_type": "execute_result"
    }
   ],
   "source": [
    "df_2 =  pd.get_dummies(df[\"coding_standard_output\"])\n",
    "df_2.rename({\"flv\":\"flv_o\", \"h264\":\"h264_o\", \"mpeg4\":\"mpeg4_o\", \"vp8\":\"vp8_o\"}, axis=\"columns\",inplace=True)\n",
    "df_2"
   ]
  },
  {
   "cell_type": "code",
   "execution_count": 56,
   "metadata": {},
   "outputs": [
    {
     "data": {
      "text/html": [
       "<div>\n",
       "<style scoped>\n",
       "    .dataframe tbody tr th:only-of-type {\n",
       "        vertical-align: middle;\n",
       "    }\n",
       "\n",
       "    .dataframe tbody tr th {\n",
       "        vertical-align: top;\n",
       "    }\n",
       "\n",
       "    .dataframe thead th {\n",
       "        text-align: right;\n",
       "    }\n",
       "</style>\n",
       "<table border=\"1\" class=\"dataframe\">\n",
       "  <thead>\n",
       "    <tr style=\"text-align: right;\">\n",
       "      <th></th>\n",
       "      <th>video_duration</th>\n",
       "      <th>width</th>\n",
       "      <th>height</th>\n",
       "      <th>bitrate</th>\n",
       "      <th>framerate</th>\n",
       "      <th>i_frames</th>\n",
       "      <th>p_frames</th>\n",
       "      <th>b_frames</th>\n",
       "      <th>frames</th>\n",
       "      <th>i_size</th>\n",
       "      <th>...</th>\n",
       "      <th>allocated _memory</th>\n",
       "      <th>total_processing_time</th>\n",
       "      <th>flv</th>\n",
       "      <th>h264</th>\n",
       "      <th>mpeg4</th>\n",
       "      <th>vp8</th>\n",
       "      <th>flv_o</th>\n",
       "      <th>h264_o</th>\n",
       "      <th>mpeg4_o</th>\n",
       "      <th>vp8_o</th>\n",
       "    </tr>\n",
       "  </thead>\n",
       "  <tbody>\n",
       "    <tr>\n",
       "      <th>0</th>\n",
       "      <td>131.759995</td>\n",
       "      <td>640.0</td>\n",
       "      <td>480.0</td>\n",
       "      <td>1.047230e+05</td>\n",
       "      <td>25.145039</td>\n",
       "      <td>37.0</td>\n",
       "      <td>3257.0</td>\n",
       "      <td>0.0</td>\n",
       "      <td>3294.0</td>\n",
       "      <td>945865.0</td>\n",
       "      <td>...</td>\n",
       "      <td>221152.0</td>\n",
       "      <td>1.048</td>\n",
       "      <td>0</td>\n",
       "      <td>0</td>\n",
       "      <td>0</td>\n",
       "      <td>1</td>\n",
       "      <td>1</td>\n",
       "      <td>0</td>\n",
       "      <td>0</td>\n",
       "      <td>0</td>\n",
       "    </tr>\n",
       "    <tr>\n",
       "      <th>1</th>\n",
       "      <td>189.955994</td>\n",
       "      <td>320.0</td>\n",
       "      <td>240.0</td>\n",
       "      <td>2.312960e+05</td>\n",
       "      <td>29.000000</td>\n",
       "      <td>97.0</td>\n",
       "      <td>5597.0</td>\n",
       "      <td>0.0</td>\n",
       "      <td>5694.0</td>\n",
       "      <td>580292.0</td>\n",
       "      <td>...</td>\n",
       "      <td>218664.0</td>\n",
       "      <td>-0.468</td>\n",
       "      <td>1</td>\n",
       "      <td>0</td>\n",
       "      <td>0</td>\n",
       "      <td>0</td>\n",
       "      <td>1</td>\n",
       "      <td>0</td>\n",
       "      <td>0</td>\n",
       "      <td>0</td>\n",
       "    </tr>\n",
       "    <tr>\n",
       "      <th>2</th>\n",
       "      <td>110.966995</td>\n",
       "      <td>480.0</td>\n",
       "      <td>360.0</td>\n",
       "      <td>6.926718e+05</td>\n",
       "      <td>30.000000</td>\n",
       "      <td>59.0</td>\n",
       "      <td>3271.0</td>\n",
       "      <td>0.0</td>\n",
       "      <td>3330.0</td>\n",
       "      <td>529627.0</td>\n",
       "      <td>...</td>\n",
       "      <td>216820.0</td>\n",
       "      <td>3.696</td>\n",
       "      <td>0</td>\n",
       "      <td>1</td>\n",
       "      <td>0</td>\n",
       "      <td>0</td>\n",
       "      <td>0</td>\n",
       "      <td>1</td>\n",
       "      <td>0</td>\n",
       "      <td>0</td>\n",
       "    </tr>\n",
       "    <tr>\n",
       "      <th>3</th>\n",
       "      <td>95.461998</td>\n",
       "      <td>640.0</td>\n",
       "      <td>480.0</td>\n",
       "      <td>8.092560e+05</td>\n",
       "      <td>29.000000</td>\n",
       "      <td>51.0</td>\n",
       "      <td>2811.0</td>\n",
       "      <td>0.0</td>\n",
       "      <td>2862.0</td>\n",
       "      <td>886496.0</td>\n",
       "      <td>...</td>\n",
       "      <td>221160.0</td>\n",
       "      <td>3.452</td>\n",
       "      <td>0</td>\n",
       "      <td>1</td>\n",
       "      <td>0</td>\n",
       "      <td>0</td>\n",
       "      <td>0</td>\n",
       "      <td>0</td>\n",
       "      <td>0</td>\n",
       "      <td>1</td>\n",
       "    </tr>\n",
       "    <tr>\n",
       "      <th>4</th>\n",
       "      <td>63.667000</td>\n",
       "      <td>640.0</td>\n",
       "      <td>480.0</td>\n",
       "      <td>9.725720e+05</td>\n",
       "      <td>15.000000</td>\n",
       "      <td>33.0</td>\n",
       "      <td>923.0</td>\n",
       "      <td>0.0</td>\n",
       "      <td>956.0</td>\n",
       "      <td>1259657.0</td>\n",
       "      <td>...</td>\n",
       "      <td>219656.0</td>\n",
       "      <td>2.692</td>\n",
       "      <td>0</td>\n",
       "      <td>1</td>\n",
       "      <td>0</td>\n",
       "      <td>0</td>\n",
       "      <td>1</td>\n",
       "      <td>0</td>\n",
       "      <td>0</td>\n",
       "      <td>0</td>\n",
       "    </tr>\n",
       "    <tr>\n",
       "      <th>...</th>\n",
       "      <td>...</td>\n",
       "      <td>...</td>\n",
       "      <td>...</td>\n",
       "      <td>...</td>\n",
       "      <td>...</td>\n",
       "      <td>...</td>\n",
       "      <td>...</td>\n",
       "      <td>...</td>\n",
       "      <td>...</td>\n",
       "      <td>...</td>\n",
       "      <td>...</td>\n",
       "      <td>...</td>\n",
       "      <td>...</td>\n",
       "      <td>...</td>\n",
       "      <td>...</td>\n",
       "      <td>...</td>\n",
       "      <td>...</td>\n",
       "      <td>...</td>\n",
       "      <td>...</td>\n",
       "      <td>...</td>\n",
       "      <td>...</td>\n",
       "    </tr>\n",
       "    <tr>\n",
       "      <th>48142</th>\n",
       "      <td>167.391663</td>\n",
       "      <td>1280.0</td>\n",
       "      <td>720.0</td>\n",
       "      <td>2.207484e+06</td>\n",
       "      <td>24.000000</td>\n",
       "      <td>86.0</td>\n",
       "      <td>3931.0</td>\n",
       "      <td>0.0</td>\n",
       "      <td>4017.0</td>\n",
       "      <td>4369420.0</td>\n",
       "      <td>...</td>\n",
       "      <td>219656.0</td>\n",
       "      <td>9.777</td>\n",
       "      <td>0</td>\n",
       "      <td>1</td>\n",
       "      <td>0</td>\n",
       "      <td>0</td>\n",
       "      <td>0</td>\n",
       "      <td>0</td>\n",
       "      <td>1</td>\n",
       "      <td>0</td>\n",
       "    </tr>\n",
       "    <tr>\n",
       "      <th>48146</th>\n",
       "      <td>67.583336</td>\n",
       "      <td>176.0</td>\n",
       "      <td>144.0</td>\n",
       "      <td>5.122500e+04</td>\n",
       "      <td>12.000000</td>\n",
       "      <td>15.0</td>\n",
       "      <td>777.0</td>\n",
       "      <td>0.0</td>\n",
       "      <td>792.0</td>\n",
       "      <td>47585.0</td>\n",
       "      <td>...</td>\n",
       "      <td>219480.0</td>\n",
       "      <td>22.417</td>\n",
       "      <td>0</td>\n",
       "      <td>0</td>\n",
       "      <td>1</td>\n",
       "      <td>0</td>\n",
       "      <td>0</td>\n",
       "      <td>0</td>\n",
       "      <td>0</td>\n",
       "      <td>1</td>\n",
       "    </tr>\n",
       "    <tr>\n",
       "      <th>48147</th>\n",
       "      <td>581.232971</td>\n",
       "      <td>480.0</td>\n",
       "      <td>360.0</td>\n",
       "      <td>2.959790e+05</td>\n",
       "      <td>30.000000</td>\n",
       "      <td>310.0</td>\n",
       "      <td>17128.0</td>\n",
       "      <td>0.0</td>\n",
       "      <td>17438.0</td>\n",
       "      <td>10151572.0</td>\n",
       "      <td>...</td>\n",
       "      <td>218932.0</td>\n",
       "      <td>6.460</td>\n",
       "      <td>0</td>\n",
       "      <td>1</td>\n",
       "      <td>0</td>\n",
       "      <td>0</td>\n",
       "      <td>0</td>\n",
       "      <td>0</td>\n",
       "      <td>0</td>\n",
       "      <td>1</td>\n",
       "    </tr>\n",
       "    <tr>\n",
       "      <th>48148</th>\n",
       "      <td>645.840027</td>\n",
       "      <td>320.0</td>\n",
       "      <td>240.0</td>\n",
       "      <td>9.590300e+04</td>\n",
       "      <td>25.032558</td>\n",
       "      <td>138.0</td>\n",
       "      <td>16008.0</td>\n",
       "      <td>0.0</td>\n",
       "      <td>16146.0</td>\n",
       "      <td>1081321.0</td>\n",
       "      <td>...</td>\n",
       "      <td>219196.0</td>\n",
       "      <td>1.976</td>\n",
       "      <td>0</td>\n",
       "      <td>0</td>\n",
       "      <td>0</td>\n",
       "      <td>1</td>\n",
       "      <td>0</td>\n",
       "      <td>0</td>\n",
       "      <td>0</td>\n",
       "      <td>1</td>\n",
       "    </tr>\n",
       "    <tr>\n",
       "      <th>48149</th>\n",
       "      <td>167.391663</td>\n",
       "      <td>1280.0</td>\n",
       "      <td>720.0</td>\n",
       "      <td>2.207484e+06</td>\n",
       "      <td>24.000000</td>\n",
       "      <td>86.0</td>\n",
       "      <td>3931.0</td>\n",
       "      <td>0.0</td>\n",
       "      <td>4017.0</td>\n",
       "      <td>4369420.0</td>\n",
       "      <td>...</td>\n",
       "      <td>219656.0</td>\n",
       "      <td>13.849</td>\n",
       "      <td>0</td>\n",
       "      <td>1</td>\n",
       "      <td>0</td>\n",
       "      <td>0</td>\n",
       "      <td>0</td>\n",
       "      <td>0</td>\n",
       "      <td>0</td>\n",
       "      <td>1</td>\n",
       "    </tr>\n",
       "  </tbody>\n",
       "</table>\n",
       "<p>47918 rows × 27 columns</p>\n",
       "</div>"
      ],
      "text/plain": [
       "       video_duration   width  height       bitrate  framerate  i_frames  \\\n",
       "0          131.759995   640.0   480.0  1.047230e+05  25.145039      37.0   \n",
       "1          189.955994   320.0   240.0  2.312960e+05  29.000000      97.0   \n",
       "2          110.966995   480.0   360.0  6.926718e+05  30.000000      59.0   \n",
       "3           95.461998   640.0   480.0  8.092560e+05  29.000000      51.0   \n",
       "4           63.667000   640.0   480.0  9.725720e+05  15.000000      33.0   \n",
       "...               ...     ...     ...           ...        ...       ...   \n",
       "48142      167.391663  1280.0   720.0  2.207484e+06  24.000000      86.0   \n",
       "48146       67.583336   176.0   144.0  5.122500e+04  12.000000      15.0   \n",
       "48147      581.232971   480.0   360.0  2.959790e+05  30.000000     310.0   \n",
       "48148      645.840027   320.0   240.0  9.590300e+04  25.032558     138.0   \n",
       "48149      167.391663  1280.0   720.0  2.207484e+06  24.000000      86.0   \n",
       "\n",
       "       p_frames  b_frames   frames      i_size  ...  allocated _memory  \\\n",
       "0        3257.0       0.0   3294.0    945865.0  ...           221152.0   \n",
       "1        5597.0       0.0   5694.0    580292.0  ...           218664.0   \n",
       "2        3271.0       0.0   3330.0    529627.0  ...           216820.0   \n",
       "3        2811.0       0.0   2862.0    886496.0  ...           221160.0   \n",
       "4         923.0       0.0    956.0   1259657.0  ...           219656.0   \n",
       "...         ...       ...      ...         ...  ...                ...   \n",
       "48142    3931.0       0.0   4017.0   4369420.0  ...           219656.0   \n",
       "48146     777.0       0.0    792.0     47585.0  ...           219480.0   \n",
       "48147   17128.0       0.0  17438.0  10151572.0  ...           218932.0   \n",
       "48148   16008.0       0.0  16146.0   1081321.0  ...           219196.0   \n",
       "48149    3931.0       0.0   4017.0   4369420.0  ...           219656.0   \n",
       "\n",
       "       total_processing_time  flv  h264  mpeg4  vp8  flv_o  h264_o  mpeg4_o  \\\n",
       "0                      1.048    0     0      0    1      1       0        0   \n",
       "1                     -0.468    1     0      0    0      1       0        0   \n",
       "2                      3.696    0     1      0    0      0       1        0   \n",
       "3                      3.452    0     1      0    0      0       0        0   \n",
       "4                      2.692    0     1      0    0      1       0        0   \n",
       "...                      ...  ...   ...    ...  ...    ...     ...      ...   \n",
       "48142                  9.777    0     1      0    0      0       0        1   \n",
       "48146                 22.417    0     0      1    0      0       0        0   \n",
       "48147                  6.460    0     1      0    0      0       0        0   \n",
       "48148                  1.976    0     0      0    1      0       0        0   \n",
       "48149                 13.849    0     1      0    0      0       0        0   \n",
       "\n",
       "       vp8_o  \n",
       "0          0  \n",
       "1          0  \n",
       "2          0  \n",
       "3          1  \n",
       "4          0  \n",
       "...      ...  \n",
       "48142      0  \n",
       "48146      1  \n",
       "48147      1  \n",
       "48148      1  \n",
       "48149      1  \n",
       "\n",
       "[47918 rows x 27 columns]"
      ]
     },
     "execution_count": 56,
     "metadata": {},
     "output_type": "execute_result"
    }
   ],
   "source": [
    "df.drop(columns=['id', 'coding_standard', 'coding_standard_output'], inplace=True)\n",
    "final_df = pd.concat([df, df_1],axis = 1)\n",
    "final_df = pd.concat([final_df, df_2],axis = 1)\n",
    "final_df"
   ]
  },
  {
   "cell_type": "code",
   "execution_count": 57,
   "metadata": {},
   "outputs": [
    {
     "data": {
      "text/html": [
       "<div>\n",
       "<style scoped>\n",
       "    .dataframe tbody tr th:only-of-type {\n",
       "        vertical-align: middle;\n",
       "    }\n",
       "\n",
       "    .dataframe tbody tr th {\n",
       "        vertical-align: top;\n",
       "    }\n",
       "\n",
       "    .dataframe thead th {\n",
       "        text-align: right;\n",
       "    }\n",
       "</style>\n",
       "<table border=\"1\" class=\"dataframe\">\n",
       "  <thead>\n",
       "    <tr style=\"text-align: right;\">\n",
       "      <th></th>\n",
       "      <th>video_duration</th>\n",
       "      <th>width</th>\n",
       "      <th>height</th>\n",
       "      <th>bitrate</th>\n",
       "      <th>framerate</th>\n",
       "      <th>i_frames</th>\n",
       "      <th>p_frames</th>\n",
       "      <th>b_frames</th>\n",
       "      <th>frames</th>\n",
       "      <th>i_size</th>\n",
       "      <th>...</th>\n",
       "      <th>allocated _memory</th>\n",
       "      <th>flv</th>\n",
       "      <th>h264</th>\n",
       "      <th>mpeg4</th>\n",
       "      <th>vp8</th>\n",
       "      <th>flv_o</th>\n",
       "      <th>h264_o</th>\n",
       "      <th>mpeg4_o</th>\n",
       "      <th>vp8_o</th>\n",
       "      <th>total_processing_time</th>\n",
       "    </tr>\n",
       "  </thead>\n",
       "  <tbody>\n",
       "    <tr>\n",
       "      <th>0</th>\n",
       "      <td>131.759995</td>\n",
       "      <td>640.0</td>\n",
       "      <td>480.0</td>\n",
       "      <td>1.047230e+05</td>\n",
       "      <td>25.145039</td>\n",
       "      <td>37.0</td>\n",
       "      <td>3257.0</td>\n",
       "      <td>0.0</td>\n",
       "      <td>3294.0</td>\n",
       "      <td>945865.0</td>\n",
       "      <td>...</td>\n",
       "      <td>221152.0</td>\n",
       "      <td>0</td>\n",
       "      <td>0</td>\n",
       "      <td>0</td>\n",
       "      <td>1</td>\n",
       "      <td>1</td>\n",
       "      <td>0</td>\n",
       "      <td>0</td>\n",
       "      <td>0</td>\n",
       "      <td>1.048</td>\n",
       "    </tr>\n",
       "    <tr>\n",
       "      <th>1</th>\n",
       "      <td>189.955994</td>\n",
       "      <td>320.0</td>\n",
       "      <td>240.0</td>\n",
       "      <td>2.312960e+05</td>\n",
       "      <td>29.000000</td>\n",
       "      <td>97.0</td>\n",
       "      <td>5597.0</td>\n",
       "      <td>0.0</td>\n",
       "      <td>5694.0</td>\n",
       "      <td>580292.0</td>\n",
       "      <td>...</td>\n",
       "      <td>218664.0</td>\n",
       "      <td>1</td>\n",
       "      <td>0</td>\n",
       "      <td>0</td>\n",
       "      <td>0</td>\n",
       "      <td>1</td>\n",
       "      <td>0</td>\n",
       "      <td>0</td>\n",
       "      <td>0</td>\n",
       "      <td>-0.468</td>\n",
       "    </tr>\n",
       "    <tr>\n",
       "      <th>2</th>\n",
       "      <td>110.966995</td>\n",
       "      <td>480.0</td>\n",
       "      <td>360.0</td>\n",
       "      <td>6.926718e+05</td>\n",
       "      <td>30.000000</td>\n",
       "      <td>59.0</td>\n",
       "      <td>3271.0</td>\n",
       "      <td>0.0</td>\n",
       "      <td>3330.0</td>\n",
       "      <td>529627.0</td>\n",
       "      <td>...</td>\n",
       "      <td>216820.0</td>\n",
       "      <td>0</td>\n",
       "      <td>1</td>\n",
       "      <td>0</td>\n",
       "      <td>0</td>\n",
       "      <td>0</td>\n",
       "      <td>1</td>\n",
       "      <td>0</td>\n",
       "      <td>0</td>\n",
       "      <td>3.696</td>\n",
       "    </tr>\n",
       "    <tr>\n",
       "      <th>3</th>\n",
       "      <td>95.461998</td>\n",
       "      <td>640.0</td>\n",
       "      <td>480.0</td>\n",
       "      <td>8.092560e+05</td>\n",
       "      <td>29.000000</td>\n",
       "      <td>51.0</td>\n",
       "      <td>2811.0</td>\n",
       "      <td>0.0</td>\n",
       "      <td>2862.0</td>\n",
       "      <td>886496.0</td>\n",
       "      <td>...</td>\n",
       "      <td>221160.0</td>\n",
       "      <td>0</td>\n",
       "      <td>1</td>\n",
       "      <td>0</td>\n",
       "      <td>0</td>\n",
       "      <td>0</td>\n",
       "      <td>0</td>\n",
       "      <td>0</td>\n",
       "      <td>1</td>\n",
       "      <td>3.452</td>\n",
       "    </tr>\n",
       "    <tr>\n",
       "      <th>4</th>\n",
       "      <td>63.667000</td>\n",
       "      <td>640.0</td>\n",
       "      <td>480.0</td>\n",
       "      <td>9.725720e+05</td>\n",
       "      <td>15.000000</td>\n",
       "      <td>33.0</td>\n",
       "      <td>923.0</td>\n",
       "      <td>0.0</td>\n",
       "      <td>956.0</td>\n",
       "      <td>1259657.0</td>\n",
       "      <td>...</td>\n",
       "      <td>219656.0</td>\n",
       "      <td>0</td>\n",
       "      <td>1</td>\n",
       "      <td>0</td>\n",
       "      <td>0</td>\n",
       "      <td>1</td>\n",
       "      <td>0</td>\n",
       "      <td>0</td>\n",
       "      <td>0</td>\n",
       "      <td>2.692</td>\n",
       "    </tr>\n",
       "    <tr>\n",
       "      <th>...</th>\n",
       "      <td>...</td>\n",
       "      <td>...</td>\n",
       "      <td>...</td>\n",
       "      <td>...</td>\n",
       "      <td>...</td>\n",
       "      <td>...</td>\n",
       "      <td>...</td>\n",
       "      <td>...</td>\n",
       "      <td>...</td>\n",
       "      <td>...</td>\n",
       "      <td>...</td>\n",
       "      <td>...</td>\n",
       "      <td>...</td>\n",
       "      <td>...</td>\n",
       "      <td>...</td>\n",
       "      <td>...</td>\n",
       "      <td>...</td>\n",
       "      <td>...</td>\n",
       "      <td>...</td>\n",
       "      <td>...</td>\n",
       "      <td>...</td>\n",
       "    </tr>\n",
       "    <tr>\n",
       "      <th>48142</th>\n",
       "      <td>167.391663</td>\n",
       "      <td>1280.0</td>\n",
       "      <td>720.0</td>\n",
       "      <td>2.207484e+06</td>\n",
       "      <td>24.000000</td>\n",
       "      <td>86.0</td>\n",
       "      <td>3931.0</td>\n",
       "      <td>0.0</td>\n",
       "      <td>4017.0</td>\n",
       "      <td>4369420.0</td>\n",
       "      <td>...</td>\n",
       "      <td>219656.0</td>\n",
       "      <td>0</td>\n",
       "      <td>1</td>\n",
       "      <td>0</td>\n",
       "      <td>0</td>\n",
       "      <td>0</td>\n",
       "      <td>0</td>\n",
       "      <td>1</td>\n",
       "      <td>0</td>\n",
       "      <td>9.777</td>\n",
       "    </tr>\n",
       "    <tr>\n",
       "      <th>48146</th>\n",
       "      <td>67.583336</td>\n",
       "      <td>176.0</td>\n",
       "      <td>144.0</td>\n",
       "      <td>5.122500e+04</td>\n",
       "      <td>12.000000</td>\n",
       "      <td>15.0</td>\n",
       "      <td>777.0</td>\n",
       "      <td>0.0</td>\n",
       "      <td>792.0</td>\n",
       "      <td>47585.0</td>\n",
       "      <td>...</td>\n",
       "      <td>219480.0</td>\n",
       "      <td>0</td>\n",
       "      <td>0</td>\n",
       "      <td>1</td>\n",
       "      <td>0</td>\n",
       "      <td>0</td>\n",
       "      <td>0</td>\n",
       "      <td>0</td>\n",
       "      <td>1</td>\n",
       "      <td>22.417</td>\n",
       "    </tr>\n",
       "    <tr>\n",
       "      <th>48147</th>\n",
       "      <td>581.232971</td>\n",
       "      <td>480.0</td>\n",
       "      <td>360.0</td>\n",
       "      <td>2.959790e+05</td>\n",
       "      <td>30.000000</td>\n",
       "      <td>310.0</td>\n",
       "      <td>17128.0</td>\n",
       "      <td>0.0</td>\n",
       "      <td>17438.0</td>\n",
       "      <td>10151572.0</td>\n",
       "      <td>...</td>\n",
       "      <td>218932.0</td>\n",
       "      <td>0</td>\n",
       "      <td>1</td>\n",
       "      <td>0</td>\n",
       "      <td>0</td>\n",
       "      <td>0</td>\n",
       "      <td>0</td>\n",
       "      <td>0</td>\n",
       "      <td>1</td>\n",
       "      <td>6.460</td>\n",
       "    </tr>\n",
       "    <tr>\n",
       "      <th>48148</th>\n",
       "      <td>645.840027</td>\n",
       "      <td>320.0</td>\n",
       "      <td>240.0</td>\n",
       "      <td>9.590300e+04</td>\n",
       "      <td>25.032558</td>\n",
       "      <td>138.0</td>\n",
       "      <td>16008.0</td>\n",
       "      <td>0.0</td>\n",
       "      <td>16146.0</td>\n",
       "      <td>1081321.0</td>\n",
       "      <td>...</td>\n",
       "      <td>219196.0</td>\n",
       "      <td>0</td>\n",
       "      <td>0</td>\n",
       "      <td>0</td>\n",
       "      <td>1</td>\n",
       "      <td>0</td>\n",
       "      <td>0</td>\n",
       "      <td>0</td>\n",
       "      <td>1</td>\n",
       "      <td>1.976</td>\n",
       "    </tr>\n",
       "    <tr>\n",
       "      <th>48149</th>\n",
       "      <td>167.391663</td>\n",
       "      <td>1280.0</td>\n",
       "      <td>720.0</td>\n",
       "      <td>2.207484e+06</td>\n",
       "      <td>24.000000</td>\n",
       "      <td>86.0</td>\n",
       "      <td>3931.0</td>\n",
       "      <td>0.0</td>\n",
       "      <td>4017.0</td>\n",
       "      <td>4369420.0</td>\n",
       "      <td>...</td>\n",
       "      <td>219656.0</td>\n",
       "      <td>0</td>\n",
       "      <td>1</td>\n",
       "      <td>0</td>\n",
       "      <td>0</td>\n",
       "      <td>0</td>\n",
       "      <td>0</td>\n",
       "      <td>0</td>\n",
       "      <td>1</td>\n",
       "      <td>13.849</td>\n",
       "    </tr>\n",
       "  </tbody>\n",
       "</table>\n",
       "<p>47918 rows × 27 columns</p>\n",
       "</div>"
      ],
      "text/plain": [
       "       video_duration   width  height       bitrate  framerate  i_frames  \\\n",
       "0          131.759995   640.0   480.0  1.047230e+05  25.145039      37.0   \n",
       "1          189.955994   320.0   240.0  2.312960e+05  29.000000      97.0   \n",
       "2          110.966995   480.0   360.0  6.926718e+05  30.000000      59.0   \n",
       "3           95.461998   640.0   480.0  8.092560e+05  29.000000      51.0   \n",
       "4           63.667000   640.0   480.0  9.725720e+05  15.000000      33.0   \n",
       "...               ...     ...     ...           ...        ...       ...   \n",
       "48142      167.391663  1280.0   720.0  2.207484e+06  24.000000      86.0   \n",
       "48146       67.583336   176.0   144.0  5.122500e+04  12.000000      15.0   \n",
       "48147      581.232971   480.0   360.0  2.959790e+05  30.000000     310.0   \n",
       "48148      645.840027   320.0   240.0  9.590300e+04  25.032558     138.0   \n",
       "48149      167.391663  1280.0   720.0  2.207484e+06  24.000000      86.0   \n",
       "\n",
       "       p_frames  b_frames   frames      i_size  ...  allocated _memory  flv  \\\n",
       "0        3257.0       0.0   3294.0    945865.0  ...           221152.0    0   \n",
       "1        5597.0       0.0   5694.0    580292.0  ...           218664.0    1   \n",
       "2        3271.0       0.0   3330.0    529627.0  ...           216820.0    0   \n",
       "3        2811.0       0.0   2862.0    886496.0  ...           221160.0    0   \n",
       "4         923.0       0.0    956.0   1259657.0  ...           219656.0    0   \n",
       "...         ...       ...      ...         ...  ...                ...  ...   \n",
       "48142    3931.0       0.0   4017.0   4369420.0  ...           219656.0    0   \n",
       "48146     777.0       0.0    792.0     47585.0  ...           219480.0    0   \n",
       "48147   17128.0       0.0  17438.0  10151572.0  ...           218932.0    0   \n",
       "48148   16008.0       0.0  16146.0   1081321.0  ...           219196.0    0   \n",
       "48149    3931.0       0.0   4017.0   4369420.0  ...           219656.0    0   \n",
       "\n",
       "       h264  mpeg4  vp8  flv_o  h264_o  mpeg4_o  vp8_o  total_processing_time  \n",
       "0         0      0    1      1       0        0      0                  1.048  \n",
       "1         0      0    0      1       0        0      0                 -0.468  \n",
       "2         1      0    0      0       1        0      0                  3.696  \n",
       "3         1      0    0      0       0        0      1                  3.452  \n",
       "4         1      0    0      1       0        0      0                  2.692  \n",
       "...     ...    ...  ...    ...     ...      ...    ...                    ...  \n",
       "48142     1      0    0      0       0        1      0                  9.777  \n",
       "48146     0      1    0      0       0        0      1                 22.417  \n",
       "48147     1      0    0      0       0        0      1                  6.460  \n",
       "48148     0      0    1      0       0        0      1                  1.976  \n",
       "48149     1      0    0      0       0        0      1                 13.849  \n",
       "\n",
       "[47918 rows x 27 columns]"
      ]
     },
     "execution_count": 57,
     "metadata": {},
     "output_type": "execute_result"
    }
   ],
   "source": [
    "x = list(final_df[\"total_processing_time\"])\n",
    "final_df.drop(columns=\"total_processing_time\", inplace = True)\n",
    "final_df['total_processing_time'] = x\n",
    "final_df"
   ]
  },
  {
   "cell_type": "code",
   "execution_count": 58,
   "metadata": {},
   "outputs": [
    {
     "data": {
      "text/plain": [
       "['video_duration',\n",
       " 'width',\n",
       " 'height',\n",
       " 'bitrate',\n",
       " 'framerate',\n",
       " 'i_frames',\n",
       " 'p_frames',\n",
       " 'b_frames',\n",
       " 'frames',\n",
       " 'i_size',\n",
       " 'p_size',\n",
       " 'b_size',\n",
       " 'size',\n",
       " 'bitrate_output',\n",
       " 'framerate_output',\n",
       " 'output_width',\n",
       " 'output_height',\n",
       " 'allocated _memory',\n",
       " 'flv',\n",
       " 'h264',\n",
       " 'mpeg4',\n",
       " 'vp8',\n",
       " 'flv_o',\n",
       " 'h264_o',\n",
       " 'mpeg4_o',\n",
       " 'vp8_o']"
      ]
     },
     "execution_count": 58,
     "metadata": {},
     "output_type": "execute_result"
    }
   ],
   "source": [
    "list(final_df.columns)[0:26]"
   ]
  },
  {
   "cell_type": "code",
   "execution_count": 59,
   "metadata": {},
   "outputs": [],
   "source": [
    "final_df.drop(columns=['allocated _memory', 'size'], inplace = True)"
   ]
  },
  {
   "cell_type": "code",
   "execution_count": 60,
   "metadata": {},
   "outputs": [],
   "source": [
    "from sklearn.model_selection import train_test_split\n",
    "\n",
    "X = final_df.iloc[:, 0:24].values\n",
    "Y = final_df.iloc[:, -1].values\n",
    "\n",
    "x_train, x_test, y_train, y_test = train_test_split(X, Y, test_size = 0.1)"
   ]
  },
  {
   "cell_type": "code",
   "execution_count": 95,
   "metadata": {},
   "outputs": [
    {
     "data": {
      "text/plain": [
       "0.9885026025930979"
      ]
     },
     "execution_count": 95,
     "metadata": {},
     "output_type": "execute_result"
    }
   ],
   "source": [
    "from sklearn.ensemble import RandomForestRegressor\n",
    "\n",
    "reg = RandomForestRegressor(max_depth=22)\n",
    "reg.fit(x_train, y_train)\n",
    "reg.score(x_test, y_test)"
   ]
  },
  {
   "cell_type": "code",
   "execution_count": 62,
   "metadata": {},
   "outputs": [
    {
     "data": {
      "text/plain": [
       "0.9761167356873274"
      ]
     },
     "execution_count": 62,
     "metadata": {},
     "output_type": "execute_result"
    }
   ],
   "source": [
    "from sklearn.tree import DecisionTreeRegressor\n",
    "\n",
    "reg_2 = DecisionTreeRegressor(max_depth=35)\n",
    "reg_2.fit(x_train, y_train)\n",
    "reg_2.score(x_test, y_test)"
   ]
  },
  {
   "cell_type": "code",
   "execution_count": 83,
   "metadata": {},
   "outputs": [
    {
     "data": {
      "text/plain": [
       "0.992442963333413"
      ]
     },
     "execution_count": 83,
     "metadata": {},
     "output_type": "execute_result"
    }
   ],
   "source": [
    "from sklearn.ensemble import GradientBoostingRegressor\n",
    "\n",
    "reg_3 = GradientBoostingRegressor(loss='ls', learning_rate=0.50, n_estimators=128, max_depth = 11)\n",
    "reg_3.fit(x_train, y_train)\n",
    "reg_3.score(x_test, y_test)"
   ]
  },
  {
   "cell_type": "code",
   "execution_count": 97,
   "metadata": {},
   "outputs": [
    {
     "data": {
      "text/plain": [
       "0.9890971100677044"
      ]
     },
     "execution_count": 97,
     "metadata": {},
     "output_type": "execute_result"
    }
   ],
   "source": [
    "from sklearn.ensemble import BaggingRegressor\n",
    "\n",
    "reg_4 = BaggingRegressor(n_estimators=128)\n",
    "reg_4.fit(x_train, y_train)\n",
    "reg_4.score(x_test, y_test)"
   ]
  },
  {
   "cell_type": "code",
   "execution_count": 86,
   "metadata": {},
   "outputs": [],
   "source": [
    "X = final_df.iloc[:, 0:24].values\n",
    "Y = final_df.iloc[:, -1].values\n",
    "\n"
   ]
  },
  {
   "cell_type": "code",
   "execution_count": 87,
   "metadata": {},
   "outputs": [
    {
     "data": {
      "text/plain": [
       "RandomForestRegressor(max_depth=23)"
      ]
     },
     "execution_count": 87,
     "metadata": {},
     "output_type": "execute_result"
    }
   ],
   "source": [
    "reg.fit(X, Y)"
   ]
  },
  {
   "cell_type": "code",
   "execution_count": 27,
   "metadata": {},
   "outputs": [
    {
     "data": {
      "text/plain": [
       "DecisionTreeRegressor(max_depth=35)"
      ]
     },
     "execution_count": 27,
     "metadata": {},
     "output_type": "execute_result"
    }
   ],
   "source": [
    "reg_2.fit(X, Y)"
   ]
  },
  {
   "cell_type": "code",
   "execution_count": 88,
   "metadata": {},
   "outputs": [
    {
     "data": {
      "text/plain": [
       "GradientBoostingRegressor(learning_rate=0.5, max_depth=11, n_estimators=128)"
      ]
     },
     "execution_count": 88,
     "metadata": {},
     "output_type": "execute_result"
    }
   ],
   "source": [
    "reg_3.fit(X, Y)"
   ]
  },
  {
   "cell_type": "code",
   "execution_count": 89,
   "metadata": {},
   "outputs": [
    {
     "data": {
      "text/plain": [
       "BaggingRegressor(n_estimators=100)"
      ]
     },
     "execution_count": 89,
     "metadata": {},
     "output_type": "execute_result"
    }
   ],
   "source": [
    "reg_4.fit(X, Y)"
   ]
  },
  {
   "cell_type": "code",
   "execution_count": 69,
   "metadata": {},
   "outputs": [
    {
     "data": {
      "text/html": [
       "<div>\n",
       "<style scoped>\n",
       "    .dataframe tbody tr th:only-of-type {\n",
       "        vertical-align: middle;\n",
       "    }\n",
       "\n",
       "    .dataframe tbody tr th {\n",
       "        vertical-align: top;\n",
       "    }\n",
       "\n",
       "    .dataframe thead th {\n",
       "        text-align: right;\n",
       "    }\n",
       "</style>\n",
       "<table border=\"1\" class=\"dataframe\">\n",
       "  <thead>\n",
       "    <tr style=\"text-align: right;\">\n",
       "      <th></th>\n",
       "      <th>id</th>\n",
       "      <th>video_duration</th>\n",
       "      <th>coding_standard</th>\n",
       "      <th>width</th>\n",
       "      <th>height</th>\n",
       "      <th>bitrate</th>\n",
       "      <th>framerate</th>\n",
       "      <th>i_frames</th>\n",
       "      <th>p_frames</th>\n",
       "      <th>b_frames</th>\n",
       "      <th>...</th>\n",
       "      <th>i_size</th>\n",
       "      <th>p_size</th>\n",
       "      <th>b_size</th>\n",
       "      <th>size</th>\n",
       "      <th>coding_standard_output</th>\n",
       "      <th>bitrate_output</th>\n",
       "      <th>framerate_output</th>\n",
       "      <th>output_width</th>\n",
       "      <th>output_height</th>\n",
       "      <th>allocated _memory</th>\n",
       "    </tr>\n",
       "  </thead>\n",
       "  <tbody>\n",
       "    <tr>\n",
       "      <th>0</th>\n",
       "      <td>48151</td>\n",
       "      <td>130.356670</td>\n",
       "      <td>mpeg4</td>\n",
       "      <td>176.0</td>\n",
       "      <td>144.0</td>\n",
       "      <td>54590.0</td>\n",
       "      <td>12.000000</td>\n",
       "      <td>27.0</td>\n",
       "      <td>1537.0</td>\n",
       "      <td>0.0</td>\n",
       "      <td>...</td>\n",
       "      <td>64483.0</td>\n",
       "      <td>825054.0</td>\n",
       "      <td>0.0</td>\n",
       "      <td>889537.0</td>\n",
       "      <td>mpeg4</td>\n",
       "      <td>56000.0</td>\n",
       "      <td>12.0</td>\n",
       "      <td>320.0</td>\n",
       "      <td>240.0</td>\n",
       "      <td>25164.0</td>\n",
       "    </tr>\n",
       "    <tr>\n",
       "      <th>1</th>\n",
       "      <td>48152</td>\n",
       "      <td>130.356670</td>\n",
       "      <td>mpeg4</td>\n",
       "      <td>176.0</td>\n",
       "      <td>144.0</td>\n",
       "      <td>54590.0</td>\n",
       "      <td>12.000000</td>\n",
       "      <td>27.0</td>\n",
       "      <td>1537.0</td>\n",
       "      <td>0.0</td>\n",
       "      <td>...</td>\n",
       "      <td>64483.0</td>\n",
       "      <td>825054.0</td>\n",
       "      <td>0.0</td>\n",
       "      <td>889537.0</td>\n",
       "      <td>mpeg4</td>\n",
       "      <td>56000.0</td>\n",
       "      <td>12.0</td>\n",
       "      <td>1280.0</td>\n",
       "      <td>720.0</td>\n",
       "      <td>58528.0</td>\n",
       "    </tr>\n",
       "    <tr>\n",
       "      <th>2</th>\n",
       "      <td>48153</td>\n",
       "      <td>130.356670</td>\n",
       "      <td>mpeg4</td>\n",
       "      <td>176.0</td>\n",
       "      <td>144.0</td>\n",
       "      <td>54590.0</td>\n",
       "      <td>12.000000</td>\n",
       "      <td>27.0</td>\n",
       "      <td>1537.0</td>\n",
       "      <td>0.0</td>\n",
       "      <td>...</td>\n",
       "      <td>64483.0</td>\n",
       "      <td>825054.0</td>\n",
       "      <td>0.0</td>\n",
       "      <td>889537.0</td>\n",
       "      <td>mpeg4</td>\n",
       "      <td>56000.0</td>\n",
       "      <td>12.0</td>\n",
       "      <td>1920.0</td>\n",
       "      <td>1080.0</td>\n",
       "      <td>102072.0</td>\n",
       "    </tr>\n",
       "    <tr>\n",
       "      <th>3</th>\n",
       "      <td>48154</td>\n",
       "      <td>130.356670</td>\n",
       "      <td>mpeg4</td>\n",
       "      <td>176.0</td>\n",
       "      <td>144.0</td>\n",
       "      <td>54590.0</td>\n",
       "      <td>12.000000</td>\n",
       "      <td>27.0</td>\n",
       "      <td>1537.0</td>\n",
       "      <td>0.0</td>\n",
       "      <td>...</td>\n",
       "      <td>64483.0</td>\n",
       "      <td>825054.0</td>\n",
       "      <td>0.0</td>\n",
       "      <td>889537.0</td>\n",
       "      <td>mpeg4</td>\n",
       "      <td>56000.0</td>\n",
       "      <td>15.0</td>\n",
       "      <td>1920.0</td>\n",
       "      <td>1080.0</td>\n",
       "      <td>102072.0</td>\n",
       "    </tr>\n",
       "    <tr>\n",
       "      <th>4</th>\n",
       "      <td>48155</td>\n",
       "      <td>130.356670</td>\n",
       "      <td>mpeg4</td>\n",
       "      <td>176.0</td>\n",
       "      <td>144.0</td>\n",
       "      <td>54590.0</td>\n",
       "      <td>12.000000</td>\n",
       "      <td>27.0</td>\n",
       "      <td>1537.0</td>\n",
       "      <td>0.0</td>\n",
       "      <td>...</td>\n",
       "      <td>64483.0</td>\n",
       "      <td>825054.0</td>\n",
       "      <td>0.0</td>\n",
       "      <td>889537.0</td>\n",
       "      <td>mpeg4</td>\n",
       "      <td>56000.0</td>\n",
       "      <td>25.0</td>\n",
       "      <td>640.0</td>\n",
       "      <td>480.0</td>\n",
       "      <td>34308.0</td>\n",
       "    </tr>\n",
       "    <tr>\n",
       "      <th>...</th>\n",
       "      <td>...</td>\n",
       "      <td>...</td>\n",
       "      <td>...</td>\n",
       "      <td>...</td>\n",
       "      <td>...</td>\n",
       "      <td>...</td>\n",
       "      <td>...</td>\n",
       "      <td>...</td>\n",
       "      <td>...</td>\n",
       "      <td>...</td>\n",
       "      <td>...</td>\n",
       "      <td>...</td>\n",
       "      <td>...</td>\n",
       "      <td>...</td>\n",
       "      <td>...</td>\n",
       "      <td>...</td>\n",
       "      <td>...</td>\n",
       "      <td>...</td>\n",
       "      <td>...</td>\n",
       "      <td>...</td>\n",
       "      <td>...</td>\n",
       "    </tr>\n",
       "    <tr>\n",
       "      <th>20629</th>\n",
       "      <td>68780</td>\n",
       "      <td>807.974000</td>\n",
       "      <td>h264</td>\n",
       "      <td>480.0</td>\n",
       "      <td>360.0</td>\n",
       "      <td>355622.0</td>\n",
       "      <td>29.000000</td>\n",
       "      <td>433.0</td>\n",
       "      <td>23783.0</td>\n",
       "      <td>0.0</td>\n",
       "      <td>...</td>\n",
       "      <td>6406304.0</td>\n",
       "      <td>29510436.0</td>\n",
       "      <td>0.0</td>\n",
       "      <td>35916740.0</td>\n",
       "      <td>vp8</td>\n",
       "      <td>5000000.0</td>\n",
       "      <td>25.0</td>\n",
       "      <td>640.0</td>\n",
       "      <td>480.0</td>\n",
       "      <td>88112.0</td>\n",
       "    </tr>\n",
       "    <tr>\n",
       "      <th>20630</th>\n",
       "      <td>68781</td>\n",
       "      <td>59.482998</td>\n",
       "      <td>h264</td>\n",
       "      <td>480.0</td>\n",
       "      <td>360.0</td>\n",
       "      <td>330241.0</td>\n",
       "      <td>29.000000</td>\n",
       "      <td>61.0</td>\n",
       "      <td>1722.0</td>\n",
       "      <td>0.0</td>\n",
       "      <td>...</td>\n",
       "      <td>1147618.0</td>\n",
       "      <td>1307848.0</td>\n",
       "      <td>0.0</td>\n",
       "      <td>2455466.0</td>\n",
       "      <td>h264</td>\n",
       "      <td>242000.0</td>\n",
       "      <td>15.0</td>\n",
       "      <td>480.0</td>\n",
       "      <td>360.0</td>\n",
       "      <td>103504.0</td>\n",
       "    </tr>\n",
       "    <tr>\n",
       "      <th>20631</th>\n",
       "      <td>68782</td>\n",
       "      <td>128.061000</td>\n",
       "      <td>flv</td>\n",
       "      <td>320.0</td>\n",
       "      <td>240.0</td>\n",
       "      <td>257217.0</td>\n",
       "      <td>29.000000</td>\n",
       "      <td>66.0</td>\n",
       "      <td>3773.0</td>\n",
       "      <td>0.0</td>\n",
       "      <td>...</td>\n",
       "      <td>743566.0</td>\n",
       "      <td>3373880.0</td>\n",
       "      <td>0.0</td>\n",
       "      <td>4117446.0</td>\n",
       "      <td>NaN</td>\n",
       "      <td>5000000.0</td>\n",
       "      <td>12.0</td>\n",
       "      <td>0.0</td>\n",
       "      <td>144.0</td>\n",
       "      <td>88444.0</td>\n",
       "    </tr>\n",
       "    <tr>\n",
       "      <th>20632</th>\n",
       "      <td>68783</td>\n",
       "      <td>249.680000</td>\n",
       "      <td>vp8</td>\n",
       "      <td>320.0</td>\n",
       "      <td>240.0</td>\n",
       "      <td>359345.0</td>\n",
       "      <td>25.068274</td>\n",
       "      <td>129.0</td>\n",
       "      <td>6113.0</td>\n",
       "      <td>0.0</td>\n",
       "      <td>...</td>\n",
       "      <td>1758664.0</td>\n",
       "      <td>9456514.0</td>\n",
       "      <td>0.0</td>\n",
       "      <td>11215178.0</td>\n",
       "      <td>NaN</td>\n",
       "      <td>539000.0</td>\n",
       "      <td>12.0</td>\n",
       "      <td>176.0</td>\n",
       "      <td>144.0</td>\n",
       "      <td>88708.0</td>\n",
       "    </tr>\n",
       "    <tr>\n",
       "      <th>20633</th>\n",
       "      <td>68784</td>\n",
       "      <td>183.623340</td>\n",
       "      <td>h264</td>\n",
       "      <td>1280.0</td>\n",
       "      <td>720.0</td>\n",
       "      <td>2847539.0</td>\n",
       "      <td>29.000000</td>\n",
       "      <td>98.0</td>\n",
       "      <td>5405.0</td>\n",
       "      <td>0.0</td>\n",
       "      <td>...</td>\n",
       "      <td>NaN</td>\n",
       "      <td>60113035.0</td>\n",
       "      <td>0.0</td>\n",
       "      <td>65359329.0</td>\n",
       "      <td>mpeg4</td>\n",
       "      <td>539000.0</td>\n",
       "      <td>12.0</td>\n",
       "      <td>320.0</td>\n",
       "      <td>240.0</td>\n",
       "      <td>88724.0</td>\n",
       "    </tr>\n",
       "  </tbody>\n",
       "</table>\n",
       "<p>20634 rows × 21 columns</p>\n",
       "</div>"
      ],
      "text/plain": [
       "          id  video_duration coding_standard   width  height    bitrate  \\\n",
       "0      48151      130.356670           mpeg4   176.0   144.0    54590.0   \n",
       "1      48152      130.356670           mpeg4   176.0   144.0    54590.0   \n",
       "2      48153      130.356670           mpeg4   176.0   144.0    54590.0   \n",
       "3      48154      130.356670           mpeg4   176.0   144.0    54590.0   \n",
       "4      48155      130.356670           mpeg4   176.0   144.0    54590.0   \n",
       "...      ...             ...             ...     ...     ...        ...   \n",
       "20629  68780      807.974000            h264   480.0   360.0   355622.0   \n",
       "20630  68781       59.482998            h264   480.0   360.0   330241.0   \n",
       "20631  68782      128.061000             flv   320.0   240.0   257217.0   \n",
       "20632  68783      249.680000             vp8   320.0   240.0   359345.0   \n",
       "20633  68784      183.623340            h264  1280.0   720.0  2847539.0   \n",
       "\n",
       "       framerate  i_frames  p_frames  b_frames  ...     i_size      p_size  \\\n",
       "0      12.000000      27.0    1537.0       0.0  ...    64483.0    825054.0   \n",
       "1      12.000000      27.0    1537.0       0.0  ...    64483.0    825054.0   \n",
       "2      12.000000      27.0    1537.0       0.0  ...    64483.0    825054.0   \n",
       "3      12.000000      27.0    1537.0       0.0  ...    64483.0    825054.0   \n",
       "4      12.000000      27.0    1537.0       0.0  ...    64483.0    825054.0   \n",
       "...          ...       ...       ...       ...  ...        ...         ...   \n",
       "20629  29.000000     433.0   23783.0       0.0  ...  6406304.0  29510436.0   \n",
       "20630  29.000000      61.0    1722.0       0.0  ...  1147618.0   1307848.0   \n",
       "20631  29.000000      66.0    3773.0       0.0  ...   743566.0   3373880.0   \n",
       "20632  25.068274     129.0    6113.0       0.0  ...  1758664.0   9456514.0   \n",
       "20633  29.000000      98.0    5405.0       0.0  ...        NaN  60113035.0   \n",
       "\n",
       "       b_size        size  coding_standard_output bitrate_output  \\\n",
       "0         0.0    889537.0                   mpeg4        56000.0   \n",
       "1         0.0    889537.0                   mpeg4        56000.0   \n",
       "2         0.0    889537.0                   mpeg4        56000.0   \n",
       "3         0.0    889537.0                   mpeg4        56000.0   \n",
       "4         0.0    889537.0                   mpeg4        56000.0   \n",
       "...       ...         ...                     ...            ...   \n",
       "20629     0.0  35916740.0                     vp8      5000000.0   \n",
       "20630     0.0   2455466.0                    h264       242000.0   \n",
       "20631     0.0   4117446.0                     NaN      5000000.0   \n",
       "20632     0.0  11215178.0                     NaN       539000.0   \n",
       "20633     0.0  65359329.0                   mpeg4       539000.0   \n",
       "\n",
       "       framerate_output  output_width  output_height  allocated _memory  \n",
       "0                  12.0         320.0          240.0            25164.0  \n",
       "1                  12.0        1280.0          720.0            58528.0  \n",
       "2                  12.0        1920.0         1080.0           102072.0  \n",
       "3                  15.0        1920.0         1080.0           102072.0  \n",
       "4                  25.0         640.0          480.0            34308.0  \n",
       "...                 ...           ...            ...                ...  \n",
       "20629              25.0         640.0          480.0            88112.0  \n",
       "20630              15.0         480.0          360.0           103504.0  \n",
       "20631              12.0           0.0          144.0            88444.0  \n",
       "20632              12.0         176.0          144.0            88708.0  \n",
       "20633              12.0         320.0          240.0            88724.0  \n",
       "\n",
       "[20634 rows x 21 columns]"
      ]
     },
     "execution_count": 69,
     "metadata": {},
     "output_type": "execute_result"
    }
   ],
   "source": [
    "test_df = pd.read_csv('test.csv')\n",
    "test_df"
   ]
  },
  {
   "cell_type": "code",
   "execution_count": 70,
   "metadata": {},
   "outputs": [
    {
     "data": {
      "text/html": [
       "<div>\n",
       "<style scoped>\n",
       "    .dataframe tbody tr th:only-of-type {\n",
       "        vertical-align: middle;\n",
       "    }\n",
       "\n",
       "    .dataframe tbody tr th {\n",
       "        vertical-align: top;\n",
       "    }\n",
       "\n",
       "    .dataframe thead th {\n",
       "        text-align: right;\n",
       "    }\n",
       "</style>\n",
       "<table border=\"1\" class=\"dataframe\">\n",
       "  <thead>\n",
       "    <tr style=\"text-align: right;\">\n",
       "      <th></th>\n",
       "      <th>flv</th>\n",
       "      <th>h264</th>\n",
       "      <th>mpeg4</th>\n",
       "      <th>vp8</th>\n",
       "    </tr>\n",
       "  </thead>\n",
       "  <tbody>\n",
       "    <tr>\n",
       "      <th>0</th>\n",
       "      <td>0</td>\n",
       "      <td>0</td>\n",
       "      <td>1</td>\n",
       "      <td>0</td>\n",
       "    </tr>\n",
       "    <tr>\n",
       "      <th>1</th>\n",
       "      <td>0</td>\n",
       "      <td>0</td>\n",
       "      <td>1</td>\n",
       "      <td>0</td>\n",
       "    </tr>\n",
       "    <tr>\n",
       "      <th>2</th>\n",
       "      <td>0</td>\n",
       "      <td>0</td>\n",
       "      <td>1</td>\n",
       "      <td>0</td>\n",
       "    </tr>\n",
       "    <tr>\n",
       "      <th>3</th>\n",
       "      <td>0</td>\n",
       "      <td>0</td>\n",
       "      <td>1</td>\n",
       "      <td>0</td>\n",
       "    </tr>\n",
       "    <tr>\n",
       "      <th>4</th>\n",
       "      <td>0</td>\n",
       "      <td>0</td>\n",
       "      <td>1</td>\n",
       "      <td>0</td>\n",
       "    </tr>\n",
       "    <tr>\n",
       "      <th>...</th>\n",
       "      <td>...</td>\n",
       "      <td>...</td>\n",
       "      <td>...</td>\n",
       "      <td>...</td>\n",
       "    </tr>\n",
       "    <tr>\n",
       "      <th>20629</th>\n",
       "      <td>0</td>\n",
       "      <td>1</td>\n",
       "      <td>0</td>\n",
       "      <td>0</td>\n",
       "    </tr>\n",
       "    <tr>\n",
       "      <th>20630</th>\n",
       "      <td>0</td>\n",
       "      <td>1</td>\n",
       "      <td>0</td>\n",
       "      <td>0</td>\n",
       "    </tr>\n",
       "    <tr>\n",
       "      <th>20631</th>\n",
       "      <td>1</td>\n",
       "      <td>0</td>\n",
       "      <td>0</td>\n",
       "      <td>0</td>\n",
       "    </tr>\n",
       "    <tr>\n",
       "      <th>20632</th>\n",
       "      <td>0</td>\n",
       "      <td>0</td>\n",
       "      <td>0</td>\n",
       "      <td>1</td>\n",
       "    </tr>\n",
       "    <tr>\n",
       "      <th>20633</th>\n",
       "      <td>0</td>\n",
       "      <td>1</td>\n",
       "      <td>0</td>\n",
       "      <td>0</td>\n",
       "    </tr>\n",
       "  </tbody>\n",
       "</table>\n",
       "<p>20634 rows × 4 columns</p>\n",
       "</div>"
      ],
      "text/plain": [
       "       flv  h264  mpeg4  vp8\n",
       "0        0     0      1    0\n",
       "1        0     0      1    0\n",
       "2        0     0      1    0\n",
       "3        0     0      1    0\n",
       "4        0     0      1    0\n",
       "...    ...   ...    ...  ...\n",
       "20629    0     1      0    0\n",
       "20630    0     1      0    0\n",
       "20631    1     0      0    0\n",
       "20632    0     0      0    1\n",
       "20633    0     1      0    0\n",
       "\n",
       "[20634 rows x 4 columns]"
      ]
     },
     "execution_count": 70,
     "metadata": {},
     "output_type": "execute_result"
    }
   ],
   "source": [
    "df_test_1 = pd.get_dummies(test_df[\"coding_standard\"])\n",
    "df_test_1"
   ]
  },
  {
   "cell_type": "code",
   "execution_count": 71,
   "metadata": {},
   "outputs": [
    {
     "data": {
      "text/html": [
       "<div>\n",
       "<style scoped>\n",
       "    .dataframe tbody tr th:only-of-type {\n",
       "        vertical-align: middle;\n",
       "    }\n",
       "\n",
       "    .dataframe tbody tr th {\n",
       "        vertical-align: top;\n",
       "    }\n",
       "\n",
       "    .dataframe thead th {\n",
       "        text-align: right;\n",
       "    }\n",
       "</style>\n",
       "<table border=\"1\" class=\"dataframe\">\n",
       "  <thead>\n",
       "    <tr style=\"text-align: right;\">\n",
       "      <th></th>\n",
       "      <th>flv_o</th>\n",
       "      <th>h264_o</th>\n",
       "      <th>mpeg4_o</th>\n",
       "      <th>vp8_o</th>\n",
       "    </tr>\n",
       "  </thead>\n",
       "  <tbody>\n",
       "    <tr>\n",
       "      <th>0</th>\n",
       "      <td>0</td>\n",
       "      <td>0</td>\n",
       "      <td>1</td>\n",
       "      <td>0</td>\n",
       "    </tr>\n",
       "    <tr>\n",
       "      <th>1</th>\n",
       "      <td>0</td>\n",
       "      <td>0</td>\n",
       "      <td>1</td>\n",
       "      <td>0</td>\n",
       "    </tr>\n",
       "    <tr>\n",
       "      <th>2</th>\n",
       "      <td>0</td>\n",
       "      <td>0</td>\n",
       "      <td>1</td>\n",
       "      <td>0</td>\n",
       "    </tr>\n",
       "    <tr>\n",
       "      <th>3</th>\n",
       "      <td>0</td>\n",
       "      <td>0</td>\n",
       "      <td>1</td>\n",
       "      <td>0</td>\n",
       "    </tr>\n",
       "    <tr>\n",
       "      <th>4</th>\n",
       "      <td>0</td>\n",
       "      <td>0</td>\n",
       "      <td>1</td>\n",
       "      <td>0</td>\n",
       "    </tr>\n",
       "    <tr>\n",
       "      <th>...</th>\n",
       "      <td>...</td>\n",
       "      <td>...</td>\n",
       "      <td>...</td>\n",
       "      <td>...</td>\n",
       "    </tr>\n",
       "    <tr>\n",
       "      <th>20629</th>\n",
       "      <td>0</td>\n",
       "      <td>0</td>\n",
       "      <td>0</td>\n",
       "      <td>1</td>\n",
       "    </tr>\n",
       "    <tr>\n",
       "      <th>20630</th>\n",
       "      <td>0</td>\n",
       "      <td>1</td>\n",
       "      <td>0</td>\n",
       "      <td>0</td>\n",
       "    </tr>\n",
       "    <tr>\n",
       "      <th>20631</th>\n",
       "      <td>0</td>\n",
       "      <td>0</td>\n",
       "      <td>0</td>\n",
       "      <td>0</td>\n",
       "    </tr>\n",
       "    <tr>\n",
       "      <th>20632</th>\n",
       "      <td>0</td>\n",
       "      <td>0</td>\n",
       "      <td>0</td>\n",
       "      <td>0</td>\n",
       "    </tr>\n",
       "    <tr>\n",
       "      <th>20633</th>\n",
       "      <td>0</td>\n",
       "      <td>0</td>\n",
       "      <td>1</td>\n",
       "      <td>0</td>\n",
       "    </tr>\n",
       "  </tbody>\n",
       "</table>\n",
       "<p>20634 rows × 4 columns</p>\n",
       "</div>"
      ],
      "text/plain": [
       "       flv_o  h264_o  mpeg4_o  vp8_o\n",
       "0          0       0        1      0\n",
       "1          0       0        1      0\n",
       "2          0       0        1      0\n",
       "3          0       0        1      0\n",
       "4          0       0        1      0\n",
       "...      ...     ...      ...    ...\n",
       "20629      0       0        0      1\n",
       "20630      0       1        0      0\n",
       "20631      0       0        0      0\n",
       "20632      0       0        0      0\n",
       "20633      0       0        1      0\n",
       "\n",
       "[20634 rows x 4 columns]"
      ]
     },
     "execution_count": 71,
     "metadata": {},
     "output_type": "execute_result"
    }
   ],
   "source": [
    "df_test_2 = pd.get_dummies(test_df[\"coding_standard_output\"])\n",
    "df_test_2.rename({\"flv\":\"flv_o\", \"h264\":\"h264_o\", \"mpeg4\":\"mpeg4_o\", \"vp8\":\"vp8_o\"}, axis=\"columns\",inplace=True)\n",
    "df_test_2"
   ]
  },
  {
   "cell_type": "code",
   "execution_count": 72,
   "metadata": {},
   "outputs": [
    {
     "data": {
      "text/html": [
       "<div>\n",
       "<style scoped>\n",
       "    .dataframe tbody tr th:only-of-type {\n",
       "        vertical-align: middle;\n",
       "    }\n",
       "\n",
       "    .dataframe tbody tr th {\n",
       "        vertical-align: top;\n",
       "    }\n",
       "\n",
       "    .dataframe thead th {\n",
       "        text-align: right;\n",
       "    }\n",
       "</style>\n",
       "<table border=\"1\" class=\"dataframe\">\n",
       "  <thead>\n",
       "    <tr style=\"text-align: right;\">\n",
       "      <th></th>\n",
       "      <th>video_duration</th>\n",
       "      <th>width</th>\n",
       "      <th>height</th>\n",
       "      <th>bitrate</th>\n",
       "      <th>framerate</th>\n",
       "      <th>i_frames</th>\n",
       "      <th>p_frames</th>\n",
       "      <th>b_frames</th>\n",
       "      <th>frames</th>\n",
       "      <th>i_size</th>\n",
       "      <th>...</th>\n",
       "      <th>output_height</th>\n",
       "      <th>allocated _memory</th>\n",
       "      <th>flv</th>\n",
       "      <th>h264</th>\n",
       "      <th>mpeg4</th>\n",
       "      <th>vp8</th>\n",
       "      <th>flv_o</th>\n",
       "      <th>h264_o</th>\n",
       "      <th>mpeg4_o</th>\n",
       "      <th>vp8_o</th>\n",
       "    </tr>\n",
       "  </thead>\n",
       "  <tbody>\n",
       "    <tr>\n",
       "      <th>0</th>\n",
       "      <td>130.356670</td>\n",
       "      <td>176.0</td>\n",
       "      <td>144.0</td>\n",
       "      <td>54590.0</td>\n",
       "      <td>12.000000</td>\n",
       "      <td>27.0</td>\n",
       "      <td>1537.0</td>\n",
       "      <td>0.0</td>\n",
       "      <td>1564.0</td>\n",
       "      <td>64483.0</td>\n",
       "      <td>...</td>\n",
       "      <td>240.0</td>\n",
       "      <td>25164.0</td>\n",
       "      <td>0</td>\n",
       "      <td>0</td>\n",
       "      <td>1</td>\n",
       "      <td>0</td>\n",
       "      <td>0</td>\n",
       "      <td>0</td>\n",
       "      <td>1</td>\n",
       "      <td>0</td>\n",
       "    </tr>\n",
       "    <tr>\n",
       "      <th>1</th>\n",
       "      <td>130.356670</td>\n",
       "      <td>176.0</td>\n",
       "      <td>144.0</td>\n",
       "      <td>54590.0</td>\n",
       "      <td>12.000000</td>\n",
       "      <td>27.0</td>\n",
       "      <td>1537.0</td>\n",
       "      <td>0.0</td>\n",
       "      <td>1564.0</td>\n",
       "      <td>64483.0</td>\n",
       "      <td>...</td>\n",
       "      <td>720.0</td>\n",
       "      <td>58528.0</td>\n",
       "      <td>0</td>\n",
       "      <td>0</td>\n",
       "      <td>1</td>\n",
       "      <td>0</td>\n",
       "      <td>0</td>\n",
       "      <td>0</td>\n",
       "      <td>1</td>\n",
       "      <td>0</td>\n",
       "    </tr>\n",
       "    <tr>\n",
       "      <th>2</th>\n",
       "      <td>130.356670</td>\n",
       "      <td>176.0</td>\n",
       "      <td>144.0</td>\n",
       "      <td>54590.0</td>\n",
       "      <td>12.000000</td>\n",
       "      <td>27.0</td>\n",
       "      <td>1537.0</td>\n",
       "      <td>0.0</td>\n",
       "      <td>1564.0</td>\n",
       "      <td>64483.0</td>\n",
       "      <td>...</td>\n",
       "      <td>1080.0</td>\n",
       "      <td>102072.0</td>\n",
       "      <td>0</td>\n",
       "      <td>0</td>\n",
       "      <td>1</td>\n",
       "      <td>0</td>\n",
       "      <td>0</td>\n",
       "      <td>0</td>\n",
       "      <td>1</td>\n",
       "      <td>0</td>\n",
       "    </tr>\n",
       "    <tr>\n",
       "      <th>3</th>\n",
       "      <td>130.356670</td>\n",
       "      <td>176.0</td>\n",
       "      <td>144.0</td>\n",
       "      <td>54590.0</td>\n",
       "      <td>12.000000</td>\n",
       "      <td>27.0</td>\n",
       "      <td>1537.0</td>\n",
       "      <td>0.0</td>\n",
       "      <td>1564.0</td>\n",
       "      <td>64483.0</td>\n",
       "      <td>...</td>\n",
       "      <td>1080.0</td>\n",
       "      <td>102072.0</td>\n",
       "      <td>0</td>\n",
       "      <td>0</td>\n",
       "      <td>1</td>\n",
       "      <td>0</td>\n",
       "      <td>0</td>\n",
       "      <td>0</td>\n",
       "      <td>1</td>\n",
       "      <td>0</td>\n",
       "    </tr>\n",
       "    <tr>\n",
       "      <th>4</th>\n",
       "      <td>130.356670</td>\n",
       "      <td>176.0</td>\n",
       "      <td>144.0</td>\n",
       "      <td>54590.0</td>\n",
       "      <td>12.000000</td>\n",
       "      <td>27.0</td>\n",
       "      <td>1537.0</td>\n",
       "      <td>0.0</td>\n",
       "      <td>1564.0</td>\n",
       "      <td>64483.0</td>\n",
       "      <td>...</td>\n",
       "      <td>480.0</td>\n",
       "      <td>34308.0</td>\n",
       "      <td>0</td>\n",
       "      <td>0</td>\n",
       "      <td>1</td>\n",
       "      <td>0</td>\n",
       "      <td>0</td>\n",
       "      <td>0</td>\n",
       "      <td>1</td>\n",
       "      <td>0</td>\n",
       "    </tr>\n",
       "    <tr>\n",
       "      <th>...</th>\n",
       "      <td>...</td>\n",
       "      <td>...</td>\n",
       "      <td>...</td>\n",
       "      <td>...</td>\n",
       "      <td>...</td>\n",
       "      <td>...</td>\n",
       "      <td>...</td>\n",
       "      <td>...</td>\n",
       "      <td>...</td>\n",
       "      <td>...</td>\n",
       "      <td>...</td>\n",
       "      <td>...</td>\n",
       "      <td>...</td>\n",
       "      <td>...</td>\n",
       "      <td>...</td>\n",
       "      <td>...</td>\n",
       "      <td>...</td>\n",
       "      <td>...</td>\n",
       "      <td>...</td>\n",
       "      <td>...</td>\n",
       "      <td>...</td>\n",
       "    </tr>\n",
       "    <tr>\n",
       "      <th>20629</th>\n",
       "      <td>807.974000</td>\n",
       "      <td>480.0</td>\n",
       "      <td>360.0</td>\n",
       "      <td>355622.0</td>\n",
       "      <td>29.000000</td>\n",
       "      <td>433.0</td>\n",
       "      <td>23783.0</td>\n",
       "      <td>0.0</td>\n",
       "      <td>24216.0</td>\n",
       "      <td>6406304.0</td>\n",
       "      <td>...</td>\n",
       "      <td>480.0</td>\n",
       "      <td>88112.0</td>\n",
       "      <td>0</td>\n",
       "      <td>1</td>\n",
       "      <td>0</td>\n",
       "      <td>0</td>\n",
       "      <td>0</td>\n",
       "      <td>0</td>\n",
       "      <td>0</td>\n",
       "      <td>1</td>\n",
       "    </tr>\n",
       "    <tr>\n",
       "      <th>20630</th>\n",
       "      <td>59.482998</td>\n",
       "      <td>480.0</td>\n",
       "      <td>360.0</td>\n",
       "      <td>330241.0</td>\n",
       "      <td>29.000000</td>\n",
       "      <td>61.0</td>\n",
       "      <td>1722.0</td>\n",
       "      <td>0.0</td>\n",
       "      <td>1783.0</td>\n",
       "      <td>1147618.0</td>\n",
       "      <td>...</td>\n",
       "      <td>360.0</td>\n",
       "      <td>103504.0</td>\n",
       "      <td>0</td>\n",
       "      <td>1</td>\n",
       "      <td>0</td>\n",
       "      <td>0</td>\n",
       "      <td>0</td>\n",
       "      <td>1</td>\n",
       "      <td>0</td>\n",
       "      <td>0</td>\n",
       "    </tr>\n",
       "    <tr>\n",
       "      <th>20631</th>\n",
       "      <td>128.061000</td>\n",
       "      <td>320.0</td>\n",
       "      <td>240.0</td>\n",
       "      <td>257217.0</td>\n",
       "      <td>29.000000</td>\n",
       "      <td>66.0</td>\n",
       "      <td>3773.0</td>\n",
       "      <td>0.0</td>\n",
       "      <td>3839.0</td>\n",
       "      <td>743566.0</td>\n",
       "      <td>...</td>\n",
       "      <td>144.0</td>\n",
       "      <td>88444.0</td>\n",
       "      <td>1</td>\n",
       "      <td>0</td>\n",
       "      <td>0</td>\n",
       "      <td>0</td>\n",
       "      <td>0</td>\n",
       "      <td>0</td>\n",
       "      <td>0</td>\n",
       "      <td>0</td>\n",
       "    </tr>\n",
       "    <tr>\n",
       "      <th>20632</th>\n",
       "      <td>249.680000</td>\n",
       "      <td>320.0</td>\n",
       "      <td>240.0</td>\n",
       "      <td>359345.0</td>\n",
       "      <td>25.068274</td>\n",
       "      <td>129.0</td>\n",
       "      <td>6113.0</td>\n",
       "      <td>0.0</td>\n",
       "      <td>6242.0</td>\n",
       "      <td>1758664.0</td>\n",
       "      <td>...</td>\n",
       "      <td>144.0</td>\n",
       "      <td>88708.0</td>\n",
       "      <td>0</td>\n",
       "      <td>0</td>\n",
       "      <td>0</td>\n",
       "      <td>1</td>\n",
       "      <td>0</td>\n",
       "      <td>0</td>\n",
       "      <td>0</td>\n",
       "      <td>0</td>\n",
       "    </tr>\n",
       "    <tr>\n",
       "      <th>20633</th>\n",
       "      <td>183.623340</td>\n",
       "      <td>1280.0</td>\n",
       "      <td>720.0</td>\n",
       "      <td>2847539.0</td>\n",
       "      <td>29.000000</td>\n",
       "      <td>98.0</td>\n",
       "      <td>5405.0</td>\n",
       "      <td>0.0</td>\n",
       "      <td>NaN</td>\n",
       "      <td>NaN</td>\n",
       "      <td>...</td>\n",
       "      <td>240.0</td>\n",
       "      <td>88724.0</td>\n",
       "      <td>0</td>\n",
       "      <td>1</td>\n",
       "      <td>0</td>\n",
       "      <td>0</td>\n",
       "      <td>0</td>\n",
       "      <td>0</td>\n",
       "      <td>1</td>\n",
       "      <td>0</td>\n",
       "    </tr>\n",
       "  </tbody>\n",
       "</table>\n",
       "<p>20634 rows × 26 columns</p>\n",
       "</div>"
      ],
      "text/plain": [
       "       video_duration   width  height    bitrate  framerate  i_frames  \\\n",
       "0          130.356670   176.0   144.0    54590.0  12.000000      27.0   \n",
       "1          130.356670   176.0   144.0    54590.0  12.000000      27.0   \n",
       "2          130.356670   176.0   144.0    54590.0  12.000000      27.0   \n",
       "3          130.356670   176.0   144.0    54590.0  12.000000      27.0   \n",
       "4          130.356670   176.0   144.0    54590.0  12.000000      27.0   \n",
       "...               ...     ...     ...        ...        ...       ...   \n",
       "20629      807.974000   480.0   360.0   355622.0  29.000000     433.0   \n",
       "20630       59.482998   480.0   360.0   330241.0  29.000000      61.0   \n",
       "20631      128.061000   320.0   240.0   257217.0  29.000000      66.0   \n",
       "20632      249.680000   320.0   240.0   359345.0  25.068274     129.0   \n",
       "20633      183.623340  1280.0   720.0  2847539.0  29.000000      98.0   \n",
       "\n",
       "       p_frames  b_frames   frames     i_size  ...  output_height  \\\n",
       "0        1537.0       0.0   1564.0    64483.0  ...          240.0   \n",
       "1        1537.0       0.0   1564.0    64483.0  ...          720.0   \n",
       "2        1537.0       0.0   1564.0    64483.0  ...         1080.0   \n",
       "3        1537.0       0.0   1564.0    64483.0  ...         1080.0   \n",
       "4        1537.0       0.0   1564.0    64483.0  ...          480.0   \n",
       "...         ...       ...      ...        ...  ...            ...   \n",
       "20629   23783.0       0.0  24216.0  6406304.0  ...          480.0   \n",
       "20630    1722.0       0.0   1783.0  1147618.0  ...          360.0   \n",
       "20631    3773.0       0.0   3839.0   743566.0  ...          144.0   \n",
       "20632    6113.0       0.0   6242.0  1758664.0  ...          144.0   \n",
       "20633    5405.0       0.0      NaN        NaN  ...          240.0   \n",
       "\n",
       "       allocated _memory  flv  h264  mpeg4  vp8  flv_o  h264_o  mpeg4_o  vp8_o  \n",
       "0                25164.0    0     0      1    0      0       0        1      0  \n",
       "1                58528.0    0     0      1    0      0       0        1      0  \n",
       "2               102072.0    0     0      1    0      0       0        1      0  \n",
       "3               102072.0    0     0      1    0      0       0        1      0  \n",
       "4                34308.0    0     0      1    0      0       0        1      0  \n",
       "...                  ...  ...   ...    ...  ...    ...     ...      ...    ...  \n",
       "20629            88112.0    0     1      0    0      0       0        0      1  \n",
       "20630           103504.0    0     1      0    0      0       1        0      0  \n",
       "20631            88444.0    1     0      0    0      0       0        0      0  \n",
       "20632            88708.0    0     0      0    1      0       0        0      0  \n",
       "20633            88724.0    0     1      0    0      0       0        1      0  \n",
       "\n",
       "[20634 rows x 26 columns]"
      ]
     },
     "execution_count": 72,
     "metadata": {},
     "output_type": "execute_result"
    }
   ],
   "source": [
    "ids = list(test_df['id'])\n",
    "test_df.drop(columns=['id', 'coding_standard', 'coding_standard_output'], inplace=True)\n",
    "test_df = pd.concat([test_df, df_test_1],axis = 1)\n",
    "test_df = pd.concat([test_df, df_test_2],axis = 1)\n",
    "test_df"
   ]
  },
  {
   "cell_type": "code",
   "execution_count": 73,
   "metadata": {},
   "outputs": [
    {
     "data": {
      "text/plain": [
       "video_duration        5\n",
       "width                 4\n",
       "height                2\n",
       "bitrate               9\n",
       "framerate            13\n",
       "i_frames             11\n",
       "p_frames              3\n",
       "b_frames              9\n",
       "frames               10\n",
       "i_size                8\n",
       "p_size                9\n",
       "b_size                2\n",
       "size                 13\n",
       "bitrate_output        5\n",
       "framerate_output      8\n",
       "output_width          5\n",
       "output_height         7\n",
       "allocated _memory     2\n",
       "flv                   0\n",
       "h264                  0\n",
       "mpeg4                 0\n",
       "vp8                   0\n",
       "flv_o                 0\n",
       "h264_o                0\n",
       "mpeg4_o               0\n",
       "vp8_o                 0\n",
       "dtype: int64"
      ]
     },
     "execution_count": 73,
     "metadata": {},
     "output_type": "execute_result"
    }
   ],
   "source": [
    "test_df.isnull().sum()"
   ]
  },
  {
   "cell_type": "code",
   "execution_count": 74,
   "metadata": {},
   "outputs": [],
   "source": [
    "def replace_nan():\n",
    "    for i in range(0, 18):\n",
    "        try:\n",
    "            mean = test_df.iloc[:, i].mean(skipna=True)\n",
    "            test_df.iloc[:, i].fillna(mean, inplace = True)\n",
    "        except TypeError:\n",
    "            pass\n",
    "replace_nan()"
   ]
  },
  {
   "cell_type": "code",
   "execution_count": 75,
   "metadata": {},
   "outputs": [
    {
     "data": {
      "text/plain": [
       "video_duration       0\n",
       "width                0\n",
       "height               0\n",
       "bitrate              0\n",
       "framerate            0\n",
       "i_frames             0\n",
       "p_frames             0\n",
       "b_frames             0\n",
       "frames               0\n",
       "i_size               0\n",
       "p_size               0\n",
       "b_size               0\n",
       "size                 0\n",
       "bitrate_output       0\n",
       "framerate_output     0\n",
       "output_width         0\n",
       "output_height        0\n",
       "allocated _memory    0\n",
       "flv                  0\n",
       "h264                 0\n",
       "mpeg4                0\n",
       "vp8                  0\n",
       "flv_o                0\n",
       "h264_o               0\n",
       "mpeg4_o              0\n",
       "vp8_o                0\n",
       "dtype: int64"
      ]
     },
     "execution_count": 75,
     "metadata": {},
     "output_type": "execute_result"
    }
   ],
   "source": [
    "test_df.isnull().sum()"
   ]
  },
  {
   "cell_type": "code",
   "execution_count": 76,
   "metadata": {},
   "outputs": [],
   "source": [
    "test_df.drop(columns=['allocated _memory', 'size'], inplace=True)"
   ]
  },
  {
   "cell_type": "code",
   "execution_count": 90,
   "metadata": {},
   "outputs": [],
   "source": [
    "x = test_df.iloc[:, 0:24].values\n",
    "prediction_1 = np.array(reg.predict(x))\n",
    "#prediction_2 = np.array(reg_2.predict(x))\n",
    "prediction_3 = np.array(reg_3.predict(x))\n",
    "prediction_4 = np.array(reg_4.predict(x))\n",
    "\n",
    "prediction = (prediction_1*0.9893 +prediction_3*0.9929+ prediction_4*0.9891)/(0.9893+0.9929+0.9891)"
   ]
  },
  {
   "cell_type": "code",
   "execution_count": 91,
   "metadata": {},
   "outputs": [],
   "source": [
    "sub = pd.DataFrame({'id':ids, 'total_processing_time':prediction})\n",
    "sub.to_csv(\"Submission.csv\", index=False)"
   ]
  },
  {
   "cell_type": "code",
   "execution_count": null,
   "metadata": {},
   "outputs": [],
   "source": []
  },
  {
   "cell_type": "code",
   "execution_count": null,
   "metadata": {},
   "outputs": [],
   "source": []
  }
 ],
 "metadata": {
  "kernelspec": {
   "display_name": "Python 3",
   "language": "python",
   "name": "python3"
  },
  "language_info": {
   "codemirror_mode": {
    "name": "ipython",
    "version": 3
   },
   "file_extension": ".py",
   "mimetype": "text/x-python",
   "name": "python",
   "nbconvert_exporter": "python",
   "pygments_lexer": "ipython3",
   "version": "3.7.7"
  }
 },
 "nbformat": 4,
 "nbformat_minor": 4
}
