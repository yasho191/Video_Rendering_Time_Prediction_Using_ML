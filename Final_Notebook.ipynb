{
 "cells": [
  {
   "cell_type": "markdown",
   "metadata": {
    "papermill": {
     "duration": 0.032622,
     "end_time": "2020-11-18T06:37:16.453897",
     "exception": false,
     "start_time": "2020-11-18T06:37:16.421275",
     "status": "completed"
    },
    "tags": []
   },
   "source": [
    "### Problem Statement: Given a train dataset predict the total_processing_time of the test dataset.\n",
    "\n",
    "## Importing Necessary Libraries"
   ]
  },
  {
   "cell_type": "code",
   "execution_count": 1,
   "metadata": {
    "execution": {
     "iopub.execute_input": "2020-11-18T06:37:16.520318Z",
     "iopub.status.busy": "2020-11-18T06:37:16.519616Z",
     "iopub.status.idle": "2020-11-18T06:37:17.480570Z",
     "shell.execute_reply": "2020-11-18T06:37:17.479781Z"
    },
    "papermill": {
     "duration": 0.996073,
     "end_time": "2020-11-18T06:37:17.480699",
     "exception": false,
     "start_time": "2020-11-18T06:37:16.484626",
     "status": "completed"
    },
    "tags": []
   },
   "outputs": [],
   "source": [
    "import pandas as pd\n",
    "import numpy as np\n",
    "import matplotlib.pyplot as plt\n",
    "import seaborn as sns"
   ]
  },
  {
   "cell_type": "code",
   "execution_count": 2,
   "metadata": {
    "execution": {
     "iopub.execute_input": "2020-11-18T06:37:17.549456Z",
     "iopub.status.busy": "2020-11-18T06:37:17.548582Z",
     "iopub.status.idle": "2020-11-18T06:37:17.553603Z",
     "shell.execute_reply": "2020-11-18T06:37:17.552846Z"
    },
    "papermill": {
     "duration": 0.041723,
     "end_time": "2020-11-18T06:37:17.553737",
     "exception": false,
     "start_time": "2020-11-18T06:37:17.512014",
     "status": "completed"
    },
    "tags": []
   },
   "outputs": [
    {
     "name": "stdout",
     "output_type": "stream",
     "text": [
      "/kaggle/input/vishwatatva-datacon-2020/test.csv\n",
      "/kaggle/input/vishwatatva-datacon-2020/sample_submission.csv\n",
      "/kaggle/input/vishwatatva-datacon-2020/train.csv\n"
     ]
    }
   ],
   "source": [
    "import os\n",
    "for dirname, _, filenames in os.walk('/kaggle/input'):\n",
    "    for filename in filenames:\n",
    "        print(os.path.join(dirname, filename))\n"
   ]
  },
  {
   "cell_type": "markdown",
   "metadata": {
    "papermill": {
     "duration": 0.031353,
     "end_time": "2020-11-18T06:37:17.616761",
     "exception": false,
     "start_time": "2020-11-18T06:37:17.585408",
     "status": "completed"
    },
    "tags": []
   },
   "source": [
    "## Loading Train Dataset"
   ]
  },
  {
   "cell_type": "code",
   "execution_count": 3,
   "metadata": {
    "execution": {
     "iopub.execute_input": "2020-11-18T06:37:17.686249Z",
     "iopub.status.busy": "2020-11-18T06:37:17.685089Z",
     "iopub.status.idle": "2020-11-18T06:37:17.935876Z",
     "shell.execute_reply": "2020-11-18T06:37:17.936378Z"
    },
    "papermill": {
     "duration": 0.288149,
     "end_time": "2020-11-18T06:37:17.936524",
     "exception": false,
     "start_time": "2020-11-18T06:37:17.648375",
     "status": "completed"
    },
    "tags": []
   },
   "outputs": [
    {
     "name": "stderr",
     "output_type": "stream",
     "text": [
      "/opt/conda/lib/python3.7/site-packages/IPython/core/interactiveshell.py:3063: DtypeWarning: Columns (3,4,6,7,10,11,12,13,14,17,18,21) have mixed types.Specify dtype option on import or set low_memory=False.\n",
      "  interactivity=interactivity, compiler=compiler, result=result)\n"
     ]
    },
    {
     "data": {
      "text/html": [
       "<div>\n",
       "<style scoped>\n",
       "    .dataframe tbody tr th:only-of-type {\n",
       "        vertical-align: middle;\n",
       "    }\n",
       "\n",
       "    .dataframe tbody tr th {\n",
       "        vertical-align: top;\n",
       "    }\n",
       "\n",
       "    .dataframe thead th {\n",
       "        text-align: right;\n",
       "    }\n",
       "</style>\n",
       "<table border=\"1\" class=\"dataframe\">\n",
       "  <thead>\n",
       "    <tr style=\"text-align: right;\">\n",
       "      <th></th>\n",
       "      <th>id</th>\n",
       "      <th>video_duration</th>\n",
       "      <th>coding_standard</th>\n",
       "      <th>width</th>\n",
       "      <th>height</th>\n",
       "      <th>bitrate</th>\n",
       "      <th>framerate</th>\n",
       "      <th>i_frames</th>\n",
       "      <th>p_frames</th>\n",
       "      <th>b_frames</th>\n",
       "      <th>...</th>\n",
       "      <th>p_size</th>\n",
       "      <th>b_size</th>\n",
       "      <th>size</th>\n",
       "      <th>coding_standard_output</th>\n",
       "      <th>bitrate_output</th>\n",
       "      <th>framerate_output</th>\n",
       "      <th>output_width</th>\n",
       "      <th>output_height</th>\n",
       "      <th>allocated _memory</th>\n",
       "      <th>total_processing_time</th>\n",
       "    </tr>\n",
       "  </thead>\n",
       "  <tbody>\n",
       "    <tr>\n",
       "      <th>0</th>\n",
       "      <td>1</td>\n",
       "      <td>131.760000</td>\n",
       "      <td>vp8</td>\n",
       "      <td>640</td>\n",
       "      <td>480</td>\n",
       "      <td>104723.0</td>\n",
       "      <td>25.145</td>\n",
       "      <td>37</td>\n",
       "      <td>3257.0</td>\n",
       "      <td>0.0</td>\n",
       "      <td>...</td>\n",
       "      <td>778937</td>\n",
       "      <td>0</td>\n",
       "      <td>1.7248e+06</td>\n",
       "      <td>flv</td>\n",
       "      <td>539000.0</td>\n",
       "      <td>24</td>\n",
       "      <td>640</td>\n",
       "      <td>480.0</td>\n",
       "      <td>221152.0</td>\n",
       "      <td>1.048</td>\n",
       "    </tr>\n",
       "    <tr>\n",
       "      <th>1</th>\n",
       "      <td>2</td>\n",
       "      <td>189.956000</td>\n",
       "      <td>flv</td>\n",
       "      <td>320</td>\n",
       "      <td>240</td>\n",
       "      <td>231296.0</td>\n",
       "      <td>29</td>\n",
       "      <td>97</td>\n",
       "      <td>5597.0</td>\n",
       "      <td>0.0</td>\n",
       "      <td>...</td>\n",
       "      <td>4.91173e+06</td>\n",
       "      <td>0</td>\n",
       "      <td>5.49203e+06</td>\n",
       "      <td>flv</td>\n",
       "      <td>109000.0</td>\n",
       "      <td>29.97</td>\n",
       "      <td>320</td>\n",
       "      <td>240.0</td>\n",
       "      <td>218664.0</td>\n",
       "      <td>-0.468</td>\n",
       "    </tr>\n",
       "    <tr>\n",
       "      <th>2</th>\n",
       "      <td>3</td>\n",
       "      <td>110.966995</td>\n",
       "      <td>h264</td>\n",
       "      <td>480</td>\n",
       "      <td>360</td>\n",
       "      <td>NaN</td>\n",
       "      <td>30</td>\n",
       "      <td>59</td>\n",
       "      <td>3271.0</td>\n",
       "      <td>0.0</td>\n",
       "      <td>...</td>\n",
       "      <td>4.97866e+06</td>\n",
       "      <td>0</td>\n",
       "      <td>5.50829e+06</td>\n",
       "      <td>h264</td>\n",
       "      <td>56000.0</td>\n",
       "      <td>15</td>\n",
       "      <td>320</td>\n",
       "      <td>240.0</td>\n",
       "      <td>216820.0</td>\n",
       "      <td>3.696</td>\n",
       "    </tr>\n",
       "    <tr>\n",
       "      <th>3</th>\n",
       "      <td>4</td>\n",
       "      <td>95.462000</td>\n",
       "      <td>h264</td>\n",
       "      <td>640</td>\n",
       "      <td>480</td>\n",
       "      <td>809256.0</td>\n",
       "      <td>29</td>\n",
       "      <td>51</td>\n",
       "      <td>2811.0</td>\n",
       "      <td>0.0</td>\n",
       "      <td>...</td>\n",
       "      <td>8.77016e+06</td>\n",
       "      <td>0</td>\n",
       "      <td>9.65666e+06</td>\n",
       "      <td>vp8</td>\n",
       "      <td>109000.0</td>\n",
       "      <td>12</td>\n",
       "      <td>320</td>\n",
       "      <td>240.0</td>\n",
       "      <td>221160.0</td>\n",
       "      <td>3.452</td>\n",
       "    </tr>\n",
       "    <tr>\n",
       "      <th>4</th>\n",
       "      <td>5</td>\n",
       "      <td>63.667000</td>\n",
       "      <td>h264</td>\n",
       "      <td>640</td>\n",
       "      <td>480</td>\n",
       "      <td>972572.0</td>\n",
       "      <td>15</td>\n",
       "      <td>33</td>\n",
       "      <td>923.0</td>\n",
       "      <td>0.0</td>\n",
       "      <td>...</td>\n",
       "      <td>6.48044e+06</td>\n",
       "      <td>0</td>\n",
       "      <td>7.7401e+06</td>\n",
       "      <td>flv</td>\n",
       "      <td>56000.0</td>\n",
       "      <td>24</td>\n",
       "      <td>1280</td>\n",
       "      <td>720.0</td>\n",
       "      <td>219656.0</td>\n",
       "      <td>2.692</td>\n",
       "    </tr>\n",
       "  </tbody>\n",
       "</table>\n",
       "<p>5 rows × 22 columns</p>\n",
       "</div>"
      ],
      "text/plain": [
       "   id  video_duration coding_standard width height   bitrate framerate  \\\n",
       "0   1      131.760000             vp8   640    480  104723.0    25.145   \n",
       "1   2      189.956000             flv   320    240  231296.0        29   \n",
       "2   3      110.966995            h264   480    360       NaN        30   \n",
       "3   4       95.462000            h264   640    480  809256.0        29   \n",
       "4   5       63.667000            h264   640    480  972572.0        15   \n",
       "\n",
       "  i_frames  p_frames  b_frames  ...       p_size b_size         size  \\\n",
       "0       37    3257.0       0.0  ...       778937      0   1.7248e+06   \n",
       "1       97    5597.0       0.0  ...  4.91173e+06      0  5.49203e+06   \n",
       "2       59    3271.0       0.0  ...  4.97866e+06      0  5.50829e+06   \n",
       "3       51    2811.0       0.0  ...  8.77016e+06      0  9.65666e+06   \n",
       "4       33     923.0       0.0  ...  6.48044e+06      0   7.7401e+06   \n",
       "\n",
       "  coding_standard_output bitrate_output framerate_output  output_width  \\\n",
       "0                    flv       539000.0               24           640   \n",
       "1                    flv       109000.0            29.97           320   \n",
       "2                   h264        56000.0               15           320   \n",
       "3                    vp8       109000.0               12           320   \n",
       "4                    flv        56000.0               24          1280   \n",
       "\n",
       "  output_height allocated _memory  total_processing_time  \n",
       "0         480.0          221152.0                  1.048  \n",
       "1         240.0          218664.0                 -0.468  \n",
       "2         240.0          216820.0                  3.696  \n",
       "3         240.0          221160.0                  3.452  \n",
       "4         720.0          219656.0                  2.692  \n",
       "\n",
       "[5 rows x 22 columns]"
      ]
     },
     "execution_count": 3,
     "metadata": {},
     "output_type": "execute_result"
    }
   ],
   "source": [
    "df = pd.read_csv(\"/kaggle/input/vishwatatva-datacon-2020/train.csv\")\n",
    "df.head()"
   ]
  },
  {
   "cell_type": "markdown",
   "metadata": {
    "papermill": {
     "duration": 0.032061,
     "end_time": "2020-11-18T06:37:18.001283",
     "exception": false,
     "start_time": "2020-11-18T06:37:17.969222",
     "status": "completed"
    },
    "tags": []
   },
   "source": [
    "## Data Cleaning and Analysis:\n",
    "**Analysing the training Dataset checking the important vales for every column like mean, standard deviation of data and interquartile range also checking if there are any nan values.**"
   ]
  },
  {
   "cell_type": "code",
   "execution_count": 4,
   "metadata": {
    "execution": {
     "iopub.execute_input": "2020-11-18T06:37:18.074726Z",
     "iopub.status.busy": "2020-11-18T06:37:18.074024Z",
     "iopub.status.idle": "2020-11-18T06:37:18.118322Z",
     "shell.execute_reply": "2020-11-18T06:37:18.117669Z"
    },
    "papermill": {
     "duration": 0.084207,
     "end_time": "2020-11-18T06:37:18.118437",
     "exception": false,
     "start_time": "2020-11-18T06:37:18.034230",
     "status": "completed"
    },
    "tags": []
   },
   "outputs": [
    {
     "data": {
      "text/html": [
       "<div>\n",
       "<style scoped>\n",
       "    .dataframe tbody tr th:only-of-type {\n",
       "        vertical-align: middle;\n",
       "    }\n",
       "\n",
       "    .dataframe tbody tr th {\n",
       "        vertical-align: top;\n",
       "    }\n",
       "\n",
       "    .dataframe thead th {\n",
       "        text-align: right;\n",
       "    }\n",
       "</style>\n",
       "<table border=\"1\" class=\"dataframe\">\n",
       "  <thead>\n",
       "    <tr style=\"text-align: right;\">\n",
       "      <th></th>\n",
       "      <th>id</th>\n",
       "      <th>video_duration</th>\n",
       "      <th>bitrate</th>\n",
       "      <th>p_frames</th>\n",
       "      <th>b_frames</th>\n",
       "      <th>bitrate_output</th>\n",
       "      <th>output_height</th>\n",
       "      <th>allocated _memory</th>\n",
       "    </tr>\n",
       "  </thead>\n",
       "  <tbody>\n",
       "    <tr>\n",
       "      <th>count</th>\n",
       "      <td>48150.000000</td>\n",
       "      <td>48137.000000</td>\n",
       "      <td>4.813800e+04</td>\n",
       "      <td>48125.000000</td>\n",
       "      <td>48145.000000</td>\n",
       "      <td>4.812800e+04</td>\n",
       "      <td>48135.00000</td>\n",
       "      <td>4.813000e+04</td>\n",
       "    </tr>\n",
       "    <tr>\n",
       "      <th>mean</th>\n",
       "      <td>24075.500000</td>\n",
       "      <td>286.398789</td>\n",
       "      <td>6.926718e+05</td>\n",
       "      <td>6530.854483</td>\n",
       "      <td>8.703666</td>\n",
       "      <td>1.428838e+07</td>\n",
       "      <td>519.39919</td>\n",
       "      <td>8.221118e+05</td>\n",
       "    </tr>\n",
       "    <tr>\n",
       "      <th>std</th>\n",
       "      <td>13899.852068</td>\n",
       "      <td>294.088513</td>\n",
       "      <td>1.094609e+06</td>\n",
       "      <td>6111.190606</td>\n",
       "      <td>90.733736</td>\n",
       "      <td>2.562983e+09</td>\n",
       "      <td>2098.55597</td>\n",
       "      <td>8.263332e+07</td>\n",
       "    </tr>\n",
       "    <tr>\n",
       "      <th>min</th>\n",
       "      <td>1.000000</td>\n",
       "      <td>31.080000</td>\n",
       "      <td>-3.971120e+05</td>\n",
       "      <td>-5974.000000</td>\n",
       "      <td>-44.000000</td>\n",
       "      <td>0.000000e+00</td>\n",
       "      <td>-720.00000</td>\n",
       "      <td>-8.643220e+05</td>\n",
       "    </tr>\n",
       "    <tr>\n",
       "      <th>25%</th>\n",
       "      <td>12038.250000</td>\n",
       "      <td>106.765000</td>\n",
       "      <td>1.343340e+05</td>\n",
       "      <td>2329.000000</td>\n",
       "      <td>0.000000</td>\n",
       "      <td>1.090000e+05</td>\n",
       "      <td>240.00000</td>\n",
       "      <td>2.168200e+05</td>\n",
       "    </tr>\n",
       "    <tr>\n",
       "      <th>50%</th>\n",
       "      <td>24075.500000</td>\n",
       "      <td>239.141660</td>\n",
       "      <td>2.911500e+05</td>\n",
       "      <td>5515.000000</td>\n",
       "      <td>0.000000</td>\n",
       "      <td>5.390000e+05</td>\n",
       "      <td>360.00000</td>\n",
       "      <td>2.194800e+05</td>\n",
       "    </tr>\n",
       "    <tr>\n",
       "      <th>75%</th>\n",
       "      <td>36112.750000</td>\n",
       "      <td>379.320000</td>\n",
       "      <td>6.529670e+05</td>\n",
       "      <td>9155.000000</td>\n",
       "      <td>0.000000</td>\n",
       "      <td>3.000000e+06</td>\n",
       "      <td>720.00000</td>\n",
       "      <td>2.196560e+05</td>\n",
       "    </tr>\n",
       "    <tr>\n",
       "      <th>max</th>\n",
       "      <td>48150.000000</td>\n",
       "      <td>25844.086000</td>\n",
       "      <td>6.010942e+06</td>\n",
       "      <td>304959.000000</td>\n",
       "      <td>9407.000000</td>\n",
       "      <td>5.600000e+11</td>\n",
       "      <td>360000.00000</td>\n",
       "      <td>1.656680e+10</td>\n",
       "    </tr>\n",
       "  </tbody>\n",
       "</table>\n",
       "</div>"
      ],
      "text/plain": [
       "                 id  video_duration       bitrate       p_frames  \\\n",
       "count  48150.000000    48137.000000  4.813800e+04   48125.000000   \n",
       "mean   24075.500000      286.398789  6.926718e+05    6530.854483   \n",
       "std    13899.852068      294.088513  1.094609e+06    6111.190606   \n",
       "min        1.000000       31.080000 -3.971120e+05   -5974.000000   \n",
       "25%    12038.250000      106.765000  1.343340e+05    2329.000000   \n",
       "50%    24075.500000      239.141660  2.911500e+05    5515.000000   \n",
       "75%    36112.750000      379.320000  6.529670e+05    9155.000000   \n",
       "max    48150.000000    25844.086000  6.010942e+06  304959.000000   \n",
       "\n",
       "           b_frames  bitrate_output  output_height  allocated _memory  \n",
       "count  48145.000000    4.812800e+04    48135.00000       4.813000e+04  \n",
       "mean       8.703666    1.428838e+07      519.39919       8.221118e+05  \n",
       "std       90.733736    2.562983e+09     2098.55597       8.263332e+07  \n",
       "min      -44.000000    0.000000e+00     -720.00000      -8.643220e+05  \n",
       "25%        0.000000    1.090000e+05      240.00000       2.168200e+05  \n",
       "50%        0.000000    5.390000e+05      360.00000       2.194800e+05  \n",
       "75%        0.000000    3.000000e+06      720.00000       2.196560e+05  \n",
       "max     9407.000000    5.600000e+11   360000.00000       1.656680e+10  "
      ]
     },
     "execution_count": 4,
     "metadata": {},
     "output_type": "execute_result"
    }
   ],
   "source": [
    "df.describe()"
   ]
  },
  {
   "cell_type": "code",
   "execution_count": 5,
   "metadata": {
    "execution": {
     "iopub.execute_input": "2020-11-18T06:37:18.194594Z",
     "iopub.status.busy": "2020-11-18T06:37:18.193866Z",
     "iopub.status.idle": "2020-11-18T06:37:18.227459Z",
     "shell.execute_reply": "2020-11-18T06:37:18.226906Z"
    },
    "papermill": {
     "duration": 0.070662,
     "end_time": "2020-11-18T06:37:18.227577",
     "exception": false,
     "start_time": "2020-11-18T06:37:18.156915",
     "status": "completed"
    },
    "tags": []
   },
   "outputs": [
    {
     "data": {
      "text/plain": [
       "id                         0\n",
       "video_duration            13\n",
       "coding_standard            8\n",
       "width                     20\n",
       "height                     6\n",
       "bitrate                   12\n",
       "framerate                 17\n",
       "i_frames                   9\n",
       "p_frames                  25\n",
       "b_frames                   5\n",
       "frames                    21\n",
       "i_size                    30\n",
       "p_size                    35\n",
       "b_size                     0\n",
       "size                      32\n",
       "coding_standard_output    37\n",
       "bitrate_output            22\n",
       "framerate_output           8\n",
       "output_width               7\n",
       "output_height             15\n",
       "allocated _memory         20\n",
       "total_processing_time      3\n",
       "dtype: int64"
      ]
     },
     "execution_count": 5,
     "metadata": {},
     "output_type": "execute_result"
    }
   ],
   "source": [
    "df.isnull().sum()"
   ]
  },
  {
   "cell_type": "markdown",
   "metadata": {
    "papermill": {
     "duration": 0.033124,
     "end_time": "2020-11-18T06:37:18.293586",
     "exception": false,
     "start_time": "2020-11-18T06:37:18.260462",
     "status": "completed"
    },
    "tags": []
   },
   "source": [
    "**we can clearly see that there are some Nan Values Present in the data set so as the number of Nan values is less we can fill those values with the mean of their particular column.**\n",
    "\n",
    "**REPLACING NAN VALUES WITH MEAN VALUES**"
   ]
  },
  {
   "cell_type": "code",
   "execution_count": 6,
   "metadata": {
    "execution": {
     "iopub.execute_input": "2020-11-18T06:37:18.368530Z",
     "iopub.status.busy": "2020-11-18T06:37:18.367615Z",
     "iopub.status.idle": "2020-11-18T06:37:18.551736Z",
     "shell.execute_reply": "2020-11-18T06:37:18.551188Z"
    },
    "papermill": {
     "duration": 0.224705,
     "end_time": "2020-11-18T06:37:18.551856",
     "exception": false,
     "start_time": "2020-11-18T06:37:18.327151",
     "status": "completed"
    },
    "tags": []
   },
   "outputs": [],
   "source": [
    "def replace_nan():\n",
    "    for i in range(1, 22):\n",
    "        try:\n",
    "            mean = df.iloc[:, i].mean(skipna=True)\n",
    "            df.iloc[:, i].fillna(mean, inplace = True)\n",
    "        except TypeError:\n",
    "            pass\n",
    "        \n",
    "replace_nan()\n",
    "df.dropna(inplace=True)"
   ]
  },
  {
   "cell_type": "code",
   "execution_count": 7,
   "metadata": {
    "execution": {
     "iopub.execute_input": "2020-11-18T06:37:18.623047Z",
     "iopub.status.busy": "2020-11-18T06:37:18.622448Z",
     "iopub.status.idle": "2020-11-18T06:37:18.655371Z",
     "shell.execute_reply": "2020-11-18T06:37:18.654834Z"
    },
    "papermill": {
     "duration": 0.070016,
     "end_time": "2020-11-18T06:37:18.655489",
     "exception": false,
     "start_time": "2020-11-18T06:37:18.585473",
     "status": "completed"
    },
    "tags": []
   },
   "outputs": [
    {
     "data": {
      "text/plain": [
       "id                        0\n",
       "video_duration            0\n",
       "coding_standard           0\n",
       "width                     0\n",
       "height                    0\n",
       "bitrate                   0\n",
       "framerate                 0\n",
       "i_frames                  0\n",
       "p_frames                  0\n",
       "b_frames                  0\n",
       "frames                    0\n",
       "i_size                    0\n",
       "p_size                    0\n",
       "b_size                    0\n",
       "size                      0\n",
       "coding_standard_output    0\n",
       "bitrate_output            0\n",
       "framerate_output          0\n",
       "output_width              0\n",
       "output_height             0\n",
       "allocated _memory         0\n",
       "total_processing_time     0\n",
       "dtype: int64"
      ]
     },
     "execution_count": 7,
     "metadata": {},
     "output_type": "execute_result"
    }
   ],
   "source": [
    "df.isnull().sum()"
   ]
  },
  {
   "cell_type": "markdown",
   "metadata": {
    "papermill": {
     "duration": 0.032779,
     "end_time": "2020-11-18T06:37:18.721359",
     "exception": false,
     "start_time": "2020-11-18T06:37:18.688580",
     "status": "completed"
    },
    "tags": []
   },
   "source": [
    "**Now after removing all the nan values we will check the data types of all the columns as we need numerical values for machine learning algorithmsn we will convert the categorical data into numerical data.**"
   ]
  },
  {
   "cell_type": "code",
   "execution_count": 8,
   "metadata": {
    "execution": {
     "iopub.execute_input": "2020-11-18T06:37:18.795310Z",
     "iopub.status.busy": "2020-11-18T06:37:18.794321Z",
     "iopub.status.idle": "2020-11-18T06:37:18.797472Z",
     "shell.execute_reply": "2020-11-18T06:37:18.798065Z"
    },
    "papermill": {
     "duration": 0.043662,
     "end_time": "2020-11-18T06:37:18.798224",
     "exception": false,
     "start_time": "2020-11-18T06:37:18.754562",
     "status": "completed"
    },
    "tags": []
   },
   "outputs": [
    {
     "data": {
      "text/plain": [
       "id                          int64\n",
       "video_duration            float64\n",
       "coding_standard            object\n",
       "width                      object\n",
       "height                     object\n",
       "bitrate                   float64\n",
       "framerate                  object\n",
       "i_frames                   object\n",
       "p_frames                  float64\n",
       "b_frames                  float64\n",
       "frames                     object\n",
       "i_size                     object\n",
       "p_size                     object\n",
       "b_size                     object\n",
       "size                       object\n",
       "coding_standard_output     object\n",
       "bitrate_output            float64\n",
       "framerate_output           object\n",
       "output_width               object\n",
       "output_height             float64\n",
       "allocated _memory         float64\n",
       "total_processing_time      object\n",
       "dtype: object"
      ]
     },
     "execution_count": 8,
     "metadata": {},
     "output_type": "execute_result"
    }
   ],
   "source": [
    "df.dtypes"
   ]
  },
  {
   "cell_type": "markdown",
   "metadata": {
    "papermill": {
     "duration": 0.033504,
     "end_time": "2020-11-18T06:37:18.865795",
     "exception": false,
     "start_time": "2020-11-18T06:37:18.832291",
     "status": "completed"
    },
    "tags": []
   },
   "source": [
    "#### It can be seen that many of the columns are still pandas objets so this means that there are som abnormal values in these columns so we will fing those values and drop them or replace them with the mean of that particular column.\n",
    "\n",
    "### It is observed that the different str values in the columns are :\n",
    "1. \"0\"\n",
    "2. \"#NAME?\"\n",
    "3. \"-\"\n",
    "\n",
    "**Now we will drop the columns with these values**"
   ]
  },
  {
   "cell_type": "code",
   "execution_count": 9,
   "metadata": {
    "execution": {
     "iopub.execute_input": "2020-11-18T06:37:18.943712Z",
     "iopub.status.busy": "2020-11-18T06:37:18.942609Z",
     "iopub.status.idle": "2020-11-18T06:37:18.979140Z",
     "shell.execute_reply": "2020-11-18T06:37:18.978449Z"
    },
    "papermill": {
     "duration": 0.079397,
     "end_time": "2020-11-18T06:37:18.979258",
     "exception": false,
     "start_time": "2020-11-18T06:37:18.899861",
     "status": "completed"
    },
    "tags": []
   },
   "outputs": [],
   "source": [
    "df = df[df['total_processing_time'] != '#NAME?']\n",
    "df = df[(df['coding_standard_output'] != '0')]"
   ]
  },
  {
   "cell_type": "code",
   "execution_count": 10,
   "metadata": {
    "execution": {
     "iopub.execute_input": "2020-11-18T06:37:19.056288Z",
     "iopub.status.busy": "2020-11-18T06:37:19.055294Z",
     "iopub.status.idle": "2020-11-18T06:37:19.058155Z",
     "shell.execute_reply": "2020-11-18T06:37:19.057606Z"
    },
    "papermill": {
     "duration": 0.043056,
     "end_time": "2020-11-18T06:37:19.058268",
     "exception": false,
     "start_time": "2020-11-18T06:37:19.015212",
     "status": "completed"
    },
    "tags": []
   },
   "outputs": [],
   "source": [
    "names = ['video_duration', 'coding_standard', 'width', 'height', 'bitrate',\n",
    "       'framerate', 'i_frames', 'p_frames', 'b_frames', 'frames', 'i_size',\n",
    "       'p_size', 'b_size', 'size', 'coding_standard_output', 'bitrate_output',\n",
    "       'framerate_output', 'output_width', 'output_height',\n",
    "       'allocated _memory', 'total_processing_time']"
   ]
  },
  {
   "cell_type": "code",
   "execution_count": 11,
   "metadata": {
    "execution": {
     "iopub.execute_input": "2020-11-18T06:37:19.134171Z",
     "iopub.status.busy": "2020-11-18T06:37:19.133145Z",
     "iopub.status.idle": "2020-11-18T06:37:19.713699Z",
     "shell.execute_reply": "2020-11-18T06:37:19.713066Z"
    },
    "papermill": {
     "duration": 0.620893,
     "end_time": "2020-11-18T06:37:19.713823",
     "exception": false,
     "start_time": "2020-11-18T06:37:19.092930",
     "status": "completed"
    },
    "tags": []
   },
   "outputs": [],
   "source": [
    "for i in names:\n",
    "    df = df[df[i] != '#NAME?']\n",
    "    df = df[df[i] != '-']"
   ]
  },
  {
   "cell_type": "markdown",
   "metadata": {
    "papermill": {
     "duration": 0.0339,
     "end_time": "2020-11-18T06:37:19.782326",
     "exception": false,
     "start_time": "2020-11-18T06:37:19.748426",
     "status": "completed"
    },
    "tags": []
   },
   "source": [
    "**Now we have successfully removed all the abnormalities in the data set now we can do our further analysis before that we will convert all the columns to float data type.**"
   ]
  },
  {
   "cell_type": "code",
   "execution_count": 12,
   "metadata": {
    "execution": {
     "iopub.execute_input": "2020-11-18T06:37:19.857581Z",
     "iopub.status.busy": "2020-11-18T06:37:19.856620Z",
     "iopub.status.idle": "2020-11-18T06:37:20.040602Z",
     "shell.execute_reply": "2020-11-18T06:37:20.041176Z"
    },
    "papermill": {
     "duration": 0.224822,
     "end_time": "2020-11-18T06:37:20.041345",
     "exception": false,
     "start_time": "2020-11-18T06:37:19.816523",
     "status": "completed"
    },
    "tags": []
   },
   "outputs": [],
   "source": [
    "for i in names:\n",
    "    try:\n",
    "        df[i] = pd.to_numeric(df[i], downcast = \"float\")\n",
    "    except:\n",
    "        continue"
   ]
  },
  {
   "cell_type": "code",
   "execution_count": 13,
   "metadata": {
    "execution": {
     "iopub.execute_input": "2020-11-18T06:37:20.118218Z",
     "iopub.status.busy": "2020-11-18T06:37:20.117422Z",
     "iopub.status.idle": "2020-11-18T06:37:20.122023Z",
     "shell.execute_reply": "2020-11-18T06:37:20.121435Z"
    },
    "papermill": {
     "duration": 0.045589,
     "end_time": "2020-11-18T06:37:20.122150",
     "exception": false,
     "start_time": "2020-11-18T06:37:20.076561",
     "status": "completed"
    },
    "tags": []
   },
   "outputs": [
    {
     "data": {
      "text/plain": [
       "id                          int64\n",
       "video_duration            float32\n",
       "coding_standard            object\n",
       "width                     float32\n",
       "height                    float32\n",
       "bitrate                   float32\n",
       "framerate                 float32\n",
       "i_frames                  float32\n",
       "p_frames                  float32\n",
       "b_frames                  float32\n",
       "frames                    float32\n",
       "i_size                    float32\n",
       "p_size                    float32\n",
       "b_size                    float32\n",
       "size                      float32\n",
       "coding_standard_output     object\n",
       "bitrate_output            float32\n",
       "framerate_output          float32\n",
       "output_width              float32\n",
       "output_height             float32\n",
       "allocated _memory         float32\n",
       "total_processing_time     float32\n",
       "dtype: object"
      ]
     },
     "execution_count": 13,
     "metadata": {},
     "output_type": "execute_result"
    }
   ],
   "source": [
    "df.dtypes"
   ]
  },
  {
   "cell_type": "markdown",
   "metadata": {
    "papermill": {
     "duration": 0.040211,
     "end_time": "2020-11-18T06:37:20.205818",
     "exception": false,
     "start_time": "2020-11-18T06:37:20.165607",
     "status": "completed"
    },
    "tags": []
   },
   "source": [
    "**As you can see above all the columns now have Numerical data type except for coding_standard_output and coding_standard as these columns consist of categorical data.**"
   ]
  },
  {
   "cell_type": "markdown",
   "metadata": {
    "papermill": {
     "duration": 0.039925,
     "end_time": "2020-11-18T06:37:20.291203",
     "exception": false,
     "start_time": "2020-11-18T06:37:20.251278",
     "status": "completed"
    },
    "tags": []
   },
   "source": [
    "## Visual Analysis :\n",
    " \n",
    "1. Scatter Plots\n",
    "2. Heat Map\n",
    "3. Box Plot"
   ]
  },
  {
   "cell_type": "markdown",
   "metadata": {
    "papermill": {
     "duration": 0.036348,
     "end_time": "2020-11-18T06:37:20.364196",
     "exception": false,
     "start_time": "2020-11-18T06:37:20.327848",
     "status": "completed"
    },
    "tags": []
   },
   "source": [
    "### Scatter Plot:\n",
    "\n",
    "**We can get to know about the relation of data with our target variable, lets plot some graphs**"
   ]
  },
  {
   "cell_type": "code",
   "execution_count": 14,
   "metadata": {
    "execution": {
     "iopub.execute_input": "2020-11-18T06:37:20.441378Z",
     "iopub.status.busy": "2020-11-18T06:37:20.440698Z",
     "iopub.status.idle": "2020-11-18T06:37:32.182106Z",
     "shell.execute_reply": "2020-11-18T06:37:32.181495Z"
    },
    "papermill": {
     "duration": 11.783164,
     "end_time": "2020-11-18T06:37:32.182248",
     "exception": false,
     "start_time": "2020-11-18T06:37:20.399084",
     "status": "completed"
    },
    "tags": []
   },
   "outputs": [
    {
     "data": {
      "image/png": "[encoded data removed]",
      "text/plain": [
       "<Figure size 720x432 with 1 Axes>"
      ]
     },
     "metadata": {
      "needs_background": "light"
     },
     "output_type": "display_data"
    },
    {
     "data": {
      "image/png": "[encoded data removed]",
      "text/plain": [
       "<Figure size 432x288 with 1 Axes>"
      ]
     },
     "metadata": {
      "needs_background": "light"
     },
     "output_type": "display_data"
    },
    {
     "data": {
      "image/png": "[encoded data removed]",
      "text/plain": [
       "<Figure size 432x288 with 1 Axes>"
      ]
     },
     "metadata": {
      "needs_background": "light"
     },
     "output_type": "display_data"
    },
    {
     "data": {
      "image/png": "[encoded data removed]",
      "text/plain": [
       "<Figure size 432x288 with 1 Axes>"
      ]
     },
     "metadata": {
      "needs_background": "light"
     },
     "output_type": "display_data"
    },
    {
     "data": {
      "image/png": "[encoded data removed]",
      "text/plain": [
       "<Figure size 432x288 with 1 Axes>"
      ]
     },
     "metadata": {
      "needs_background": "light"
     },
     "output_type": "display_data"
    },
    {
     "data": {
      "image/png": "[encoded data removed]",
      "text/plain": [
       "<Figure size 432x288 with 1 Axes>"
      ]
     },
     "metadata": {
      "needs_background": "light"
     },
     "output_type": "display_data"
    },
    {
     "data": {
      "image/png": "[encoded data removed]",
      "text/plain": [
       "<Figure size 432x288 with 1 Axes>"
      ]
     },
     "metadata": {
      "needs_background": "light"
     },
     "output_type": "display_data"
    },
    {
     "data": {
      "image/png": "[encoded data removed]",
      "text/plain": [
       "<Figure size 432x288 with 1 Axes>"
      ]
     },
     "metadata": {
      "needs_background": "light"
     },
     "output_type": "display_data"
    },
    {
     "data": {
      "image/png": "[encoded data removed]",
      "text/plain": [
       "<Figure size 432x288 with 1 Axes>"
      ]
     },
     "metadata": {
      "needs_background": "light"
     },
     "output_type": "display_data"
    },
    {
     "data": {
      "image/png": "[encoded data removed]",
      "text/plain": [
       "<Figure size 432x288 with 1 Axes>"
      ]
     },
     "metadata": {
      "needs_background": "light"
     },
     "output_type": "display_data"
    },
    {
     "data": {
      "image/png": "[encoded data removed]",
      "text/plain": [
       "<Figure size 432x288 with 1 Axes>"
      ]
     },
     "metadata": {
      "needs_background": "light"
     },
     "output_type": "display_data"
    },
    {
     "data": {
      "image/png": "[encoded data removed]",
      "text/plain": [
       "<Figure size 432x288 with 1 Axes>"
      ]
     },
     "metadata": {
      "needs_background": "light"
     },
     "output_type": "display_data"
    },
    {
     "data": {
      "image/png": "[encoded data removed]",
      "text/plain": [
       "<Figure size 432x288 with 1 Axes>"
      ]
     },
     "metadata": {
      "needs_background": "light"
     },
     "output_type": "display_data"
    },
    {
     "data": {
      "image/png": "[encoded data removed]",
      "text/plain": [
       "<Figure size 432x288 with 1 Axes>"
      ]
     },
     "metadata": {
      "needs_background": "light"
     },
     "output_type": "display_data"
    },
    {
     "data": {
      "image/png": "[encoded data removed]",
      "text/plain": [
       "<Figure size 432x288 with 1 Axes>"
      ]
     },
     "metadata": {
      "needs_background": "light"
     },
     "output_type": "display_data"
    },
    {
     "data": {
      "image/png": "[encoded data removed]",
      "text/plain": [
       "<Figure size 432x288 with 1 Axes>"
      ]
     },
     "metadata": {
      "needs_background": "light"
     },
     "output_type": "display_data"
    },
    {
     "data": {
      "image/png": "[encoded data removed]",
      "text/plain": [
       "<Figure size 432x288 with 1 Axes>"
      ]
     },
     "metadata": {
      "needs_background": "light"
     },
     "output_type": "display_data"
    },
    {
     "data": {
      "image/png": "[encoded data removed]",
      "text/plain": [
       "<Figure size 432x288 with 1 Axes>"
      ]
     },
     "metadata": {
      "needs_background": "light"
     },
     "output_type": "display_data"
    },
    {
     "data": {
      "image/png": "[encoded data removed]",
      "text/plain": [
       "<Figure size 432x288 with 1 Axes>"
      ]
     },
     "metadata": {
      "needs_background": "light"
     },
     "output_type": "display_data"
    },
    {
     "data": {
      "image/png": "[encoded data removed]",
      "text/plain": [
       "<Figure size 432x288 with 1 Axes>"
      ]
     },
     "metadata": {
      "needs_background": "light"
     },
     "output_type": "display_data"
    }
   ],
   "source": [
    "fig = plt.figure(figsize = (10, 6))\n",
    "import random\n",
    "colors = ['red', 'green', 'blue', 'yellow']\n",
    "for i in list(df.columns)[1:-1]:\n",
    "    try:\n",
    "        c = random.randint(0,3)\n",
    "        plt.scatter(x = list(df['total_processing_time']),y = list(df[i]), color = colors[c])\n",
    "        plt.ylabel(i)\n",
    "        plt.xlabel(\"Total Processing Time\")\n",
    "        plt.show()\n",
    "    except:\n",
    "        print(\"Plot not Possible\")"
   ]
  },
  {
   "cell_type": "markdown",
   "metadata": {
    "papermill": {
     "duration": 0.046344,
     "end_time": "2020-11-18T06:37:32.276345",
     "exception": false,
     "start_time": "2020-11-18T06:37:32.230001",
     "status": "completed"
    },
    "tags": []
   },
   "source": [
    "## Heat Map:\n",
    "**Shows us the correlation bettween the different data categories and the target variable**"
   ]
  },
  {
   "cell_type": "code",
   "execution_count": 15,
   "metadata": {
    "execution": {
     "iopub.execute_input": "2020-11-18T06:37:32.377538Z",
     "iopub.status.busy": "2020-11-18T06:37:32.376870Z",
     "iopub.status.idle": "2020-11-18T06:37:34.009962Z",
     "shell.execute_reply": "2020-11-18T06:37:34.010501Z"
    },
    "papermill": {
     "duration": 1.687674,
     "end_time": "2020-11-18T06:37:34.010656",
     "exception": false,
     "start_time": "2020-11-18T06:37:32.322982",
     "status": "completed"
    },
    "tags": []
   },
   "outputs": [
    {
     "data": {
      "text/plain": [
       "<matplotlib.axes._subplots.AxesSubplot at 0x7f8bb132f2d0>"
      ]
     },
     "execution_count": 15,
     "metadata": {},
     "output_type": "execute_result"
    },
    {
     "data": {
      "image/png": "[encoded data removed]",
      "text/plain": [
       "<Figure size 1440x720 with 2 Axes>"
      ]
     },
     "metadata": {
      "needs_background": "light"
     },
     "output_type": "display_data"
    }
   ],
   "source": [
    "fig = plt.figure(figsize = (20, 10))\n",
    "sns.heatmap(df.corr(), annot = True)"
   ]
  },
  {
   "cell_type": "markdown",
   "metadata": {
    "papermill": {
     "duration": 0.051146,
     "end_time": "2020-11-18T06:37:34.114782",
     "exception": false,
     "start_time": "2020-11-18T06:37:34.063636",
     "status": "completed"
    },
    "tags": []
   },
   "source": [
    "## Box Plot:\n",
    "**Very Important as box plot will help us deal with the outliers in the data set and will help improve accuracyof our selected model.**"
   ]
  },
  {
   "cell_type": "code",
   "execution_count": 16,
   "metadata": {
    "execution": {
     "iopub.execute_input": "2020-11-18T06:37:34.226462Z",
     "iopub.status.busy": "2020-11-18T06:37:34.225805Z",
     "iopub.status.idle": "2020-11-18T06:37:36.382603Z",
     "shell.execute_reply": "2020-11-18T06:37:36.382010Z"
    },
    "papermill": {
     "duration": 2.215498,
     "end_time": "2020-11-18T06:37:36.382716",
     "exception": false,
     "start_time": "2020-11-18T06:37:34.167218",
     "status": "completed"
    },
    "tags": []
   },
   "outputs": [
    {
     "name": "stdout",
     "output_type": "stream",
     "text": [
      "video_duration\n"
     ]
    },
    {
     "data": {
      "image/png": "[encoded data removed]",
      "text/plain": [
       "<Figure size 1440x360 with 1 Axes>"
      ]
     },
     "metadata": {
      "needs_background": "light"
     },
     "output_type": "display_data"
    },
    {
     "name": "stdout",
     "output_type": "stream",
     "text": [
      "coding_standard\n",
      "Categorical Data\n",
      "width\n"
     ]
    },
    {
     "data": {
      "image/png": "[encoded data removed]",
      "text/plain": [
       "<Figure size 432x288 with 1 Axes>"
      ]
     },
     "metadata": {
      "needs_background": "light"
     },
     "output_type": "display_data"
    },
    {
     "name": "stdout",
     "output_type": "stream",
     "text": [
      "height\n"
     ]
    },
    {
     "data": {
      "image/png": "[encoded data removed]",
      "text/plain": [
       "<Figure size 432x288 with 1 Axes>"
      ]
     },
     "metadata": {
      "needs_background": "light"
     },
     "output_type": "display_data"
    },
    {
     "name": "stdout",
     "output_type": "stream",
     "text": [
      "bitrate\n"
     ]
    },
    {
     "data": {
      "image/png": "[encoded data removed]",
      "text/plain": [
       "<Figure size 432x288 with 1 Axes>"
      ]
     },
     "metadata": {
      "needs_background": "light"
     },
     "output_type": "display_data"
    },
    {
     "name": "stdout",
     "output_type": "stream",
     "text": [
      "framerate\n"
     ]
    },
    {
     "data": {
      "image/png": "[encoded data removed]",
      "text/plain": [
       "<Figure size 432x288 with 1 Axes>"
      ]
     },
     "metadata": {
      "needs_background": "light"
     },
     "output_type": "display_data"
    },
    {
     "name": "stdout",
     "output_type": "stream",
     "text": [
      "i_frames\n"
     ]
    },
    {
     "data": {
      "image/png": "[encoded data removed]",
      "text/plain": [
       "<Figure size 432x288 with 1 Axes>"
      ]
     },
     "metadata": {
      "needs_background": "light"
     },
     "output_type": "display_data"
    },
    {
     "name": "stdout",
     "output_type": "stream",
     "text": [
      "p_frames\n"
     ]
    },
    {
     "data": {
      "image/png": "[encoded data removed]",
      "text/plain": [
       "<Figure size 432x288 with 1 Axes>"
      ]
     },
     "metadata": {
      "needs_background": "light"
     },
     "output_type": "display_data"
    },
    {
     "name": "stdout",
     "output_type": "stream",
     "text": [
      "b_frames\n"
     ]
    },
    {
     "data": {
      "image/png": "[encoded data removed]",
      "text/plain": [
       "<Figure size 432x288 with 1 Axes>"
      ]
     },
     "metadata": {
      "needs_background": "light"
     },
     "output_type": "display_data"
    },
    {
     "name": "stdout",
     "output_type": "stream",
     "text": [
      "frames\n"
     ]
    },
    {
     "data": {
      "image/png": "[encoded data removed]",
      "text/plain": [
       "<Figure size 432x288 with 1 Axes>"
      ]
     },
     "metadata": {
      "needs_background": "light"
     },
     "output_type": "display_data"
    },
    {
     "name": "stdout",
     "output_type": "stream",
     "text": [
      "i_size\n"
     ]
    },
    {
     "data": {
      "image/png": "[encoded data removed]",
      "text/plain": [
       "<Figure size 432x288 with 1 Axes>"
      ]
     },
     "metadata": {
      "needs_background": "light"
     },
     "output_type": "display_data"
    },
    {
     "name": "stdout",
     "output_type": "stream",
     "text": [
      "p_size\n"
     ]
    },
    {
     "data": {
      "image/png": "[encoded data removed]",
      "text/plain": [
       "<Figure size 432x288 with 1 Axes>"
      ]
     },
     "metadata": {
      "needs_background": "light"
     },
     "output_type": "display_data"
    },
    {
     "name": "stdout",
     "output_type": "stream",
     "text": [
      "b_size\n"
     ]
    },
    {
     "data": {
      "image/png": "[encoded data removed]",
      "text/plain": [
       "<Figure size 432x288 with 1 Axes>"
      ]
     },
     "metadata": {
      "needs_background": "light"
     },
     "output_type": "display_data"
    },
    {
     "name": "stdout",
     "output_type": "stream",
     "text": [
      "size\n"
     ]
    },
    {
     "data": {
      "image/png": "[encoded data removed]",
      "text/plain": [
       "<Figure size 432x288 with 1 Axes>"
      ]
     },
     "metadata": {
      "needs_background": "light"
     },
     "output_type": "display_data"
    },
    {
     "name": "stdout",
     "output_type": "stream",
     "text": [
      "coding_standard_output\n",
      "Categorical Data\n",
      "bitrate_output\n"
     ]
    },
    {
     "data": {
      "image/png": "[encoded data removed]",
      "text/plain": [
       "<Figure size 432x288 with 1 Axes>"
      ]
     },
     "metadata": {
      "needs_background": "light"
     },
     "output_type": "display_data"
    },
    {
     "name": "stdout",
     "output_type": "stream",
     "text": [
      "framerate_output\n"
     ]
    },
    {
     "data": {
      "image/png": "[encoded data removed]",
      "text/plain": [
       "<Figure size 432x288 with 1 Axes>"
      ]
     },
     "metadata": {
      "needs_background": "light"
     },
     "output_type": "display_data"
    },
    {
     "name": "stdout",
     "output_type": "stream",
     "text": [
      "output_width\n"
     ]
    },
    {
     "data": {
      "image/png": "[encoded data removed]",
      "text/plain": [
       "<Figure size 432x288 with 1 Axes>"
      ]
     },
     "metadata": {
      "needs_background": "light"
     },
     "output_type": "display_data"
    },
    {
     "name": "stdout",
     "output_type": "stream",
     "text": [
      "output_height\n"
     ]
    },
    {
     "data": {
      "image/png": "[encoded data removed]",
      "text/plain": [
       "<Figure size 432x288 with 1 Axes>"
      ]
     },
     "metadata": {
      "needs_background": "light"
     },
     "output_type": "display_data"
    },
    {
     "name": "stdout",
     "output_type": "stream",
     "text": [
      "allocated _memory\n"
     ]
    },
    {
     "data": {
      "image/png": "[encoded data removed]",
      "text/plain": [
       "<Figure size 432x288 with 1 Axes>"
      ]
     },
     "metadata": {
      "needs_background": "light"
     },
     "output_type": "display_data"
    },
    {
     "name": "stdout",
     "output_type": "stream",
     "text": [
      "total_processing_time\n"
     ]
    },
    {
     "data": {
      "image/png": "[encoded data removed]",
      "text/plain": [
       "<Figure size 432x288 with 1 Axes>"
      ]
     },
     "metadata": {
      "needs_background": "light"
     },
     "output_type": "display_data"
    }
   ],
   "source": [
    "col_name = list(df.columns)\n",
    "fig = plt.figure(figsize = (20, 5))\n",
    "for i in range(1, 22):\n",
    "    try:\n",
    "        print(col_name[i])\n",
    "        sns.boxplot(data=df.iloc[:, i], orient=\"h\")\n",
    "        plt.show()\n",
    "    except:\n",
    "        print(\"Categorical Data\")\n",
    "       "
   ]
  },
  {
   "cell_type": "markdown",
   "metadata": {
    "papermill": {
     "duration": 0.066357,
     "end_time": "2020-11-18T06:37:36.515783",
     "exception": false,
     "start_time": "2020-11-18T06:37:36.449426",
     "status": "completed"
    },
    "tags": []
   },
   "source": [
    "**It is clearly visible that our data set has many extreme values which are not good for our prdiction we will try and remove all such values and refine our data set we will initially start with removing the top 10 Percentile(%) of the data in columns with maximum outliers and then modify the data according to the performance of our model. This will make sure that the model makes the best prediction possible.**"
   ]
  },
  {
   "cell_type": "code",
   "execution_count": 17,
   "metadata": {
    "execution": {
     "iopub.execute_input": "2020-11-18T06:37:36.658184Z",
     "iopub.status.busy": "2020-11-18T06:37:36.657535Z",
     "iopub.status.idle": "2020-11-18T06:37:36.678513Z",
     "shell.execute_reply": "2020-11-18T06:37:36.677944Z"
    },
    "papermill": {
     "duration": 0.09637,
     "end_time": "2020-11-18T06:37:36.678628",
     "exception": false,
     "start_time": "2020-11-18T06:37:36.582258",
     "status": "completed"
    },
    "tags": []
   },
   "outputs": [],
   "source": [
    "df = df[(df['video_duration']<3000)&(df['width']<100000)\n",
    "       &(df['b_size']>-10)&(df['frames']<25000)&(df['p_frames']<60000)&(df['i_frames']<10**8)&(df['b_frames']<50)\n",
    "       &(df['framerate']<100000)&(df['bitrate']<3.5*10**6)&(df['b_frames']<2000)&(df['b_frames']>-10)\n",
    "       &(df['framerate_output']<40000)&(df['bitrate_output']<0.2*10**8)\n",
    "       &(df['output_height']< 50000)&(df['p_size']<10**8)&(df['i_size']<5*10**9)]"
   ]
  },
  {
   "cell_type": "markdown",
   "metadata": {
    "papermill": {
     "duration": 0.066471,
     "end_time": "2020-11-18T06:37:36.811886",
     "exception": false,
     "start_time": "2020-11-18T06:37:36.745415",
     "status": "completed"
    },
    "tags": []
   },
   "source": [
    "**After a lot of trial and error we finally settled at this particular filteration as thsi filteration was giving usthe best possible result for every column considered the top 10 percentile(%) data was removed. The Target variable is left untouched.**"
   ]
  },
  {
   "cell_type": "code",
   "execution_count": 18,
   "metadata": {
    "execution": {
     "iopub.execute_input": "2020-11-18T06:37:36.954212Z",
     "iopub.status.busy": "2020-11-18T06:37:36.953213Z",
     "iopub.status.idle": "2020-11-18T06:37:39.171697Z",
     "shell.execute_reply": "2020-11-18T06:37:39.170981Z"
    },
    "papermill": {
     "duration": 2.292813,
     "end_time": "2020-11-18T06:37:39.171828",
     "exception": false,
     "start_time": "2020-11-18T06:37:36.879015",
     "status": "completed"
    },
    "tags": []
   },
   "outputs": [
    {
     "name": "stdout",
     "output_type": "stream",
     "text": [
      "video_duration\n"
     ]
    },
    {
     "data": {
      "image/png": "[encoded data removed]",
      "text/plain": [
       "<Figure size 1440x360 with 1 Axes>"
      ]
     },
     "metadata": {
      "needs_background": "light"
     },
     "output_type": "display_data"
    },
    {
     "name": "stdout",
     "output_type": "stream",
     "text": [
      "coding_standard\n",
      "Categorical Data\n",
      "width\n"
     ]
    },
    {
     "data": {
      "image/png": "[encoded data removed]",
      "text/plain": [
       "<Figure size 432x288 with 1 Axes>"
      ]
     },
     "metadata": {
      "needs_background": "light"
     },
     "output_type": "display_data"
    },
    {
     "name": "stdout",
     "output_type": "stream",
     "text": [
      "height\n"
     ]
    },
    {
     "data": {
      "image/png": "[encoded data removed]",
      "text/plain": [
       "<Figure size 432x288 with 1 Axes>"
      ]
     },
     "metadata": {
      "needs_background": "light"
     },
     "output_type": "display_data"
    },
    {
     "name": "stdout",
     "output_type": "stream",
     "text": [
      "bitrate\n"
     ]
    },
    {
     "data": {
      "image/png": "[encoded data removed]",
      "text/plain": [
       "<Figure size 432x288 with 1 Axes>"
      ]
     },
     "metadata": {
      "needs_background": "light"
     },
     "output_type": "display_data"
    },
    {
     "name": "stdout",
     "output_type": "stream",
     "text": [
      "framerate\n"
     ]
    },
    {
     "data": {
      "image/png": "[encoded data removed]",
      "text/plain": [
       "<Figure size 432x288 with 1 Axes>"
      ]
     },
     "metadata": {
      "needs_background": "light"
     },
     "output_type": "display_data"
    },
    {
     "name": "stdout",
     "output_type": "stream",
     "text": [
      "i_frames\n"
     ]
    },
    {
     "data": {
      "image/png": "[encoded data removed]",
      "text/plain": [
       "<Figure size 432x288 with 1 Axes>"
      ]
     },
     "metadata": {
      "needs_background": "light"
     },
     "output_type": "display_data"
    },
    {
     "name": "stdout",
     "output_type": "stream",
     "text": [
      "p_frames\n"
     ]
    },
    {
     "data": {
      "image/png": "[encoded data removed]",
      "text/plain": [
       "<Figure size 432x288 with 1 Axes>"
      ]
     },
     "metadata": {
      "needs_background": "light"
     },
     "output_type": "display_data"
    },
    {
     "name": "stdout",
     "output_type": "stream",
     "text": [
      "b_frames\n"
     ]
    },
    {
     "data": {
      "image/png": "[encoded data removed]",
      "text/plain": [
       "<Figure size 432x288 with 1 Axes>"
      ]
     },
     "metadata": {
      "needs_background": "light"
     },
     "output_type": "display_data"
    },
    {
     "name": "stdout",
     "output_type": "stream",
     "text": [
      "frames\n"
     ]
    },
    {
     "data": {
      "image/png": "[encoded data removed]",
      "text/plain": [
       "<Figure size 432x288 with 1 Axes>"
      ]
     },
     "metadata": {
      "needs_background": "light"
     },
     "output_type": "display_data"
    },
    {
     "name": "stdout",
     "output_type": "stream",
     "text": [
      "i_size\n"
     ]
    },
    {
     "data": {
      "image/png": "[encoded data removed]",
      "text/plain": [
       "<Figure size 432x288 with 1 Axes>"
      ]
     },
     "metadata": {
      "needs_background": "light"
     },
     "output_type": "display_data"
    },
    {
     "name": "stdout",
     "output_type": "stream",
     "text": [
      "p_size\n"
     ]
    },
    {
     "data": {
      "image/png": "[encoded data removed]",
      "text/plain": [
       "<Figure size 432x288 with 1 Axes>"
      ]
     },
     "metadata": {
      "needs_background": "light"
     },
     "output_type": "display_data"
    },
    {
     "name": "stdout",
     "output_type": "stream",
     "text": [
      "b_size\n"
     ]
    },
    {
     "data": {
      "image/png": "[encoded data removed]",
      "text/plain": [
       "<Figure size 432x288 with 1 Axes>"
      ]
     },
     "metadata": {
      "needs_background": "light"
     },
     "output_type": "display_data"
    },
    {
     "name": "stdout",
     "output_type": "stream",
     "text": [
      "size\n"
     ]
    },
    {
     "data": {
      "image/png": "[encoded data removed]",
      "text/plain": [
       "<Figure size 432x288 with 1 Axes>"
      ]
     },
     "metadata": {
      "needs_background": "light"
     },
     "output_type": "display_data"
    },
    {
     "name": "stdout",
     "output_type": "stream",
     "text": [
      "coding_standard_output\n",
      "Categorical Data\n",
      "bitrate_output\n"
     ]
    },
    {
     "data": {
      "image/png": "[encoded data removed]",
      "text/plain": [
       "<Figure size 432x288 with 1 Axes>"
      ]
     },
     "metadata": {
      "needs_background": "light"
     },
     "output_type": "display_data"
    },
    {
     "name": "stdout",
     "output_type": "stream",
     "text": [
      "framerate_output\n"
     ]
    },
    {
     "data": {
      "image/png": "[encoded data removed]",
      "text/plain": [
       "<Figure size 432x288 with 1 Axes>"
      ]
     },
     "metadata": {
      "needs_background": "light"
     },
     "output_type": "display_data"
    },
    {
     "name": "stdout",
     "output_type": "stream",
     "text": [
      "output_width\n"
     ]
    },
    {
     "data": {
      "image/png": "[encoded data removed]",
      "text/plain": [
       "<Figure size 432x288 with 1 Axes>"
      ]
     },
     "metadata": {
      "needs_background": "light"
     },
     "output_type": "display_data"
    },
    {
     "name": "stdout",
     "output_type": "stream",
     "text": [
      "output_height\n"
     ]
    },
    {
     "data": {
      "image/png": "[encoded data removed]",
      "text/plain": [
       "<Figure size 432x288 with 1 Axes>"
      ]
     },
     "metadata": {
      "needs_background": "light"
     },
     "output_type": "display_data"
    },
    {
     "name": "stdout",
     "output_type": "stream",
     "text": [
      "allocated _memory\n"
     ]
    },
    {
     "data": {
      "image/png": "[encoded data removed]",
      "text/plain": [
       "<Figure size 432x288 with 1 Axes>"
      ]
     },
     "metadata": {
      "needs_background": "light"
     },
     "output_type": "display_data"
    },
    {
     "name": "stdout",
     "output_type": "stream",
     "text": [
      "total_processing_time\n"
     ]
    },
    {
     "data": {
      "image/png": "[encoded data removed]",
      "text/plain": [
       "<Figure size 432x288 with 1 Axes>"
      ]
     },
     "metadata": {
      "needs_background": "light"
     },
     "output_type": "display_data"
    }
   ],
   "source": [
    "col_name = list(df.columns)\n",
    "fig = plt.figure(figsize = (20, 5))\n",
    "for i in range(1, 22):\n",
    "    try:\n",
    "        print(col_name[i])\n",
    "        sns.boxplot(data=df.iloc[:, i], orient=\"h\")\n",
    "        plt.show()\n",
    "    except:\n",
    "        print(\"Categorical Data\")\n",
    "       "
   ]
  },
  {
   "cell_type": "markdown",
   "metadata": {
    "papermill": {
     "duration": 0.094509,
     "end_time": "2020-11-18T06:37:39.351428",
     "exception": false,
     "start_time": "2020-11-18T06:37:39.256919",
     "status": "completed"
    },
    "tags": []
   },
   "source": [
    "### Result Evaluation:\n",
    "**As we can clearly see most of the data is now in our desired range so we will move forward and do some more analsis before training our model.[](http://)**"
   ]
  },
  {
   "cell_type": "code",
   "execution_count": 19,
   "metadata": {
    "execution": {
     "iopub.execute_input": "2020-11-18T06:37:39.529407Z",
     "iopub.status.busy": "2020-11-18T06:37:39.528146Z",
     "iopub.status.idle": "2020-11-18T06:37:39.572183Z",
     "shell.execute_reply": "2020-11-18T06:37:39.571633Z"
    },
    "papermill": {
     "duration": 0.135358,
     "end_time": "2020-11-18T06:37:39.572295",
     "exception": false,
     "start_time": "2020-11-18T06:37:39.436937",
     "status": "completed"
    },
    "tags": []
   },
   "outputs": [
    {
     "data": {
      "text/html": [
       "<div>\n",
       "<style scoped>\n",
       "    .dataframe tbody tr th:only-of-type {\n",
       "        vertical-align: middle;\n",
       "    }\n",
       "\n",
       "    .dataframe tbody tr th {\n",
       "        vertical-align: top;\n",
       "    }\n",
       "\n",
       "    .dataframe thead th {\n",
       "        text-align: right;\n",
       "    }\n",
       "</style>\n",
       "<table border=\"1\" class=\"dataframe\">\n",
       "  <thead>\n",
       "    <tr style=\"text-align: right;\">\n",
       "      <th></th>\n",
       "      <th>id</th>\n",
       "      <th>video_duration</th>\n",
       "      <th>coding_standard</th>\n",
       "      <th>width</th>\n",
       "      <th>height</th>\n",
       "      <th>bitrate</th>\n",
       "      <th>framerate</th>\n",
       "      <th>i_frames</th>\n",
       "      <th>p_frames</th>\n",
       "      <th>b_frames</th>\n",
       "      <th>...</th>\n",
       "      <th>p_size</th>\n",
       "      <th>b_size</th>\n",
       "      <th>size</th>\n",
       "      <th>coding_standard_output</th>\n",
       "      <th>bitrate_output</th>\n",
       "      <th>framerate_output</th>\n",
       "      <th>output_width</th>\n",
       "      <th>output_height</th>\n",
       "      <th>allocated _memory</th>\n",
       "      <th>total_processing_time</th>\n",
       "    </tr>\n",
       "  </thead>\n",
       "  <tbody>\n",
       "    <tr>\n",
       "      <th>0</th>\n",
       "      <td>1</td>\n",
       "      <td>131.759995</td>\n",
       "      <td>vp8</td>\n",
       "      <td>640.0</td>\n",
       "      <td>480.0</td>\n",
       "      <td>1.047230e+05</td>\n",
       "      <td>25.145039</td>\n",
       "      <td>37.0</td>\n",
       "      <td>3257.0</td>\n",
       "      <td>0.0</td>\n",
       "      <td>...</td>\n",
       "      <td>778937.0</td>\n",
       "      <td>0.0</td>\n",
       "      <td>1724802.0</td>\n",
       "      <td>flv</td>\n",
       "      <td>539000.0</td>\n",
       "      <td>24.000000</td>\n",
       "      <td>640.0</td>\n",
       "      <td>480.0</td>\n",
       "      <td>221152.0</td>\n",
       "      <td>1.048</td>\n",
       "    </tr>\n",
       "    <tr>\n",
       "      <th>1</th>\n",
       "      <td>2</td>\n",
       "      <td>189.955994</td>\n",
       "      <td>flv</td>\n",
       "      <td>320.0</td>\n",
       "      <td>240.0</td>\n",
       "      <td>2.312960e+05</td>\n",
       "      <td>29.000000</td>\n",
       "      <td>97.0</td>\n",
       "      <td>5597.0</td>\n",
       "      <td>0.0</td>\n",
       "      <td>...</td>\n",
       "      <td>4911734.0</td>\n",
       "      <td>0.0</td>\n",
       "      <td>5492026.0</td>\n",
       "      <td>flv</td>\n",
       "      <td>109000.0</td>\n",
       "      <td>29.969999</td>\n",
       "      <td>320.0</td>\n",
       "      <td>240.0</td>\n",
       "      <td>218664.0</td>\n",
       "      <td>-0.468</td>\n",
       "    </tr>\n",
       "    <tr>\n",
       "      <th>2</th>\n",
       "      <td>3</td>\n",
       "      <td>110.966995</td>\n",
       "      <td>h264</td>\n",
       "      <td>480.0</td>\n",
       "      <td>360.0</td>\n",
       "      <td>6.926718e+05</td>\n",
       "      <td>30.000000</td>\n",
       "      <td>59.0</td>\n",
       "      <td>3271.0</td>\n",
       "      <td>0.0</td>\n",
       "      <td>...</td>\n",
       "      <td>4978664.0</td>\n",
       "      <td>0.0</td>\n",
       "      <td>5508291.0</td>\n",
       "      <td>h264</td>\n",
       "      <td>56000.0</td>\n",
       "      <td>15.000000</td>\n",
       "      <td>320.0</td>\n",
       "      <td>240.0</td>\n",
       "      <td>216820.0</td>\n",
       "      <td>3.696</td>\n",
       "    </tr>\n",
       "    <tr>\n",
       "      <th>3</th>\n",
       "      <td>4</td>\n",
       "      <td>95.461998</td>\n",
       "      <td>h264</td>\n",
       "      <td>640.0</td>\n",
       "      <td>480.0</td>\n",
       "      <td>8.092560e+05</td>\n",
       "      <td>29.000000</td>\n",
       "      <td>51.0</td>\n",
       "      <td>2811.0</td>\n",
       "      <td>0.0</td>\n",
       "      <td>...</td>\n",
       "      <td>8770159.0</td>\n",
       "      <td>0.0</td>\n",
       "      <td>9656655.0</td>\n",
       "      <td>vp8</td>\n",
       "      <td>109000.0</td>\n",
       "      <td>12.000000</td>\n",
       "      <td>320.0</td>\n",
       "      <td>240.0</td>\n",
       "      <td>221160.0</td>\n",
       "      <td>3.452</td>\n",
       "    </tr>\n",
       "    <tr>\n",
       "      <th>4</th>\n",
       "      <td>5</td>\n",
       "      <td>63.667000</td>\n",
       "      <td>h264</td>\n",
       "      <td>640.0</td>\n",
       "      <td>480.0</td>\n",
       "      <td>9.725720e+05</td>\n",
       "      <td>15.000000</td>\n",
       "      <td>33.0</td>\n",
       "      <td>923.0</td>\n",
       "      <td>0.0</td>\n",
       "      <td>...</td>\n",
       "      <td>6480438.0</td>\n",
       "      <td>0.0</td>\n",
       "      <td>7740095.0</td>\n",
       "      <td>flv</td>\n",
       "      <td>56000.0</td>\n",
       "      <td>24.000000</td>\n",
       "      <td>1280.0</td>\n",
       "      <td>720.0</td>\n",
       "      <td>219656.0</td>\n",
       "      <td>2.692</td>\n",
       "    </tr>\n",
       "    <tr>\n",
       "      <th>...</th>\n",
       "      <td>...</td>\n",
       "      <td>...</td>\n",
       "      <td>...</td>\n",
       "      <td>...</td>\n",
       "      <td>...</td>\n",
       "      <td>...</td>\n",
       "      <td>...</td>\n",
       "      <td>...</td>\n",
       "      <td>...</td>\n",
       "      <td>...</td>\n",
       "      <td>...</td>\n",
       "      <td>...</td>\n",
       "      <td>...</td>\n",
       "      <td>...</td>\n",
       "      <td>...</td>\n",
       "      <td>...</td>\n",
       "      <td>...</td>\n",
       "      <td>...</td>\n",
       "      <td>...</td>\n",
       "      <td>...</td>\n",
       "      <td>...</td>\n",
       "    </tr>\n",
       "    <tr>\n",
       "      <th>48142</th>\n",
       "      <td>48143</td>\n",
       "      <td>167.391663</td>\n",
       "      <td>h264</td>\n",
       "      <td>1280.0</td>\n",
       "      <td>720.0</td>\n",
       "      <td>2.207484e+06</td>\n",
       "      <td>24.000000</td>\n",
       "      <td>86.0</td>\n",
       "      <td>3931.0</td>\n",
       "      <td>0.0</td>\n",
       "      <td>...</td>\n",
       "      <td>41819888.0</td>\n",
       "      <td>0.0</td>\n",
       "      <td>46189308.0</td>\n",
       "      <td>mpeg4</td>\n",
       "      <td>820000.0</td>\n",
       "      <td>15.000000</td>\n",
       "      <td>1920.0</td>\n",
       "      <td>1080.0</td>\n",
       "      <td>219656.0</td>\n",
       "      <td>9.777</td>\n",
       "    </tr>\n",
       "    <tr>\n",
       "      <th>48146</th>\n",
       "      <td>48147</td>\n",
       "      <td>67.583336</td>\n",
       "      <td>mpeg4</td>\n",
       "      <td>176.0</td>\n",
       "      <td>144.0</td>\n",
       "      <td>5.122500e+04</td>\n",
       "      <td>12.000000</td>\n",
       "      <td>15.0</td>\n",
       "      <td>777.0</td>\n",
       "      <td>0.0</td>\n",
       "      <td>...</td>\n",
       "      <td>385164.0</td>\n",
       "      <td>0.0</td>\n",
       "      <td>432749.0</td>\n",
       "      <td>vp8</td>\n",
       "      <td>5000000.0</td>\n",
       "      <td>12.000000</td>\n",
       "      <td>1920.0</td>\n",
       "      <td>1080.0</td>\n",
       "      <td>219480.0</td>\n",
       "      <td>22.417</td>\n",
       "    </tr>\n",
       "    <tr>\n",
       "      <th>48147</th>\n",
       "      <td>48148</td>\n",
       "      <td>581.232971</td>\n",
       "      <td>h264</td>\n",
       "      <td>480.0</td>\n",
       "      <td>360.0</td>\n",
       "      <td>2.959790e+05</td>\n",
       "      <td>30.000000</td>\n",
       "      <td>310.0</td>\n",
       "      <td>17128.0</td>\n",
       "      <td>0.0</td>\n",
       "      <td>...</td>\n",
       "      <td>11352574.0</td>\n",
       "      <td>0.0</td>\n",
       "      <td>21504146.0</td>\n",
       "      <td>vp8</td>\n",
       "      <td>5000000.0</td>\n",
       "      <td>15.000000</td>\n",
       "      <td>640.0</td>\n",
       "      <td>480.0</td>\n",
       "      <td>218932.0</td>\n",
       "      <td>6.460</td>\n",
       "    </tr>\n",
       "    <tr>\n",
       "      <th>48148</th>\n",
       "      <td>48149</td>\n",
       "      <td>645.840027</td>\n",
       "      <td>vp8</td>\n",
       "      <td>320.0</td>\n",
       "      <td>240.0</td>\n",
       "      <td>9.590300e+04</td>\n",
       "      <td>25.032558</td>\n",
       "      <td>138.0</td>\n",
       "      <td>16008.0</td>\n",
       "      <td>0.0</td>\n",
       "      <td>...</td>\n",
       "      <td>6660941.0</td>\n",
       "      <td>0.0</td>\n",
       "      <td>7742262.0</td>\n",
       "      <td>vp8</td>\n",
       "      <td>539000.0</td>\n",
       "      <td>29.969999</td>\n",
       "      <td>176.0</td>\n",
       "      <td>144.0</td>\n",
       "      <td>219196.0</td>\n",
       "      <td>1.976</td>\n",
       "    </tr>\n",
       "    <tr>\n",
       "      <th>48149</th>\n",
       "      <td>48150</td>\n",
       "      <td>167.391663</td>\n",
       "      <td>h264</td>\n",
       "      <td>1280.0</td>\n",
       "      <td>720.0</td>\n",
       "      <td>2.207484e+06</td>\n",
       "      <td>24.000000</td>\n",
       "      <td>86.0</td>\n",
       "      <td>3931.0</td>\n",
       "      <td>0.0</td>\n",
       "      <td>...</td>\n",
       "      <td>41819888.0</td>\n",
       "      <td>0.0</td>\n",
       "      <td>46189308.0</td>\n",
       "      <td>vp8</td>\n",
       "      <td>820000.0</td>\n",
       "      <td>29.969999</td>\n",
       "      <td>640.0</td>\n",
       "      <td>480.0</td>\n",
       "      <td>219656.0</td>\n",
       "      <td>13.849</td>\n",
       "    </tr>\n",
       "  </tbody>\n",
       "</table>\n",
       "<p>44540 rows × 22 columns</p>\n",
       "</div>"
      ],
      "text/plain": [
       "          id  video_duration coding_standard   width  height       bitrate  \\\n",
       "0          1      131.759995             vp8   640.0   480.0  1.047230e+05   \n",
       "1          2      189.955994             flv   320.0   240.0  2.312960e+05   \n",
       "2          3      110.966995            h264   480.0   360.0  6.926718e+05   \n",
       "3          4       95.461998            h264   640.0   480.0  8.092560e+05   \n",
       "4          5       63.667000            h264   640.0   480.0  9.725720e+05   \n",
       "...      ...             ...             ...     ...     ...           ...   \n",
       "48142  48143      167.391663            h264  1280.0   720.0  2.207484e+06   \n",
       "48146  48147       67.583336           mpeg4   176.0   144.0  5.122500e+04   \n",
       "48147  48148      581.232971            h264   480.0   360.0  2.959790e+05   \n",
       "48148  48149      645.840027             vp8   320.0   240.0  9.590300e+04   \n",
       "48149  48150      167.391663            h264  1280.0   720.0  2.207484e+06   \n",
       "\n",
       "       framerate  i_frames  p_frames  b_frames  ...      p_size  b_size  \\\n",
       "0      25.145039      37.0    3257.0       0.0  ...    778937.0     0.0   \n",
       "1      29.000000      97.0    5597.0       0.0  ...   4911734.0     0.0   \n",
       "2      30.000000      59.0    3271.0       0.0  ...   4978664.0     0.0   \n",
       "3      29.000000      51.0    2811.0       0.0  ...   8770159.0     0.0   \n",
       "4      15.000000      33.0     923.0       0.0  ...   6480438.0     0.0   \n",
       "...          ...       ...       ...       ...  ...         ...     ...   \n",
       "48142  24.000000      86.0    3931.0       0.0  ...  41819888.0     0.0   \n",
       "48146  12.000000      15.0     777.0       0.0  ...    385164.0     0.0   \n",
       "48147  30.000000     310.0   17128.0       0.0  ...  11352574.0     0.0   \n",
       "48148  25.032558     138.0   16008.0       0.0  ...   6660941.0     0.0   \n",
       "48149  24.000000      86.0    3931.0       0.0  ...  41819888.0     0.0   \n",
       "\n",
       "             size  coding_standard_output  bitrate_output framerate_output  \\\n",
       "0       1724802.0                     flv        539000.0        24.000000   \n",
       "1       5492026.0                     flv        109000.0        29.969999   \n",
       "2       5508291.0                    h264         56000.0        15.000000   \n",
       "3       9656655.0                     vp8        109000.0        12.000000   \n",
       "4       7740095.0                     flv         56000.0        24.000000   \n",
       "...           ...                     ...             ...              ...   \n",
       "48142  46189308.0                   mpeg4        820000.0        15.000000   \n",
       "48146    432749.0                     vp8       5000000.0        12.000000   \n",
       "48147  21504146.0                     vp8       5000000.0        15.000000   \n",
       "48148   7742262.0                     vp8        539000.0        29.969999   \n",
       "48149  46189308.0                     vp8        820000.0        29.969999   \n",
       "\n",
       "       output_width  output_height  allocated _memory  total_processing_time  \n",
       "0             640.0          480.0           221152.0                  1.048  \n",
       "1             320.0          240.0           218664.0                 -0.468  \n",
       "2             320.0          240.0           216820.0                  3.696  \n",
       "3             320.0          240.0           221160.0                  3.452  \n",
       "4            1280.0          720.0           219656.0                  2.692  \n",
       "...             ...            ...                ...                    ...  \n",
       "48142        1920.0         1080.0           219656.0                  9.777  \n",
       "48146        1920.0         1080.0           219480.0                 22.417  \n",
       "48147         640.0          480.0           218932.0                  6.460  \n",
       "48148         176.0          144.0           219196.0                  1.976  \n",
       "48149         640.0          480.0           219656.0                 13.849  \n",
       "\n",
       "[44540 rows x 22 columns]"
      ]
     },
     "execution_count": 19,
     "metadata": {},
     "output_type": "execute_result"
    }
   ],
   "source": [
    "df"
   ]
  },
  {
   "cell_type": "markdown",
   "metadata": {
    "papermill": {
     "duration": 0.085979,
     "end_time": "2020-11-18T06:37:39.744696",
     "exception": false,
     "start_time": "2020-11-18T06:37:39.658717",
     "status": "completed"
    },
    "tags": []
   },
   "source": [
    "### Converting Categorical Data into Numerical Data:\n",
    "**We will now do One Hot Encoding to the categorical data columns. To accomplish this task we have used the get_dummies method in the Pandas Library this will create a new data frame with encoded values which we will concat to the main data frame** "
   ]
  },
  {
   "cell_type": "code",
   "execution_count": 20,
   "metadata": {
    "execution": {
     "iopub.execute_input": "2020-11-18T06:37:39.925331Z",
     "iopub.status.busy": "2020-11-18T06:37:39.924577Z",
     "iopub.status.idle": "2020-11-18T06:37:39.936016Z",
     "shell.execute_reply": "2020-11-18T06:37:39.935378Z"
    },
    "papermill": {
     "duration": 0.104467,
     "end_time": "2020-11-18T06:37:39.936144",
     "exception": false,
     "start_time": "2020-11-18T06:37:39.831677",
     "status": "completed"
    },
    "tags": []
   },
   "outputs": [
    {
     "data": {
      "text/html": [
       "<div>\n",
       "<style scoped>\n",
       "    .dataframe tbody tr th:only-of-type {\n",
       "        vertical-align: middle;\n",
       "    }\n",
       "\n",
       "    .dataframe tbody tr th {\n",
       "        vertical-align: top;\n",
       "    }\n",
       "\n",
       "    .dataframe thead th {\n",
       "        text-align: right;\n",
       "    }\n",
       "</style>\n",
       "<table border=\"1\" class=\"dataframe\">\n",
       "  <thead>\n",
       "    <tr style=\"text-align: right;\">\n",
       "      <th></th>\n",
       "      <th>flv</th>\n",
       "      <th>h264</th>\n",
       "      <th>mpeg4</th>\n",
       "      <th>vp8</th>\n",
       "    </tr>\n",
       "  </thead>\n",
       "  <tbody>\n",
       "    <tr>\n",
       "      <th>0</th>\n",
       "      <td>0</td>\n",
       "      <td>0</td>\n",
       "      <td>0</td>\n",
       "      <td>1</td>\n",
       "    </tr>\n",
       "    <tr>\n",
       "      <th>1</th>\n",
       "      <td>1</td>\n",
       "      <td>0</td>\n",
       "      <td>0</td>\n",
       "      <td>0</td>\n",
       "    </tr>\n",
       "    <tr>\n",
       "      <th>2</th>\n",
       "      <td>0</td>\n",
       "      <td>1</td>\n",
       "      <td>0</td>\n",
       "      <td>0</td>\n",
       "    </tr>\n",
       "    <tr>\n",
       "      <th>3</th>\n",
       "      <td>0</td>\n",
       "      <td>1</td>\n",
       "      <td>0</td>\n",
       "      <td>0</td>\n",
       "    </tr>\n",
       "    <tr>\n",
       "      <th>4</th>\n",
       "      <td>0</td>\n",
       "      <td>1</td>\n",
       "      <td>0</td>\n",
       "      <td>0</td>\n",
       "    </tr>\n",
       "  </tbody>\n",
       "</table>\n",
       "</div>"
      ],
      "text/plain": [
       "   flv  h264  mpeg4  vp8\n",
       "0    0     0      0    1\n",
       "1    1     0      0    0\n",
       "2    0     1      0    0\n",
       "3    0     1      0    0\n",
       "4    0     1      0    0"
      ]
     },
     "execution_count": 20,
     "metadata": {},
     "output_type": "execute_result"
    }
   ],
   "source": [
    "df_1 = pd.get_dummies(df[\"coding_standard\"])\n",
    "df_1.head()"
   ]
  },
  {
   "cell_type": "markdown",
   "metadata": {
    "papermill": {
     "duration": 0.08592,
     "end_time": "2020-11-18T06:37:40.110023",
     "exception": false,
     "start_time": "2020-11-18T06:37:40.024103",
     "status": "completed"
    },
    "tags": []
   },
   "source": [
    "**For the second encoding we will have to rename the columns as we dont want two cols with same name in our data set.**"
   ]
  },
  {
   "cell_type": "code",
   "execution_count": 21,
   "metadata": {
    "execution": {
     "iopub.execute_input": "2020-11-18T06:37:40.341142Z",
     "iopub.status.busy": "2020-11-18T06:37:40.339998Z",
     "iopub.status.idle": "2020-11-18T06:37:40.353732Z",
     "shell.execute_reply": "2020-11-18T06:37:40.353168Z"
    },
    "papermill": {
     "duration": 0.157223,
     "end_time": "2020-11-18T06:37:40.353858",
     "exception": false,
     "start_time": "2020-11-18T06:37:40.196635",
     "status": "completed"
    },
    "tags": []
   },
   "outputs": [
    {
     "data": {
      "text/html": [
       "<div>\n",
       "<style scoped>\n",
       "    .dataframe tbody tr th:only-of-type {\n",
       "        vertical-align: middle;\n",
       "    }\n",
       "\n",
       "    .dataframe tbody tr th {\n",
       "        vertical-align: top;\n",
       "    }\n",
       "\n",
       "    .dataframe thead th {\n",
       "        text-align: right;\n",
       "    }\n",
       "</style>\n",
       "<table border=\"1\" class=\"dataframe\">\n",
       "  <thead>\n",
       "    <tr style=\"text-align: right;\">\n",
       "      <th></th>\n",
       "      <th>flv_o</th>\n",
       "      <th>h264_o</th>\n",
       "      <th>mpeg4_o</th>\n",
       "      <th>vp8_o</th>\n",
       "    </tr>\n",
       "  </thead>\n",
       "  <tbody>\n",
       "    <tr>\n",
       "      <th>0</th>\n",
       "      <td>1</td>\n",
       "      <td>0</td>\n",
       "      <td>0</td>\n",
       "      <td>0</td>\n",
       "    </tr>\n",
       "    <tr>\n",
       "      <th>1</th>\n",
       "      <td>1</td>\n",
       "      <td>0</td>\n",
       "      <td>0</td>\n",
       "      <td>0</td>\n",
       "    </tr>\n",
       "    <tr>\n",
       "      <th>2</th>\n",
       "      <td>0</td>\n",
       "      <td>1</td>\n",
       "      <td>0</td>\n",
       "      <td>0</td>\n",
       "    </tr>\n",
       "    <tr>\n",
       "      <th>3</th>\n",
       "      <td>0</td>\n",
       "      <td>0</td>\n",
       "      <td>0</td>\n",
       "      <td>1</td>\n",
       "    </tr>\n",
       "    <tr>\n",
       "      <th>4</th>\n",
       "      <td>1</td>\n",
       "      <td>0</td>\n",
       "      <td>0</td>\n",
       "      <td>0</td>\n",
       "    </tr>\n",
       "  </tbody>\n",
       "</table>\n",
       "</div>"
      ],
      "text/plain": [
       "   flv_o  h264_o  mpeg4_o  vp8_o\n",
       "0      1       0        0      0\n",
       "1      1       0        0      0\n",
       "2      0       1        0      0\n",
       "3      0       0        0      1\n",
       "4      1       0        0      0"
      ]
     },
     "execution_count": 21,
     "metadata": {},
     "output_type": "execute_result"
    }
   ],
   "source": [
    "df_2 =  pd.get_dummies(df[\"coding_standard_output\"])\n",
    "df_2.rename({\"flv\":\"flv_o\", \"h264\":\"h264_o\", \"mpeg4\":\"mpeg4_o\", \"vp8\":\"vp8_o\"}, axis=\"columns\",inplace=True)\n",
    "df_2.head()"
   ]
  },
  {
   "cell_type": "markdown",
   "metadata": {
    "papermill": {
     "duration": 0.085987,
     "end_time": "2020-11-18T06:37:40.526328",
     "exception": false,
     "start_time": "2020-11-18T06:37:40.440341",
     "status": "completed"
    },
    "tags": []
   },
   "source": [
    "**Removing the column with categorical data and appending the Encoded data to the Final Data Frame**"
   ]
  },
  {
   "cell_type": "code",
   "execution_count": 22,
   "metadata": {
    "execution": {
     "iopub.execute_input": "2020-11-18T06:37:40.705629Z",
     "iopub.status.busy": "2020-11-18T06:37:40.704974Z",
     "iopub.status.idle": "2020-11-18T06:37:40.731061Z",
     "shell.execute_reply": "2020-11-18T06:37:40.730429Z"
    },
    "papermill": {
     "duration": 0.119144,
     "end_time": "2020-11-18T06:37:40.731189",
     "exception": false,
     "start_time": "2020-11-18T06:37:40.612045",
     "status": "completed"
    },
    "tags": []
   },
   "outputs": [
    {
     "data": {
      "text/html": [
       "<div>\n",
       "<style scoped>\n",
       "    .dataframe tbody tr th:only-of-type {\n",
       "        vertical-align: middle;\n",
       "    }\n",
       "\n",
       "    .dataframe tbody tr th {\n",
       "        vertical-align: top;\n",
       "    }\n",
       "\n",
       "    .dataframe thead th {\n",
       "        text-align: right;\n",
       "    }\n",
       "</style>\n",
       "<table border=\"1\" class=\"dataframe\">\n",
       "  <thead>\n",
       "    <tr style=\"text-align: right;\">\n",
       "      <th></th>\n",
       "      <th>video_duration</th>\n",
       "      <th>width</th>\n",
       "      <th>height</th>\n",
       "      <th>bitrate</th>\n",
       "      <th>framerate</th>\n",
       "      <th>i_frames</th>\n",
       "      <th>p_frames</th>\n",
       "      <th>b_frames</th>\n",
       "      <th>frames</th>\n",
       "      <th>i_size</th>\n",
       "      <th>...</th>\n",
       "      <th>allocated _memory</th>\n",
       "      <th>total_processing_time</th>\n",
       "      <th>flv</th>\n",
       "      <th>h264</th>\n",
       "      <th>mpeg4</th>\n",
       "      <th>vp8</th>\n",
       "      <th>flv_o</th>\n",
       "      <th>h264_o</th>\n",
       "      <th>mpeg4_o</th>\n",
       "      <th>vp8_o</th>\n",
       "    </tr>\n",
       "  </thead>\n",
       "  <tbody>\n",
       "    <tr>\n",
       "      <th>0</th>\n",
       "      <td>131.759995</td>\n",
       "      <td>640.0</td>\n",
       "      <td>480.0</td>\n",
       "      <td>104723.0000</td>\n",
       "      <td>25.145039</td>\n",
       "      <td>37.0</td>\n",
       "      <td>3257.0</td>\n",
       "      <td>0.0</td>\n",
       "      <td>3294.0</td>\n",
       "      <td>945865.0</td>\n",
       "      <td>...</td>\n",
       "      <td>221152.0</td>\n",
       "      <td>1.048</td>\n",
       "      <td>0</td>\n",
       "      <td>0</td>\n",
       "      <td>0</td>\n",
       "      <td>1</td>\n",
       "      <td>1</td>\n",
       "      <td>0</td>\n",
       "      <td>0</td>\n",
       "      <td>0</td>\n",
       "    </tr>\n",
       "    <tr>\n",
       "      <th>1</th>\n",
       "      <td>189.955994</td>\n",
       "      <td>320.0</td>\n",
       "      <td>240.0</td>\n",
       "      <td>231296.0000</td>\n",
       "      <td>29.000000</td>\n",
       "      <td>97.0</td>\n",
       "      <td>5597.0</td>\n",
       "      <td>0.0</td>\n",
       "      <td>5694.0</td>\n",
       "      <td>580292.0</td>\n",
       "      <td>...</td>\n",
       "      <td>218664.0</td>\n",
       "      <td>-0.468</td>\n",
       "      <td>1</td>\n",
       "      <td>0</td>\n",
       "      <td>0</td>\n",
       "      <td>0</td>\n",
       "      <td>1</td>\n",
       "      <td>0</td>\n",
       "      <td>0</td>\n",
       "      <td>0</td>\n",
       "    </tr>\n",
       "    <tr>\n",
       "      <th>2</th>\n",
       "      <td>110.966995</td>\n",
       "      <td>480.0</td>\n",
       "      <td>360.0</td>\n",
       "      <td>692671.8125</td>\n",
       "      <td>30.000000</td>\n",
       "      <td>59.0</td>\n",
       "      <td>3271.0</td>\n",
       "      <td>0.0</td>\n",
       "      <td>3330.0</td>\n",
       "      <td>529627.0</td>\n",
       "      <td>...</td>\n",
       "      <td>216820.0</td>\n",
       "      <td>3.696</td>\n",
       "      <td>0</td>\n",
       "      <td>1</td>\n",
       "      <td>0</td>\n",
       "      <td>0</td>\n",
       "      <td>0</td>\n",
       "      <td>1</td>\n",
       "      <td>0</td>\n",
       "      <td>0</td>\n",
       "    </tr>\n",
       "    <tr>\n",
       "      <th>3</th>\n",
       "      <td>95.461998</td>\n",
       "      <td>640.0</td>\n",
       "      <td>480.0</td>\n",
       "      <td>809256.0000</td>\n",
       "      <td>29.000000</td>\n",
       "      <td>51.0</td>\n",
       "      <td>2811.0</td>\n",
       "      <td>0.0</td>\n",
       "      <td>2862.0</td>\n",
       "      <td>886496.0</td>\n",
       "      <td>...</td>\n",
       "      <td>221160.0</td>\n",
       "      <td>3.452</td>\n",
       "      <td>0</td>\n",
       "      <td>1</td>\n",
       "      <td>0</td>\n",
       "      <td>0</td>\n",
       "      <td>0</td>\n",
       "      <td>0</td>\n",
       "      <td>0</td>\n",
       "      <td>1</td>\n",
       "    </tr>\n",
       "    <tr>\n",
       "      <th>4</th>\n",
       "      <td>63.667000</td>\n",
       "      <td>640.0</td>\n",
       "      <td>480.0</td>\n",
       "      <td>972572.0000</td>\n",
       "      <td>15.000000</td>\n",
       "      <td>33.0</td>\n",
       "      <td>923.0</td>\n",
       "      <td>0.0</td>\n",
       "      <td>956.0</td>\n",
       "      <td>1259657.0</td>\n",
       "      <td>...</td>\n",
       "      <td>219656.0</td>\n",
       "      <td>2.692</td>\n",
       "      <td>0</td>\n",
       "      <td>1</td>\n",
       "      <td>0</td>\n",
       "      <td>0</td>\n",
       "      <td>1</td>\n",
       "      <td>0</td>\n",
       "      <td>0</td>\n",
       "      <td>0</td>\n",
       "    </tr>\n",
       "  </tbody>\n",
       "</table>\n",
       "<p>5 rows × 27 columns</p>\n",
       "</div>"
      ],
      "text/plain": [
       "   video_duration  width  height      bitrate  framerate  i_frames  p_frames  \\\n",
       "0      131.759995  640.0   480.0  104723.0000  25.145039      37.0    3257.0   \n",
       "1      189.955994  320.0   240.0  231296.0000  29.000000      97.0    5597.0   \n",
       "2      110.966995  480.0   360.0  692671.8125  30.000000      59.0    3271.0   \n",
       "3       95.461998  640.0   480.0  809256.0000  29.000000      51.0    2811.0   \n",
       "4       63.667000  640.0   480.0  972572.0000  15.000000      33.0     923.0   \n",
       "\n",
       "   b_frames  frames     i_size  ...  allocated _memory  total_processing_time  \\\n",
       "0       0.0  3294.0   945865.0  ...           221152.0                  1.048   \n",
       "1       0.0  5694.0   580292.0  ...           218664.0                 -0.468   \n",
       "2       0.0  3330.0   529627.0  ...           216820.0                  3.696   \n",
       "3       0.0  2862.0   886496.0  ...           221160.0                  3.452   \n",
       "4       0.0   956.0  1259657.0  ...           219656.0                  2.692   \n",
       "\n",
       "   flv  h264  mpeg4  vp8  flv_o  h264_o  mpeg4_o  vp8_o  \n",
       "0    0     0      0    1      1       0        0      0  \n",
       "1    1     0      0    0      1       0        0      0  \n",
       "2    0     1      0    0      0       1        0      0  \n",
       "3    0     1      0    0      0       0        0      1  \n",
       "4    0     1      0    0      1       0        0      0  \n",
       "\n",
       "[5 rows x 27 columns]"
      ]
     },
     "execution_count": 22,
     "metadata": {},
     "output_type": "execute_result"
    }
   ],
   "source": [
    "df.drop(columns=['id', 'coding_standard', 'coding_standard_output'], inplace=True)\n",
    "final_df = pd.concat([df, df_1],axis = 1)\n",
    "final_df = pd.concat([final_df, df_2],axis = 1)\n",
    "final_df.head()"
   ]
  },
  {
   "cell_type": "code",
   "execution_count": 23,
   "metadata": {
    "execution": {
     "iopub.execute_input": "2020-11-18T06:37:40.910697Z",
     "iopub.status.busy": "2020-11-18T06:37:40.909553Z",
     "iopub.status.idle": "2020-11-18T06:37:40.940358Z",
     "shell.execute_reply": "2020-11-18T06:37:40.939810Z"
    },
    "papermill": {
     "duration": 0.12514,
     "end_time": "2020-11-18T06:37:40.940479",
     "exception": false,
     "start_time": "2020-11-18T06:37:40.815339",
     "status": "completed"
    },
    "tags": []
   },
   "outputs": [
    {
     "data": {
      "text/html": [
       "<div>\n",
       "<style scoped>\n",
       "    .dataframe tbody tr th:only-of-type {\n",
       "        vertical-align: middle;\n",
       "    }\n",
       "\n",
       "    .dataframe tbody tr th {\n",
       "        vertical-align: top;\n",
       "    }\n",
       "\n",
       "    .dataframe thead th {\n",
       "        text-align: right;\n",
       "    }\n",
       "</style>\n",
       "<table border=\"1\" class=\"dataframe\">\n",
       "  <thead>\n",
       "    <tr style=\"text-align: right;\">\n",
       "      <th></th>\n",
       "      <th>video_duration</th>\n",
       "      <th>width</th>\n",
       "      <th>height</th>\n",
       "      <th>bitrate</th>\n",
       "      <th>framerate</th>\n",
       "      <th>i_frames</th>\n",
       "      <th>p_frames</th>\n",
       "      <th>b_frames</th>\n",
       "      <th>frames</th>\n",
       "      <th>i_size</th>\n",
       "      <th>...</th>\n",
       "      <th>allocated _memory</th>\n",
       "      <th>flv</th>\n",
       "      <th>h264</th>\n",
       "      <th>mpeg4</th>\n",
       "      <th>vp8</th>\n",
       "      <th>flv_o</th>\n",
       "      <th>h264_o</th>\n",
       "      <th>mpeg4_o</th>\n",
       "      <th>vp8_o</th>\n",
       "      <th>total_processing_time</th>\n",
       "    </tr>\n",
       "  </thead>\n",
       "  <tbody>\n",
       "    <tr>\n",
       "      <th>0</th>\n",
       "      <td>131.759995</td>\n",
       "      <td>640.0</td>\n",
       "      <td>480.0</td>\n",
       "      <td>104723.0000</td>\n",
       "      <td>25.145039</td>\n",
       "      <td>37.0</td>\n",
       "      <td>3257.0</td>\n",
       "      <td>0.0</td>\n",
       "      <td>3294.0</td>\n",
       "      <td>945865.0</td>\n",
       "      <td>...</td>\n",
       "      <td>221152.0</td>\n",
       "      <td>0</td>\n",
       "      <td>0</td>\n",
       "      <td>0</td>\n",
       "      <td>1</td>\n",
       "      <td>1</td>\n",
       "      <td>0</td>\n",
       "      <td>0</td>\n",
       "      <td>0</td>\n",
       "      <td>1.048</td>\n",
       "    </tr>\n",
       "    <tr>\n",
       "      <th>1</th>\n",
       "      <td>189.955994</td>\n",
       "      <td>320.0</td>\n",
       "      <td>240.0</td>\n",
       "      <td>231296.0000</td>\n",
       "      <td>29.000000</td>\n",
       "      <td>97.0</td>\n",
       "      <td>5597.0</td>\n",
       "      <td>0.0</td>\n",
       "      <td>5694.0</td>\n",
       "      <td>580292.0</td>\n",
       "      <td>...</td>\n",
       "      <td>218664.0</td>\n",
       "      <td>1</td>\n",
       "      <td>0</td>\n",
       "      <td>0</td>\n",
       "      <td>0</td>\n",
       "      <td>1</td>\n",
       "      <td>0</td>\n",
       "      <td>0</td>\n",
       "      <td>0</td>\n",
       "      <td>-0.468</td>\n",
       "    </tr>\n",
       "    <tr>\n",
       "      <th>2</th>\n",
       "      <td>110.966995</td>\n",
       "      <td>480.0</td>\n",
       "      <td>360.0</td>\n",
       "      <td>692671.8125</td>\n",
       "      <td>30.000000</td>\n",
       "      <td>59.0</td>\n",
       "      <td>3271.0</td>\n",
       "      <td>0.0</td>\n",
       "      <td>3330.0</td>\n",
       "      <td>529627.0</td>\n",
       "      <td>...</td>\n",
       "      <td>216820.0</td>\n",
       "      <td>0</td>\n",
       "      <td>1</td>\n",
       "      <td>0</td>\n",
       "      <td>0</td>\n",
       "      <td>0</td>\n",
       "      <td>1</td>\n",
       "      <td>0</td>\n",
       "      <td>0</td>\n",
       "      <td>3.696</td>\n",
       "    </tr>\n",
       "    <tr>\n",
       "      <th>3</th>\n",
       "      <td>95.461998</td>\n",
       "      <td>640.0</td>\n",
       "      <td>480.0</td>\n",
       "      <td>809256.0000</td>\n",
       "      <td>29.000000</td>\n",
       "      <td>51.0</td>\n",
       "      <td>2811.0</td>\n",
       "      <td>0.0</td>\n",
       "      <td>2862.0</td>\n",
       "      <td>886496.0</td>\n",
       "      <td>...</td>\n",
       "      <td>221160.0</td>\n",
       "      <td>0</td>\n",
       "      <td>1</td>\n",
       "      <td>0</td>\n",
       "      <td>0</td>\n",
       "      <td>0</td>\n",
       "      <td>0</td>\n",
       "      <td>0</td>\n",
       "      <td>1</td>\n",
       "      <td>3.452</td>\n",
       "    </tr>\n",
       "    <tr>\n",
       "      <th>4</th>\n",
       "      <td>63.667000</td>\n",
       "      <td>640.0</td>\n",
       "      <td>480.0</td>\n",
       "      <td>972572.0000</td>\n",
       "      <td>15.000000</td>\n",
       "      <td>33.0</td>\n",
       "      <td>923.0</td>\n",
       "      <td>0.0</td>\n",
       "      <td>956.0</td>\n",
       "      <td>1259657.0</td>\n",
       "      <td>...</td>\n",
       "      <td>219656.0</td>\n",
       "      <td>0</td>\n",
       "      <td>1</td>\n",
       "      <td>0</td>\n",
       "      <td>0</td>\n",
       "      <td>1</td>\n",
       "      <td>0</td>\n",
       "      <td>0</td>\n",
       "      <td>0</td>\n",
       "      <td>2.692</td>\n",
       "    </tr>\n",
       "  </tbody>\n",
       "</table>\n",
       "<p>5 rows × 27 columns</p>\n",
       "</div>"
      ],
      "text/plain": [
       "   video_duration  width  height      bitrate  framerate  i_frames  p_frames  \\\n",
       "0      131.759995  640.0   480.0  104723.0000  25.145039      37.0    3257.0   \n",
       "1      189.955994  320.0   240.0  231296.0000  29.000000      97.0    5597.0   \n",
       "2      110.966995  480.0   360.0  692671.8125  30.000000      59.0    3271.0   \n",
       "3       95.461998  640.0   480.0  809256.0000  29.000000      51.0    2811.0   \n",
       "4       63.667000  640.0   480.0  972572.0000  15.000000      33.0     923.0   \n",
       "\n",
       "   b_frames  frames     i_size  ...  allocated _memory  flv  h264  mpeg4  vp8  \\\n",
       "0       0.0  3294.0   945865.0  ...           221152.0    0     0      0    1   \n",
       "1       0.0  5694.0   580292.0  ...           218664.0    1     0      0    0   \n",
       "2       0.0  3330.0   529627.0  ...           216820.0    0     1      0    0   \n",
       "3       0.0  2862.0   886496.0  ...           221160.0    0     1      0    0   \n",
       "4       0.0   956.0  1259657.0  ...           219656.0    0     1      0    0   \n",
       "\n",
       "   flv_o  h264_o  mpeg4_o  vp8_o  total_processing_time  \n",
       "0      1       0        0      0                  1.048  \n",
       "1      1       0        0      0                 -0.468  \n",
       "2      0       1        0      0                  3.696  \n",
       "3      0       0        0      1                  3.452  \n",
       "4      1       0        0      0                  2.692  \n",
       "\n",
       "[5 rows x 27 columns]"
      ]
     },
     "execution_count": 23,
     "metadata": {},
     "output_type": "execute_result"
    }
   ],
   "source": [
    "x = list(final_df[\"total_processing_time\"])\n",
    "final_df.drop(columns=\"total_processing_time\", inplace = True)\n",
    "final_df['total_processing_time'] = x\n",
    "final_df.head()"
   ]
  },
  {
   "cell_type": "code",
   "execution_count": 24,
   "metadata": {
    "execution": {
     "iopub.execute_input": "2020-11-18T06:37:41.118561Z",
     "iopub.status.busy": "2020-11-18T06:37:41.117803Z",
     "iopub.status.idle": "2020-11-18T06:37:41.122291Z",
     "shell.execute_reply": "2020-11-18T06:37:41.121718Z"
    },
    "papermill": {
     "duration": 0.096154,
     "end_time": "2020-11-18T06:37:41.122401",
     "exception": false,
     "start_time": "2020-11-18T06:37:41.026247",
     "status": "completed"
    },
    "tags": []
   },
   "outputs": [
    {
     "data": {
      "text/plain": [
       "['video_duration',\n",
       " 'width',\n",
       " 'height',\n",
       " 'bitrate',\n",
       " 'framerate',\n",
       " 'i_frames',\n",
       " 'p_frames',\n",
       " 'b_frames',\n",
       " 'frames',\n",
       " 'i_size',\n",
       " 'p_size',\n",
       " 'b_size',\n",
       " 'size',\n",
       " 'bitrate_output',\n",
       " 'framerate_output',\n",
       " 'output_width',\n",
       " 'output_height',\n",
       " 'allocated _memory',\n",
       " 'flv',\n",
       " 'h264',\n",
       " 'mpeg4',\n",
       " 'vp8',\n",
       " 'flv_o',\n",
       " 'h264_o',\n",
       " 'mpeg4_o',\n",
       " 'vp8_o']"
      ]
     },
     "execution_count": 24,
     "metadata": {},
     "output_type": "execute_result"
    }
   ],
   "source": [
    "list(final_df.columns)[0:26]"
   ]
  },
  {
   "cell_type": "code",
   "execution_count": 25,
   "metadata": {
    "execution": {
     "iopub.execute_input": "2020-11-18T06:37:41.303606Z",
     "iopub.status.busy": "2020-11-18T06:37:41.302617Z",
     "iopub.status.idle": "2020-11-18T06:37:41.306209Z",
     "shell.execute_reply": "2020-11-18T06:37:41.306645Z"
    },
    "papermill": {
     "duration": 0.096734,
     "end_time": "2020-11-18T06:37:41.306786",
     "exception": false,
     "start_time": "2020-11-18T06:37:41.210052",
     "status": "completed"
    },
    "tags": []
   },
   "outputs": [],
   "source": [
    "final_df.drop(columns=['allocated _memory', 'size'], inplace = True)"
   ]
  },
  {
   "cell_type": "markdown",
   "metadata": {
    "papermill": {
     "duration": 0.085308,
     "end_time": "2020-11-18T06:37:41.479106",
     "exception": false,
     "start_time": "2020-11-18T06:37:41.393798",
     "status": "completed"
    },
    "tags": []
   },
   "source": [
    "**We will be dropping the allocated memory and size columns as those columsn have high irregularities and have poor co relation with the target variable**"
   ]
  },
  {
   "cell_type": "markdown",
   "metadata": {
    "papermill": {
     "duration": 0.084946,
     "end_time": "2020-11-18T06:37:41.649223",
     "exception": false,
     "start_time": "2020-11-18T06:37:41.564277",
     "status": "completed"
    },
    "tags": []
   },
   "source": [
    "## Data Preparation:\n",
    "**For this task we will use the train test split method from sklearn wich will segregate our data into training data and evaluation data we will keep the evaluation size 0.1 as we just want to check our model accuracy so that we can make any changes if needed**"
   ]
  },
  {
   "cell_type": "code",
   "execution_count": 26,
   "metadata": {
    "execution": {
     "iopub.execute_input": "2020-11-18T06:37:41.825795Z",
     "iopub.status.busy": "2020-11-18T06:37:41.825054Z",
     "iopub.status.idle": "2020-11-18T06:37:41.953904Z",
     "shell.execute_reply": "2020-11-18T06:37:41.953319Z"
    },
    "papermill": {
     "duration": 0.219561,
     "end_time": "2020-11-18T06:37:41.954018",
     "exception": false,
     "start_time": "2020-11-18T06:37:41.734457",
     "status": "completed"
    },
    "tags": []
   },
   "outputs": [],
   "source": [
    "from sklearn.model_selection import train_test_split\n",
    "\n",
    "X = final_df.iloc[:, 0:24].values\n",
    "Y = final_df.iloc[:, -1].values\n",
    "\n",
    "x_train, x_test, y_train, y_test = train_test_split(X, Y, test_size = 0.1)"
   ]
  },
  {
   "cell_type": "markdown",
   "metadata": {
    "papermill": {
     "duration": 0.086126,
     "end_time": "2020-11-18T06:37:42.125826",
     "exception": false,
     "start_time": "2020-11-18T06:37:42.039700",
     "status": "completed"
    },
    "tags": []
   },
   "source": [
    "## Model Selection:\n",
    "\n",
    "**As our Target Variable has continuous values we will make use of a Regression Model for this task we will be using the RandomForestRegression Model, Gradient Boost Regressor and Bagging Regressor from Sklearn.ensemble. We tried using other models like a LinearRegression model but that was giving a lower accuracry. We will be using the concept of weighted average for the final prediction.**"
   ]
  },
  {
   "cell_type": "code",
   "execution_count": 27,
   "metadata": {
    "execution": {
     "iopub.execute_input": "2020-11-18T06:37:42.349822Z",
     "iopub.status.busy": "2020-11-18T06:37:42.348939Z",
     "iopub.status.idle": "2020-11-18T06:38:02.782345Z",
     "shell.execute_reply": "2020-11-18T06:38:02.781649Z"
    },
    "papermill": {
     "duration": 20.536164,
     "end_time": "2020-11-18T06:38:02.782465",
     "exception": false,
     "start_time": "2020-11-18T06:37:42.246301",
     "status": "completed"
    },
    "tags": []
   },
   "outputs": [],
   "source": [
    "from sklearn.ensemble import RandomForestRegressor\n",
    "\n",
    "reg_1 = RandomForestRegressor(n_estimators=100)\n",
    "reg_1.fit(x_train, y_train)\n",
    "s_1 = reg_1.score(x_test, y_test)"
   ]
  },
  {
   "cell_type": "code",
   "execution_count": 28,
   "metadata": {
    "execution": {
     "iopub.execute_input": "2020-11-18T06:38:02.961547Z",
     "iopub.status.busy": "2020-11-18T06:38:02.960419Z",
     "iopub.status.idle": "2020-11-18T06:38:27.786851Z",
     "shell.execute_reply": "2020-11-18T06:38:27.786178Z"
    },
    "papermill": {
     "duration": 24.917749,
     "end_time": "2020-11-18T06:38:27.786966",
     "exception": false,
     "start_time": "2020-11-18T06:38:02.869217",
     "status": "completed"
    },
    "tags": []
   },
   "outputs": [],
   "source": [
    "from sklearn.ensemble import GradientBoostingRegressor\n",
    "\n",
    "reg_2 = GradientBoostingRegressor(loss='ls', learning_rate=0.50, n_estimators=128, max_depth = 11)\n",
    "reg_2.fit(x_train, y_train)\n",
    "s_2 = reg_2.score(x_test, y_test)"
   ]
  },
  {
   "cell_type": "code",
   "execution_count": 29,
   "metadata": {
    "execution": {
     "iopub.execute_input": "2020-11-18T06:38:27.970596Z",
     "iopub.status.busy": "2020-11-18T06:38:27.968672Z",
     "iopub.status.idle": "2020-11-18T06:38:55.223309Z",
     "shell.execute_reply": "2020-11-18T06:38:55.222669Z"
    },
    "papermill": {
     "duration": 27.349394,
     "end_time": "2020-11-18T06:38:55.223434",
     "exception": false,
     "start_time": "2020-11-18T06:38:27.874040",
     "status": "completed"
    },
    "tags": []
   },
   "outputs": [],
   "source": [
    "from sklearn.ensemble import BaggingRegressor\n",
    "\n",
    "reg_3 = BaggingRegressor(n_estimators=128)\n",
    "reg_3.fit(x_train, y_train)\n",
    "s_3 = reg_3.score(x_test, y_test)"
   ]
  },
  {
   "cell_type": "markdown",
   "metadata": {
    "papermill": {
     "duration": 0.086819,
     "end_time": "2020-11-18T06:38:55.396231",
     "exception": false,
     "start_time": "2020-11-18T06:38:55.309412",
     "status": "completed"
    },
    "tags": []
   },
   "source": [
    "**It is visilble that we are getting an accuracy of 98% or 99% across all the models which is a great accuracy and now very little can be done to improve it anymore so we will settle at this score and make predictions for our model using this regression model.**\n",
    "\n",
    "**Now we will train our model using the complete train data set.**"
   ]
  },
  {
   "cell_type": "code",
   "execution_count": 30,
   "metadata": {
    "execution": {
     "iopub.execute_input": "2020-11-18T06:38:55.576628Z",
     "iopub.status.busy": "2020-11-18T06:38:55.575856Z",
     "iopub.status.idle": "2020-11-18T06:40:15.077209Z",
     "shell.execute_reply": "2020-11-18T06:40:15.077746Z"
    },
    "papermill": {
     "duration": 79.595179,
     "end_time": "2020-11-18T06:40:15.077903",
     "exception": false,
     "start_time": "2020-11-18T06:38:55.482724",
     "status": "completed"
    },
    "tags": []
   },
   "outputs": [
    {
     "data": {
      "text/plain": [
       "BaggingRegressor(n_estimators=128)"
      ]
     },
     "execution_count": 30,
     "metadata": {},
     "output_type": "execute_result"
    }
   ],
   "source": [
    "x_train = final_df.iloc[:, 0:24].values\n",
    "y_train = final_df.iloc[:, -1].values\n",
    "\n",
    "\n",
    "reg_1.fit(x_train, y_train)\n",
    "reg_2.fit(x_train, y_train)\n",
    "reg_3.fit(x_train, y_train)"
   ]
  },
  {
   "cell_type": "markdown",
   "metadata": {
    "papermill": {
     "duration": 0.087028,
     "end_time": "2020-11-18T06:40:15.255328",
     "exception": false,
     "start_time": "2020-11-18T06:40:15.168300",
     "status": "completed"
    },
    "tags": []
   },
   "source": [
    "## Loading Test Data Set for making Prediction:\n",
    "\n",
    "**We will check all the null values and changethem to mean values this will be followed by one hot encoding the categorical data and then predicting the values for our task**"
   ]
  },
  {
   "cell_type": "code",
   "execution_count": 31,
   "metadata": {
    "execution": {
     "iopub.execute_input": "2020-11-18T06:40:15.438017Z",
     "iopub.status.busy": "2020-11-18T06:40:15.437329Z",
     "iopub.status.idle": "2020-11-18T06:40:15.517620Z",
     "shell.execute_reply": "2020-11-18T06:40:15.516950Z"
    },
    "papermill": {
     "duration": 0.173894,
     "end_time": "2020-11-18T06:40:15.517746",
     "exception": false,
     "start_time": "2020-11-18T06:40:15.343852",
     "status": "completed"
    },
    "tags": []
   },
   "outputs": [
    {
     "data": {
      "text/html": [
       "<div>\n",
       "<style scoped>\n",
       "    .dataframe tbody tr th:only-of-type {\n",
       "        vertical-align: middle;\n",
       "    }\n",
       "\n",
       "    .dataframe tbody tr th {\n",
       "        vertical-align: top;\n",
       "    }\n",
       "\n",
       "    .dataframe thead th {\n",
       "        text-align: right;\n",
       "    }\n",
       "</style>\n",
       "<table border=\"1\" class=\"dataframe\">\n",
       "  <thead>\n",
       "    <tr style=\"text-align: right;\">\n",
       "      <th></th>\n",
       "      <th>id</th>\n",
       "      <th>video_duration</th>\n",
       "      <th>coding_standard</th>\n",
       "      <th>width</th>\n",
       "      <th>height</th>\n",
       "      <th>bitrate</th>\n",
       "      <th>framerate</th>\n",
       "      <th>i_frames</th>\n",
       "      <th>p_frames</th>\n",
       "      <th>b_frames</th>\n",
       "      <th>...</th>\n",
       "      <th>i_size</th>\n",
       "      <th>p_size</th>\n",
       "      <th>b_size</th>\n",
       "      <th>size</th>\n",
       "      <th>coding_standard_output</th>\n",
       "      <th>bitrate_output</th>\n",
       "      <th>framerate_output</th>\n",
       "      <th>output_width</th>\n",
       "      <th>output_height</th>\n",
       "      <th>allocated _memory</th>\n",
       "    </tr>\n",
       "  </thead>\n",
       "  <tbody>\n",
       "    <tr>\n",
       "      <th>0</th>\n",
       "      <td>48151</td>\n",
       "      <td>130.35667</td>\n",
       "      <td>mpeg4</td>\n",
       "      <td>176.0</td>\n",
       "      <td>144.0</td>\n",
       "      <td>54590.0</td>\n",
       "      <td>12.0</td>\n",
       "      <td>27.0</td>\n",
       "      <td>1537.0</td>\n",
       "      <td>0.0</td>\n",
       "      <td>...</td>\n",
       "      <td>64483.0</td>\n",
       "      <td>825054.0</td>\n",
       "      <td>0.0</td>\n",
       "      <td>889537.0</td>\n",
       "      <td>mpeg4</td>\n",
       "      <td>56000.0</td>\n",
       "      <td>12.0</td>\n",
       "      <td>320.0</td>\n",
       "      <td>240.0</td>\n",
       "      <td>25164.0</td>\n",
       "    </tr>\n",
       "    <tr>\n",
       "      <th>1</th>\n",
       "      <td>48152</td>\n",
       "      <td>130.35667</td>\n",
       "      <td>mpeg4</td>\n",
       "      <td>176.0</td>\n",
       "      <td>144.0</td>\n",
       "      <td>54590.0</td>\n",
       "      <td>12.0</td>\n",
       "      <td>27.0</td>\n",
       "      <td>1537.0</td>\n",
       "      <td>0.0</td>\n",
       "      <td>...</td>\n",
       "      <td>64483.0</td>\n",
       "      <td>825054.0</td>\n",
       "      <td>0.0</td>\n",
       "      <td>889537.0</td>\n",
       "      <td>mpeg4</td>\n",
       "      <td>56000.0</td>\n",
       "      <td>12.0</td>\n",
       "      <td>1280.0</td>\n",
       "      <td>720.0</td>\n",
       "      <td>58528.0</td>\n",
       "    </tr>\n",
       "    <tr>\n",
       "      <th>2</th>\n",
       "      <td>48153</td>\n",
       "      <td>130.35667</td>\n",
       "      <td>mpeg4</td>\n",
       "      <td>176.0</td>\n",
       "      <td>144.0</td>\n",
       "      <td>54590.0</td>\n",
       "      <td>12.0</td>\n",
       "      <td>27.0</td>\n",
       "      <td>1537.0</td>\n",
       "      <td>0.0</td>\n",
       "      <td>...</td>\n",
       "      <td>64483.0</td>\n",
       "      <td>825054.0</td>\n",
       "      <td>0.0</td>\n",
       "      <td>889537.0</td>\n",
       "      <td>mpeg4</td>\n",
       "      <td>56000.0</td>\n",
       "      <td>12.0</td>\n",
       "      <td>1920.0</td>\n",
       "      <td>1080.0</td>\n",
       "      <td>102072.0</td>\n",
       "    </tr>\n",
       "    <tr>\n",
       "      <th>3</th>\n",
       "      <td>48154</td>\n",
       "      <td>130.35667</td>\n",
       "      <td>mpeg4</td>\n",
       "      <td>176.0</td>\n",
       "      <td>144.0</td>\n",
       "      <td>54590.0</td>\n",
       "      <td>12.0</td>\n",
       "      <td>27.0</td>\n",
       "      <td>1537.0</td>\n",
       "      <td>0.0</td>\n",
       "      <td>...</td>\n",
       "      <td>64483.0</td>\n",
       "      <td>825054.0</td>\n",
       "      <td>0.0</td>\n",
       "      <td>889537.0</td>\n",
       "      <td>mpeg4</td>\n",
       "      <td>56000.0</td>\n",
       "      <td>15.0</td>\n",
       "      <td>1920.0</td>\n",
       "      <td>1080.0</td>\n",
       "      <td>102072.0</td>\n",
       "    </tr>\n",
       "    <tr>\n",
       "      <th>4</th>\n",
       "      <td>48155</td>\n",
       "      <td>130.35667</td>\n",
       "      <td>mpeg4</td>\n",
       "      <td>176.0</td>\n",
       "      <td>144.0</td>\n",
       "      <td>54590.0</td>\n",
       "      <td>12.0</td>\n",
       "      <td>27.0</td>\n",
       "      <td>1537.0</td>\n",
       "      <td>0.0</td>\n",
       "      <td>...</td>\n",
       "      <td>64483.0</td>\n",
       "      <td>825054.0</td>\n",
       "      <td>0.0</td>\n",
       "      <td>889537.0</td>\n",
       "      <td>mpeg4</td>\n",
       "      <td>56000.0</td>\n",
       "      <td>25.0</td>\n",
       "      <td>640.0</td>\n",
       "      <td>480.0</td>\n",
       "      <td>34308.0</td>\n",
       "    </tr>\n",
       "  </tbody>\n",
       "</table>\n",
       "<p>5 rows × 21 columns</p>\n",
       "</div>"
      ],
      "text/plain": [
       "      id  video_duration coding_standard  width  height  bitrate  framerate  \\\n",
       "0  48151       130.35667           mpeg4  176.0   144.0  54590.0       12.0   \n",
       "1  48152       130.35667           mpeg4  176.0   144.0  54590.0       12.0   \n",
       "2  48153       130.35667           mpeg4  176.0   144.0  54590.0       12.0   \n",
       "3  48154       130.35667           mpeg4  176.0   144.0  54590.0       12.0   \n",
       "4  48155       130.35667           mpeg4  176.0   144.0  54590.0       12.0   \n",
       "\n",
       "   i_frames  p_frames  b_frames  ...   i_size    p_size  b_size      size  \\\n",
       "0      27.0    1537.0       0.0  ...  64483.0  825054.0     0.0  889537.0   \n",
       "1      27.0    1537.0       0.0  ...  64483.0  825054.0     0.0  889537.0   \n",
       "2      27.0    1537.0       0.0  ...  64483.0  825054.0     0.0  889537.0   \n",
       "3      27.0    1537.0       0.0  ...  64483.0  825054.0     0.0  889537.0   \n",
       "4      27.0    1537.0       0.0  ...  64483.0  825054.0     0.0  889537.0   \n",
       "\n",
       "   coding_standard_output bitrate_output  framerate_output  output_width  \\\n",
       "0                   mpeg4        56000.0              12.0         320.0   \n",
       "1                   mpeg4        56000.0              12.0        1280.0   \n",
       "2                   mpeg4        56000.0              12.0        1920.0   \n",
       "3                   mpeg4        56000.0              15.0        1920.0   \n",
       "4                   mpeg4        56000.0              25.0         640.0   \n",
       "\n",
       "   output_height  allocated _memory  \n",
       "0          240.0            25164.0  \n",
       "1          720.0            58528.0  \n",
       "2         1080.0           102072.0  \n",
       "3         1080.0           102072.0  \n",
       "4          480.0            34308.0  \n",
       "\n",
       "[5 rows x 21 columns]"
      ]
     },
     "execution_count": 31,
     "metadata": {},
     "output_type": "execute_result"
    }
   ],
   "source": [
    "test_df = pd.read_csv('/kaggle/input/vishwatatva-datacon-2020/test.csv')\n",
    "test_df.head()"
   ]
  },
  {
   "cell_type": "code",
   "execution_count": 32,
   "metadata": {
    "execution": {
     "iopub.execute_input": "2020-11-18T06:40:15.701366Z",
     "iopub.status.busy": "2020-11-18T06:40:15.700710Z",
     "iopub.status.idle": "2020-11-18T06:40:15.709590Z",
     "shell.execute_reply": "2020-11-18T06:40:15.709059Z"
    },
    "papermill": {
     "duration": 0.103452,
     "end_time": "2020-11-18T06:40:15.709709",
     "exception": false,
     "start_time": "2020-11-18T06:40:15.606257",
     "status": "completed"
    },
    "tags": []
   },
   "outputs": [
    {
     "data": {
      "text/html": [
       "<div>\n",
       "<style scoped>\n",
       "    .dataframe tbody tr th:only-of-type {\n",
       "        vertical-align: middle;\n",
       "    }\n",
       "\n",
       "    .dataframe tbody tr th {\n",
       "        vertical-align: top;\n",
       "    }\n",
       "\n",
       "    .dataframe thead th {\n",
       "        text-align: right;\n",
       "    }\n",
       "</style>\n",
       "<table border=\"1\" class=\"dataframe\">\n",
       "  <thead>\n",
       "    <tr style=\"text-align: right;\">\n",
       "      <th></th>\n",
       "      <th>flv</th>\n",
       "      <th>h264</th>\n",
       "      <th>mpeg4</th>\n",
       "      <th>vp8</th>\n",
       "    </tr>\n",
       "  </thead>\n",
       "  <tbody>\n",
       "    <tr>\n",
       "      <th>0</th>\n",
       "      <td>0</td>\n",
       "      <td>0</td>\n",
       "      <td>1</td>\n",
       "      <td>0</td>\n",
       "    </tr>\n",
       "    <tr>\n",
       "      <th>1</th>\n",
       "      <td>0</td>\n",
       "      <td>0</td>\n",
       "      <td>1</td>\n",
       "      <td>0</td>\n",
       "    </tr>\n",
       "    <tr>\n",
       "      <th>2</th>\n",
       "      <td>0</td>\n",
       "      <td>0</td>\n",
       "      <td>1</td>\n",
       "      <td>0</td>\n",
       "    </tr>\n",
       "    <tr>\n",
       "      <th>3</th>\n",
       "      <td>0</td>\n",
       "      <td>0</td>\n",
       "      <td>1</td>\n",
       "      <td>0</td>\n",
       "    </tr>\n",
       "    <tr>\n",
       "      <th>4</th>\n",
       "      <td>0</td>\n",
       "      <td>0</td>\n",
       "      <td>1</td>\n",
       "      <td>0</td>\n",
       "    </tr>\n",
       "  </tbody>\n",
       "</table>\n",
       "</div>"
      ],
      "text/plain": [
       "   flv  h264  mpeg4  vp8\n",
       "0    0     0      1    0\n",
       "1    0     0      1    0\n",
       "2    0     0      1    0\n",
       "3    0     0      1    0\n",
       "4    0     0      1    0"
      ]
     },
     "execution_count": 32,
     "metadata": {},
     "output_type": "execute_result"
    }
   ],
   "source": [
    "df_test_1 = pd.get_dummies(test_df[\"coding_standard\"])\n",
    "df_test_1.head()"
   ]
  },
  {
   "cell_type": "code",
   "execution_count": 33,
   "metadata": {
    "execution": {
     "iopub.execute_input": "2020-11-18T06:40:15.898441Z",
     "iopub.status.busy": "2020-11-18T06:40:15.897735Z",
     "iopub.status.idle": "2020-11-18T06:40:15.907546Z",
     "shell.execute_reply": "2020-11-18T06:40:15.906906Z"
    },
    "papermill": {
     "duration": 0.106441,
     "end_time": "2020-11-18T06:40:15.907659",
     "exception": false,
     "start_time": "2020-11-18T06:40:15.801218",
     "status": "completed"
    },
    "tags": []
   },
   "outputs": [
    {
     "data": {
      "text/html": [
       "<div>\n",
       "<style scoped>\n",
       "    .dataframe tbody tr th:only-of-type {\n",
       "        vertical-align: middle;\n",
       "    }\n",
       "\n",
       "    .dataframe tbody tr th {\n",
       "        vertical-align: top;\n",
       "    }\n",
       "\n",
       "    .dataframe thead th {\n",
       "        text-align: right;\n",
       "    }\n",
       "</style>\n",
       "<table border=\"1\" class=\"dataframe\">\n",
       "  <thead>\n",
       "    <tr style=\"text-align: right;\">\n",
       "      <th></th>\n",
       "      <th>flv_o</th>\n",
       "      <th>h264_o</th>\n",
       "      <th>mpeg4_o</th>\n",
       "      <th>vp8_o</th>\n",
       "    </tr>\n",
       "  </thead>\n",
       "  <tbody>\n",
       "    <tr>\n",
       "      <th>0</th>\n",
       "      <td>0</td>\n",
       "      <td>0</td>\n",
       "      <td>1</td>\n",
       "      <td>0</td>\n",
       "    </tr>\n",
       "    <tr>\n",
       "      <th>1</th>\n",
       "      <td>0</td>\n",
       "      <td>0</td>\n",
       "      <td>1</td>\n",
       "      <td>0</td>\n",
       "    </tr>\n",
       "    <tr>\n",
       "      <th>2</th>\n",
       "      <td>0</td>\n",
       "      <td>0</td>\n",
       "      <td>1</td>\n",
       "      <td>0</td>\n",
       "    </tr>\n",
       "    <tr>\n",
       "      <th>3</th>\n",
       "      <td>0</td>\n",
       "      <td>0</td>\n",
       "      <td>1</td>\n",
       "      <td>0</td>\n",
       "    </tr>\n",
       "    <tr>\n",
       "      <th>4</th>\n",
       "      <td>0</td>\n",
       "      <td>0</td>\n",
       "      <td>1</td>\n",
       "      <td>0</td>\n",
       "    </tr>\n",
       "  </tbody>\n",
       "</table>\n",
       "</div>"
      ],
      "text/plain": [
       "   flv_o  h264_o  mpeg4_o  vp8_o\n",
       "0      0       0        1      0\n",
       "1      0       0        1      0\n",
       "2      0       0        1      0\n",
       "3      0       0        1      0\n",
       "4      0       0        1      0"
      ]
     },
     "execution_count": 33,
     "metadata": {},
     "output_type": "execute_result"
    }
   ],
   "source": [
    "df_test_2 = pd.get_dummies(test_df[\"coding_standard_output\"])\n",
    "df_test_2.rename({\"flv\":\"flv_o\", \"h264\":\"h264_o\", \"mpeg4\":\"mpeg4_o\", \"vp8\":\"vp8_o\"}, axis=\"columns\",inplace=True)\n",
    "df_test_2.head()"
   ]
  },
  {
   "cell_type": "code",
   "execution_count": 34,
   "metadata": {
    "execution": {
     "iopub.execute_input": "2020-11-18T06:40:16.125245Z",
     "iopub.status.busy": "2020-11-18T06:40:16.124490Z",
     "iopub.status.idle": "2020-11-18T06:40:16.155255Z",
     "shell.execute_reply": "2020-11-18T06:40:16.156085Z"
    },
    "papermill": {
     "duration": 0.144169,
     "end_time": "2020-11-18T06:40:16.156326",
     "exception": false,
     "start_time": "2020-11-18T06:40:16.012157",
     "status": "completed"
    },
    "tags": []
   },
   "outputs": [
    {
     "data": {
      "text/html": [
       "<div>\n",
       "<style scoped>\n",
       "    .dataframe tbody tr th:only-of-type {\n",
       "        vertical-align: middle;\n",
       "    }\n",
       "\n",
       "    .dataframe tbody tr th {\n",
       "        vertical-align: top;\n",
       "    }\n",
       "\n",
       "    .dataframe thead th {\n",
       "        text-align: right;\n",
       "    }\n",
       "</style>\n",
       "<table border=\"1\" class=\"dataframe\">\n",
       "  <thead>\n",
       "    <tr style=\"text-align: right;\">\n",
       "      <th></th>\n",
       "      <th>video_duration</th>\n",
       "      <th>width</th>\n",
       "      <th>height</th>\n",
       "      <th>bitrate</th>\n",
       "      <th>framerate</th>\n",
       "      <th>i_frames</th>\n",
       "      <th>p_frames</th>\n",
       "      <th>b_frames</th>\n",
       "      <th>frames</th>\n",
       "      <th>i_size</th>\n",
       "      <th>...</th>\n",
       "      <th>output_height</th>\n",
       "      <th>allocated _memory</th>\n",
       "      <th>flv</th>\n",
       "      <th>h264</th>\n",
       "      <th>mpeg4</th>\n",
       "      <th>vp8</th>\n",
       "      <th>flv_o</th>\n",
       "      <th>h264_o</th>\n",
       "      <th>mpeg4_o</th>\n",
       "      <th>vp8_o</th>\n",
       "    </tr>\n",
       "  </thead>\n",
       "  <tbody>\n",
       "    <tr>\n",
       "      <th>0</th>\n",
       "      <td>130.35667</td>\n",
       "      <td>176.0</td>\n",
       "      <td>144.0</td>\n",
       "      <td>54590.0</td>\n",
       "      <td>12.0</td>\n",
       "      <td>27.0</td>\n",
       "      <td>1537.0</td>\n",
       "      <td>0.0</td>\n",
       "      <td>1564.0</td>\n",
       "      <td>64483.0</td>\n",
       "      <td>...</td>\n",
       "      <td>240.0</td>\n",
       "      <td>25164.0</td>\n",
       "      <td>0</td>\n",
       "      <td>0</td>\n",
       "      <td>1</td>\n",
       "      <td>0</td>\n",
       "      <td>0</td>\n",
       "      <td>0</td>\n",
       "      <td>1</td>\n",
       "      <td>0</td>\n",
       "    </tr>\n",
       "    <tr>\n",
       "      <th>1</th>\n",
       "      <td>130.35667</td>\n",
       "      <td>176.0</td>\n",
       "      <td>144.0</td>\n",
       "      <td>54590.0</td>\n",
       "      <td>12.0</td>\n",
       "      <td>27.0</td>\n",
       "      <td>1537.0</td>\n",
       "      <td>0.0</td>\n",
       "      <td>1564.0</td>\n",
       "      <td>64483.0</td>\n",
       "      <td>...</td>\n",
       "      <td>720.0</td>\n",
       "      <td>58528.0</td>\n",
       "      <td>0</td>\n",
       "      <td>0</td>\n",
       "      <td>1</td>\n",
       "      <td>0</td>\n",
       "      <td>0</td>\n",
       "      <td>0</td>\n",
       "      <td>1</td>\n",
       "      <td>0</td>\n",
       "    </tr>\n",
       "    <tr>\n",
       "      <th>2</th>\n",
       "      <td>130.35667</td>\n",
       "      <td>176.0</td>\n",
       "      <td>144.0</td>\n",
       "      <td>54590.0</td>\n",
       "      <td>12.0</td>\n",
       "      <td>27.0</td>\n",
       "      <td>1537.0</td>\n",
       "      <td>0.0</td>\n",
       "      <td>1564.0</td>\n",
       "      <td>64483.0</td>\n",
       "      <td>...</td>\n",
       "      <td>1080.0</td>\n",
       "      <td>102072.0</td>\n",
       "      <td>0</td>\n",
       "      <td>0</td>\n",
       "      <td>1</td>\n",
       "      <td>0</td>\n",
       "      <td>0</td>\n",
       "      <td>0</td>\n",
       "      <td>1</td>\n",
       "      <td>0</td>\n",
       "    </tr>\n",
       "    <tr>\n",
       "      <th>3</th>\n",
       "      <td>130.35667</td>\n",
       "      <td>176.0</td>\n",
       "      <td>144.0</td>\n",
       "      <td>54590.0</td>\n",
       "      <td>12.0</td>\n",
       "      <td>27.0</td>\n",
       "      <td>1537.0</td>\n",
       "      <td>0.0</td>\n",
       "      <td>1564.0</td>\n",
       "      <td>64483.0</td>\n",
       "      <td>...</td>\n",
       "      <td>1080.0</td>\n",
       "      <td>102072.0</td>\n",
       "      <td>0</td>\n",
       "      <td>0</td>\n",
       "      <td>1</td>\n",
       "      <td>0</td>\n",
       "      <td>0</td>\n",
       "      <td>0</td>\n",
       "      <td>1</td>\n",
       "      <td>0</td>\n",
       "    </tr>\n",
       "    <tr>\n",
       "      <th>4</th>\n",
       "      <td>130.35667</td>\n",
       "      <td>176.0</td>\n",
       "      <td>144.0</td>\n",
       "      <td>54590.0</td>\n",
       "      <td>12.0</td>\n",
       "      <td>27.0</td>\n",
       "      <td>1537.0</td>\n",
       "      <td>0.0</td>\n",
       "      <td>1564.0</td>\n",
       "      <td>64483.0</td>\n",
       "      <td>...</td>\n",
       "      <td>480.0</td>\n",
       "      <td>34308.0</td>\n",
       "      <td>0</td>\n",
       "      <td>0</td>\n",
       "      <td>1</td>\n",
       "      <td>0</td>\n",
       "      <td>0</td>\n",
       "      <td>0</td>\n",
       "      <td>1</td>\n",
       "      <td>0</td>\n",
       "    </tr>\n",
       "  </tbody>\n",
       "</table>\n",
       "<p>5 rows × 26 columns</p>\n",
       "</div>"
      ],
      "text/plain": [
       "   video_duration  width  height  bitrate  framerate  i_frames  p_frames  \\\n",
       "0       130.35667  176.0   144.0  54590.0       12.0      27.0    1537.0   \n",
       "1       130.35667  176.0   144.0  54590.0       12.0      27.0    1537.0   \n",
       "2       130.35667  176.0   144.0  54590.0       12.0      27.0    1537.0   \n",
       "3       130.35667  176.0   144.0  54590.0       12.0      27.0    1537.0   \n",
       "4       130.35667  176.0   144.0  54590.0       12.0      27.0    1537.0   \n",
       "\n",
       "   b_frames  frames   i_size  ...  output_height  allocated _memory  flv  \\\n",
       "0       0.0  1564.0  64483.0  ...          240.0            25164.0    0   \n",
       "1       0.0  1564.0  64483.0  ...          720.0            58528.0    0   \n",
       "2       0.0  1564.0  64483.0  ...         1080.0           102072.0    0   \n",
       "3       0.0  1564.0  64483.0  ...         1080.0           102072.0    0   \n",
       "4       0.0  1564.0  64483.0  ...          480.0            34308.0    0   \n",
       "\n",
       "   h264  mpeg4  vp8  flv_o  h264_o  mpeg4_o  vp8_o  \n",
       "0     0      1    0      0       0        1      0  \n",
       "1     0      1    0      0       0        1      0  \n",
       "2     0      1    0      0       0        1      0  \n",
       "3     0      1    0      0       0        1      0  \n",
       "4     0      1    0      0       0        1      0  \n",
       "\n",
       "[5 rows x 26 columns]"
      ]
     },
     "execution_count": 34,
     "metadata": {},
     "output_type": "execute_result"
    }
   ],
   "source": [
    "ids = list(test_df['id'])\n",
    "test_df.drop(columns=['id', 'coding_standard', 'coding_standard_output'], inplace=True)\n",
    "test_df = pd.concat([test_df, df_test_1],axis = 1)\n",
    "test_df = pd.concat([test_df, df_test_2],axis = 1)\n",
    "test_df.head()"
   ]
  },
  {
   "cell_type": "code",
   "execution_count": 35,
   "metadata": {
    "execution": {
     "iopub.execute_input": "2020-11-18T06:40:16.399351Z",
     "iopub.status.busy": "2020-11-18T06:40:16.398706Z",
     "iopub.status.idle": "2020-11-18T06:40:16.409834Z",
     "shell.execute_reply": "2020-11-18T06:40:16.409167Z"
    },
    "papermill": {
     "duration": 0.137054,
     "end_time": "2020-11-18T06:40:16.409977",
     "exception": false,
     "start_time": "2020-11-18T06:40:16.272923",
     "status": "completed"
    },
    "tags": []
   },
   "outputs": [
    {
     "data": {
      "text/plain": [
       "video_duration        5\n",
       "width                 4\n",
       "height                2\n",
       "bitrate               9\n",
       "framerate            13\n",
       "i_frames             11\n",
       "p_frames              3\n",
       "b_frames              9\n",
       "frames               10\n",
       "i_size                8\n",
       "p_size                9\n",
       "b_size                2\n",
       "size                 13\n",
       "bitrate_output        5\n",
       "framerate_output      8\n",
       "output_width          5\n",
       "output_height         7\n",
       "allocated _memory     2\n",
       "flv                   0\n",
       "h264                  0\n",
       "mpeg4                 0\n",
       "vp8                   0\n",
       "flv_o                 0\n",
       "h264_o                0\n",
       "mpeg4_o               0\n",
       "vp8_o                 0\n",
       "dtype: int64"
      ]
     },
     "execution_count": 35,
     "metadata": {},
     "output_type": "execute_result"
    }
   ],
   "source": [
    "test_df.isnull().sum()"
   ]
  },
  {
   "cell_type": "code",
   "execution_count": 36,
   "metadata": {
    "execution": {
     "iopub.execute_input": "2020-11-18T06:40:16.606036Z",
     "iopub.status.busy": "2020-11-18T06:40:16.604970Z",
     "iopub.status.idle": "2020-11-18T06:40:16.617362Z",
     "shell.execute_reply": "2020-11-18T06:40:16.616728Z"
    },
    "papermill": {
     "duration": 0.113836,
     "end_time": "2020-11-18T06:40:16.617478",
     "exception": false,
     "start_time": "2020-11-18T06:40:16.503642",
     "status": "completed"
    },
    "tags": []
   },
   "outputs": [],
   "source": [
    "def replace_nan():\n",
    "    for i in range(0, 18):\n",
    "        try:\n",
    "            mean = test_df.iloc[:, i].mean(skipna=True)\n",
    "            test_df.iloc[:, i].fillna(mean, inplace = True)\n",
    "        except TypeError:\n",
    "            pass\n",
    "replace_nan()"
   ]
  },
  {
   "cell_type": "markdown",
   "metadata": {
    "papermill": {
     "duration": 0.098501,
     "end_time": "2020-11-18T06:40:16.809236",
     "exception": false,
     "start_time": "2020-11-18T06:40:16.710735",
     "status": "completed"
    },
    "tags": []
   },
   "source": [
    "**Checking for all the null values and confirming if there are any more null values.**"
   ]
  },
  {
   "cell_type": "code",
   "execution_count": 37,
   "metadata": {
    "execution": {
     "iopub.execute_input": "2020-11-18T06:40:17.002991Z",
     "iopub.status.busy": "2020-11-18T06:40:17.001987Z",
     "iopub.status.idle": "2020-11-18T06:40:17.011055Z",
     "shell.execute_reply": "2020-11-18T06:40:17.010549Z"
    },
    "papermill": {
     "duration": 0.108878,
     "end_time": "2020-11-18T06:40:17.011202",
     "exception": false,
     "start_time": "2020-11-18T06:40:16.902324",
     "status": "completed"
    },
    "tags": []
   },
   "outputs": [
    {
     "data": {
      "text/plain": [
       "video_duration       0\n",
       "width                0\n",
       "height               0\n",
       "bitrate              0\n",
       "framerate            0\n",
       "i_frames             0\n",
       "p_frames             0\n",
       "b_frames             0\n",
       "frames               0\n",
       "i_size               0\n",
       "p_size               0\n",
       "b_size               0\n",
       "size                 0\n",
       "bitrate_output       0\n",
       "framerate_output     0\n",
       "output_width         0\n",
       "output_height        0\n",
       "allocated _memory    0\n",
       "flv                  0\n",
       "h264                 0\n",
       "mpeg4                0\n",
       "vp8                  0\n",
       "flv_o                0\n",
       "h264_o               0\n",
       "mpeg4_o              0\n",
       "vp8_o                0\n",
       "dtype: int64"
      ]
     },
     "execution_count": 37,
     "metadata": {},
     "output_type": "execute_result"
    }
   ],
   "source": [
    "test_df.isnull().sum()"
   ]
  },
  {
   "cell_type": "code",
   "execution_count": 38,
   "metadata": {
    "execution": {
     "iopub.execute_input": "2020-11-18T06:40:17.203909Z",
     "iopub.status.busy": "2020-11-18T06:40:17.203183Z",
     "iopub.status.idle": "2020-11-18T06:40:17.208012Z",
     "shell.execute_reply": "2020-11-18T06:40:17.207454Z"
    },
    "papermill": {
     "duration": 0.103207,
     "end_time": "2020-11-18T06:40:17.208140",
     "exception": false,
     "start_time": "2020-11-18T06:40:17.104933",
     "status": "completed"
    },
    "tags": []
   },
   "outputs": [],
   "source": [
    "test_df.drop(columns=['allocated _memory', 'size'], inplace=True)"
   ]
  },
  {
   "cell_type": "markdown",
   "metadata": {
    "papermill": {
     "duration": 0.091528,
     "end_time": "2020-11-18T06:40:17.391321",
     "exception": false,
     "start_time": "2020-11-18T06:40:17.299793",
     "status": "completed"
    },
    "tags": []
   },
   "source": [
    "**Dropping the unecessary columns like the allocated memory and size.**"
   ]
  },
  {
   "cell_type": "markdown",
   "metadata": {
    "papermill": {
     "duration": 0.091722,
     "end_time": "2020-11-18T06:40:17.574481",
     "exception": false,
     "start_time": "2020-11-18T06:40:17.482759",
     "status": "completed"
    },
    "tags": []
   },
   "source": [
    "## Weighted Average of all three Models:\n",
    "\n",
    "1. Random Forest\n",
    "2. Gradient Boost\n",
    "3. Bagging Regressor"
   ]
  },
  {
   "cell_type": "code",
   "execution_count": 39,
   "metadata": {
    "execution": {
     "iopub.execute_input": "2020-11-18T06:40:17.764793Z",
     "iopub.status.busy": "2020-11-18T06:40:17.764150Z",
     "iopub.status.idle": "2020-11-18T06:40:19.300470Z",
     "shell.execute_reply": "2020-11-18T06:40:19.299905Z"
    },
    "papermill": {
     "duration": 1.634268,
     "end_time": "2020-11-18T06:40:19.300597",
     "exception": false,
     "start_time": "2020-11-18T06:40:17.666329",
     "status": "completed"
    },
    "tags": []
   },
   "outputs": [],
   "source": [
    "x = test_df.iloc[:, 0:24].values\n",
    "prediction_1 = np.array(reg_1.predict(x))\n",
    "prediction_2 = np.array(reg_2.predict(x))\n",
    "prediction_3 = np.array(reg_3.predict(x))\n",
    "# Formula\n",
    "prediction = (prediction_1*s_1 + prediction_2*s_2 + prediction_3*s_3)/(s_1+s_2+s_3)"
   ]
  },
  {
   "cell_type": "markdown",
   "metadata": {
    "papermill": {
     "duration": 0.090666,
     "end_time": "2020-11-18T06:40:19.483843",
     "exception": false,
     "start_time": "2020-11-18T06:40:19.393177",
     "status": "completed"
    },
    "tags": []
   },
   "source": [
    "**Finally Predicting the values and creating a file called submission.csv**"
   ]
  },
  {
   "cell_type": "code",
   "execution_count": 40,
   "metadata": {
    "execution": {
     "iopub.execute_input": "2020-11-18T06:40:19.677759Z",
     "iopub.status.busy": "2020-11-18T06:40:19.677076Z",
     "iopub.status.idle": "2020-11-18T06:40:19.992216Z",
     "shell.execute_reply": "2020-11-18T06:40:19.992774Z"
    },
    "papermill": {
     "duration": 0.418234,
     "end_time": "2020-11-18T06:40:19.992952",
     "exception": false,
     "start_time": "2020-11-18T06:40:19.574718",
     "status": "completed"
    },
    "tags": []
   },
   "outputs": [],
   "source": [
    "sub = pd.DataFrame({'id':ids, 'total_processing_time':prediction})\n",
    "sub.to_csv(\"Submission.csv\", index=False)"
   ]
  },
  {
   "cell_type": "markdown",
   "metadata": {
    "papermill": {
     "duration": 0.098608,
     "end_time": "2020-11-18T06:40:20.184293",
     "exception": false,
     "start_time": "2020-11-18T06:40:20.085685",
     "status": "completed"
    },
    "tags": []
   },
   "source": [
    "##### **Task Has been Successfully completed. with score ranging in category of 95-100%**"
   ]
  }
 ],
 "metadata": {
  "kernelspec": {
   "display_name": "Python 3",
   "language": "python",
   "name": "python3"
  },
  "language_info": {
   "codemirror_mode": {
    "name": "ipython",
    "version": 3
   },
   "file_extension": ".py",
   "mimetype": "text/x-python",
   "name": "python",
   "nbconvert_exporter": "python",
   "pygments_lexer": "ipython3",
   "version": "3.7.6"
  },
  "papermill": {
   "duration": 188.270007,
   "end_time": "2020-11-18T06:40:20.381985",
   "environment_variables": {},
   "exception": null,
   "input_path": "__notebook__.ipynb",
   "output_path": "__notebook__.ipynb",
   "parameters": {},
   "start_time": "2020-11-18T06:37:12.111978",
   "version": "2.1.0"
  }
 },
 "nbformat": 4,
 "nbformat_minor": 4
}
